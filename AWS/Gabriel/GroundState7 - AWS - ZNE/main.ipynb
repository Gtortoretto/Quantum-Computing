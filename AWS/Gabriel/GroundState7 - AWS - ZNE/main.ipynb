{
 "cells": [
  {
   "cell_type": "markdown",
   "metadata": {},
   "source": [
    "# Setup Inicial"
   ]
  },
  {
   "cell_type": "code",
   "execution_count": 1,
   "metadata": {},
   "outputs": [],
   "source": [
    "#Python Default \n",
    "\n",
    "import warnings\n",
    "\n",
    "warnings.filterwarnings('ignore', category=DeprecationWarning)\n",
    "\n",
    "import pickle\n",
    "import time\n",
    "import random\n",
    "import os\n",
    "import inspect\n",
    "import pathlib\n",
    "import math\n",
    "\n",
    "#Essentials\n",
    "\n",
    "import IPython\n",
    "import numpy as np\n",
    "from bs4 import BeautifulSoup\n",
    "import requests\n",
    "import func_timeout\n",
    "import pandas as pd\n",
    "from itables import show\n",
    "from scipy.optimize import curve_fit\n",
    "\n",
    "#from objproxies import *\n",
    "\n",
    "import matplotlib.pyplot as plt\n",
    "\n",
    "#Qiskit\n",
    "\n",
    "import qiskit\n",
    "from qiskit.circuit import Gate\n",
    "from qiskit.circuit.library import *\n",
    "from qiskit import transpile\n",
    "from qiskit.providers.models import *\n",
    "from qiskit_ibm_runtime.fake_provider import *\n",
    "from qiskit.providers.fake_provider import *\n",
    "from qiskit.quantum_info import Statevector\n",
    "from qiskit import QuantumCircuit\n",
    "from qiskit_aer import StatevectorSimulator\n",
    "import qiskit_aer\n",
    "\n",
    "## Qiskit Nature\n",
    "    \n",
    "from qiskit_nature.units import *   #ANGSTROM\n",
    "\n",
    "from qiskit_nature.second_q.drivers import *    #PySCFDriver\n",
    "\n",
    "from qiskit_nature.second_q.mappers import * #JordanWignerMapper\n",
    "\n",
    "from qiskit_nature.second_q.algorithms import GroundStateEigensolver\n",
    "\n",
    "from qiskit_nature.second_q.problems import ElectronicStructureProblem\n",
    "from qiskit_nature.second_q.problems import EigenstateResult\n",
    "\n",
    "from qiskit_nature.second_q.circuit.library import *  #Ansatz, HF\n",
    "\n",
    "\n",
    "## Qiskit Algorithms\n",
    "    \n",
    "from qiskit_algorithms.minimum_eigensolvers import VQE as  VQE_algorithms   #VQE\n",
    " \n",
    "from qiskit_algorithms.optimizers import *    #SLSQP\n",
    "\n",
    "from qiskit.circuit.library import EfficientSU2   #EfficientSU2\n",
    "\n",
    "## Qiskit Estimators\n",
    "\n",
    "from qiskit.primitives import Estimator as Estimator_Nature\n",
    "\n",
    "from qiskit_aer.primitives.estimator import Estimator as Estimator_Aer\n",
    "\n",
    "from qiskit_ibm_runtime import Estimator \n",
    "\n",
    "from qiskit_ibm_runtime import EstimatorV2\n",
    "\n",
    "## Qiskit Noise Models\n",
    "\n",
    "from qiskit_aer.noise import NoiseModel\n",
    "\n",
    "from qiskit.providers.fake_provider import *\n",
    "\n",
    "##Qiskit Runtime IBM\n",
    "\n",
    "from qiskit_ibm_runtime import QiskitRuntimeService, Session, Options, Batch\n",
    "\n",
    "## Braket\n",
    "\n",
    "from braket.tracking import Tracker\n",
    "from qiskit_braket_provider import *\n",
    "from braket.aws import AwsDevice\n",
    "from braket.devices import Devices\n",
    "from braket.aws import AwsDevice, AwsQuantumTask\n",
    "\n",
    "## Mitiq \n",
    "\n",
    "from mitiq import zne\n",
    "\n",
    "\n",
    "%matplotlib widget\n",
    "#%matplotlib inline"
   ]
  },
  {
   "cell_type": "code",
   "execution_count": 2,
   "metadata": {},
   "outputs": [],
   "source": [
    "# Backends\n",
    "\n",
    "provider = BraketProvider()\n",
    "local_simulator = BraketLocalBackend()\n",
    "sv1 = provider.get_backend(\"SV1\")\n",
    "aria = provider.get_backend(\"Aria 1\")\n",
    "harmony = provider.get_backend(\"Harmony\")\n",
    "statevector_simulator = StatevectorSimulator()\n",
    "\n",
    "# Setup inicial do problema\n",
    "\n",
    "driver = PySCFDriver(\n",
    "    atom= f\"H 0 0 0; H 0 0 1\",\n",
    "    basis=\"sto3g\",\n",
    "    charge=0,\n",
    "    spin=0,\n",
    "    unit=DistanceUnit.ANGSTROM,\n",
    ")\n",
    "\n",
    "es_problem = driver.run()\n",
    "\n",
    "#estimator = Estimator(backend = local_simulator, options={\"shots\" : 2000, \"noise_model\" : noise_model, \"coupling_map\" : coupling_map})\n",
    "\n",
    "estimator = Estimator(backend = local_simulator)\n",
    "\n",
    "mapper = JordanWignerMapper()\n",
    "\n",
    "ansatz = UCCSD(\n",
    "    es_problem.num_spatial_orbitals,\n",
    "    es_problem.num_particles,\n",
    "    mapper,\n",
    "    initial_state=HartreeFock(\n",
    "        es_problem.num_spatial_orbitals,\n",
    "        es_problem.num_particles,\n",
    "        mapper,\n",
    "    ),\n",
    ")\n",
    "\n",
    "vqe_solver = VQE_algorithms(estimator, ansatz, COBYLA())\n",
    "\n",
    "vqe_solver.initial_point = [0.0] * ansatz.num_parameters\n",
    "\n",
    "calc = GroundStateEigensolver(mapper, vqe_solver)\n",
    "\n",
    "minimum_eigenvalue = vqe_solver.compute_minimum_eigenvalue(calc.get_qubit_operators(es_problem)[0])\n",
    "\n",
    "# Criando Circuito Aria - AWS\n",
    "\n",
    "circuito = transpile(minimum_eigenvalue.optimal_circuit.decompose().assign_parameters(minimum_eigenvalue.optimal_parameters), aria)\n",
    "\n",
    "# Criando Circuito Brisbane - IBM\n",
    "\n",
    "service = QiskitRuntimeService()\n",
    "backend = service.backend(\"ibm_brisbane\")\n",
    "noise_model = NoiseModel.from_backend(backend)\n",
    "coupling_map = backend.configuration().coupling_map\n",
    "basis_gates = noise_model.basis_gates\n",
    "\n",
    "circuito_ibm = transpile(minimum_eigenvalue.optimal_circuit.decompose().assign_parameters(minimum_eigenvalue.optimal_parameters), backend)\n",
    "\n",
    "hamiltoniano = es_problem.second_q_ops()[0]\n",
    "\n",
    "num_qubits_hamiltonian = JordanWignerMapper().map(hamiltoniano).num_qubits\n",
    "\n",
    "new_circuit = QuantumCircuit(num_qubits_hamiltonian)\n",
    "\n",
    "for gate in circuito_ibm.data:\n",
    "\n",
    "    if all(circuito_ibm.qubits.index(qubit) < num_qubits_hamiltonian for qubit in gate[1]):\n",
    "        new_circuit.append(gate[0], [circuito_ibm.qubits.index(qubit) for qubit in gate[1]])\n",
    "\n",
    "circuito_ibm = new_circuit"
   ]
  },
  {
   "cell_type": "markdown",
   "metadata": {},
   "source": [
    "# Funções Globais"
   ]
  },
  {
   "cell_type": "code",
   "execution_count": 3,
   "metadata": {},
   "outputs": [],
   "source": [
    "def get_current_directory():\n",
    "    try:\n",
    "        \n",
    "        directory = os.path.dirname(os.path.abspath(__file__))\n",
    "\n",
    "    except:\n",
    "        \n",
    "        ip = IPython.get_ipython()\n",
    "        directory = None\n",
    "        if '__vsc_ipynb_file__' in ip.user_ns:\n",
    "            directory = os.path.dirname(ip.user_ns['__vsc_ipynb_file__'])\n",
    "        \n",
    "    return directory \n",
    "\n",
    "\n",
    "def salvar(a):\n",
    "    \n",
    "    script_dir = get_current_directory()\n",
    "    \n",
    "    dados_dir = os.path.join(script_dir, 'dados')\n",
    "    \n",
    "    os.makedirs(dados_dir, exist_ok=True)\n",
    "    \n",
    "    file_path = os.path.join(dados_dir, f'{a}.pickle')\n",
    "    \n",
    "    with open(file_path, 'wb') as f:\n",
    "        pickle.dump(eval(a), f)\n",
    "\n",
    "def abrir(a):\n",
    "    \n",
    "    script_dir = get_current_directory()\n",
    "    \n",
    "    file_path = os.path.join(script_dir, 'dados', f'{a}.pickle')\n",
    "    \n",
    "    with open(file_path, 'rb') as f:\n",
    "        return pickle.load(f)\n",
    "    \n",
    "def salvar_obj(obj, filename):\n",
    "    script_dir = get_current_directory()\n",
    "    dados_dir = os.path.join(script_dir, 'dados')\n",
    "    os.makedirs(dados_dir, exist_ok=True)\n",
    "    \n",
    "    file_path = os.path.join(dados_dir, f'{filename}.pickle')\n",
    "    \n",
    "    with open(file_path, 'wb') as f:\n",
    "        pickle.dump(obj, f)"
   ]
  },
  {
   "cell_type": "code",
   "execution_count": 4,
   "metadata": {},
   "outputs": [],
   "source": [
    "\n",
    "def run_statevector(circuit, driver, mapper = JordanWignerMapper()):\n",
    "   \n",
    "   hamiltoniano = driver.second_q_ops()[0]\n",
    "   \n",
    "   estado = Statevector.from_instruction(circuit)\n",
    "   \n",
    "   expectation_value = estado.expectation_value(mapper.map(hamiltoniano))\n",
    "   \n",
    "   return expectation_value.real\n",
    "\n",
    "def run_estimator(circuit, driver, backend = None, shots = 2000, noise_model = None, coupling_map = None, mapper = JordanWignerMapper()):\n",
    "   \n",
    "   hamiltoniano = driver.second_q_ops()[0]\n",
    "   \n",
    "   num_qubits_hamiltonian = mapper.map(hamiltoniano).num_qubits\n",
    "   num_qubits_circuit = circuit.num_qubits\n",
    "   \n",
    "   new_circuit = circuit.copy()\n",
    "   \n",
    "   if num_qubits_hamiltonian != num_qubits_circuit:\n",
    "\n",
    "      new_circuit = QuantumCircuit(num_qubits_hamiltonian)\n",
    "\n",
    "      for gate in circuit.data:\n",
    "\n",
    "         if all(circuit.qubits.index(qubit) < num_qubits_hamiltonian for qubit in gate[1]):\n",
    "            new_circuit.append(gate[0], [circuit.qubits.index(qubit) for qubit in gate[1]])\n",
    "   \n",
    "   circuit = new_circuit\n",
    "   \n",
    "   if noise_model is not None:\n",
    "      \n",
    "      estimator = Estimator(backend = backend, options = {\"shots\" : shots, \"noise_model\" : noise_model, \"coupling_map\" : coupling_map})\n",
    "   \n",
    "   else :\n",
    "      \n",
    "      estimator = Estimator(backend = backend, options = {\"shots\" : shots})\n",
    "   \n",
    "   job = estimator.run(circuit, mapper.map(hamiltoniano))\n",
    "   \n",
    "   return job.result().values[0]\n",
    "\n",
    "def run_estimator_aer(circuit, driver, shots = None, seed = None, mapper = JordanWignerMapper(), skip_transpilation = True):\n",
    "   \n",
    "   hamiltoniano = driver.second_q_ops()[0]\n",
    "   \n",
    "   num_qubits_hamiltonian = mapper.map(hamiltoniano).num_qubits\n",
    "   num_qubits_circuit = circuit.num_qubits\n",
    "   \n",
    "   new_circuit = circuit.copy()\n",
    "   \n",
    "   if num_qubits_hamiltonian != num_qubits_circuit:\n",
    "\n",
    "      new_circuit = QuantumCircuit(num_qubits_hamiltonian)\n",
    "\n",
    "      for gate in circuit.data:\n",
    "\n",
    "         if all(circuit.qubits.index(qubit) < num_qubits_hamiltonian for qubit in gate[1]):\n",
    "            new_circuit.append(gate[0], [circuit.qubits.index(qubit) for qubit in gate[1]])\n",
    "   \n",
    "   circuit = new_circuit\n",
    "\n",
    "   if shots != None:\n",
    "   \n",
    "      if seed is not None:\n",
    "         \n",
    "         estimator = Estimator_Aer(run_options = {\"shots\" : shots, \"seed\" : seed}, skip_transpilation = skip_transpilation)   \n",
    "      \n",
    "      else :\n",
    "         \n",
    "         estimator = Estimator_Aer(run_options = {\"shots\" : shots}, skip_transpilation = skip_transpilation)\n",
    "   \n",
    "   else :\n",
    "\n",
    "      if seed is not None:\n",
    "         \n",
    "         estimator = Estimator_Aer(run_options = {\"shots\" : shots, \"seed\" : seed}, approximation = True, skip_transpilation = skip_transpilation)\n",
    "      \n",
    "      else :\n",
    "         \n",
    "         estimator = Estimator_Aer(run_options = {\"shots\" : shots}, approximation = True, skip_transpilation = skip_transpilation)\n",
    "      \n",
    "   \n",
    "   job = estimator.run(circuit, mapper.map(hamiltoniano))\n",
    "   \n",
    "   return job.result().values[0]\n",
    "\n",
    "def run_estimator_aer_noise(circuit, driver, shots = None, seed = None, mapper = JordanWignerMapper(), skip_transpilation = True, noise_model = None, coupling_map = None, basis_gates = None):\n",
    "   \n",
    "   hamiltoniano = driver.second_q_ops()[0]\n",
    "   \n",
    "   num_qubits_hamiltonian = mapper.map(hamiltoniano).num_qubits\n",
    "   num_qubits_circuit = circuit.num_qubits\n",
    "   \n",
    "   new_circuit = circuit.copy()\n",
    "   \n",
    "   if num_qubits_hamiltonian != num_qubits_circuit:\n",
    "\n",
    "      new_circuit = QuantumCircuit(num_qubits_hamiltonian)\n",
    "\n",
    "      for gate in circuit.data:\n",
    "\n",
    "         if all(circuit.qubits.index(qubit) < num_qubits_hamiltonian for qubit in gate[1]):\n",
    "            new_circuit.append(gate[0], [circuit.qubits.index(qubit) for qubit in gate[1]])\n",
    "   \n",
    "   circuit = new_circuit\n",
    "   \n",
    "   estimator = Estimator_Aer(backend_options={'noise_model': noise_model}, run_options = {\"shots\" : shots, \"seed\" : seed}, skip_transpilation = skip_transpilation) if coupling_map == None and basis_gates == None else Estimator_Aer(backend_options={'noise_model': noise_model, 'coupling_map': coupling_map, 'basis_gates' : basis_gates}, run_options = {\"shots\" : shots, \"seed\" : seed}, skip_transpilation = skip_transpilation)\n",
    "   \n",
    "   job = estimator.run(circuit, mapper.map(hamiltoniano))\n",
    "   \n",
    "   return job.result().values[0]\n",
    "\n",
    "ESTIMATORS = {\n",
    "    'statevector': run_statevector,\n",
    "    'estimator': run_estimator,\n",
    "    'estimator_aer': run_estimator_aer,\n",
    "    'estimator_aer_noise': run_estimator_aer_noise,\n",
    "}\n",
    "\n",
    "def check(original_value, target, driver, difference_percentage, estimator_name='statevector', **kwargs):\n",
    "    estimator_function = ESTIMATORS[estimator_name]\n",
    "    target_value = estimator_function(target, driver, **kwargs)\n",
    "    return abs(original_value - target_value) < difference_percentage * abs(original_value), target_value\n",
    " \n",
    "def fix_circuit_qubits(circuit, driver):\n",
    "   \n",
    "   hamiltoniano = driver.second_q_ops()[0]\n",
    "   \n",
    "   num_qubits_hamiltonian = mapper.map(hamiltoniano).num_qubits\n",
    "   num_qubits_circuit = circuit.num_qubits\n",
    "   \n",
    "   new_circuit = circuit.copy()\n",
    "   \n",
    "   if num_qubits_hamiltonian != num_qubits_circuit:\n",
    "\n",
    "      new_circuit = QuantumCircuit(num_qubits_hamiltonian)\n",
    "\n",
    "      for gate in circuit.data:\n",
    "\n",
    "         if all(circuit.qubits.index(qubit) < num_qubits_hamiltonian for qubit in gate[1]):\n",
    "            new_circuit.append(gate[0], [circuit.qubits.index(qubit) for qubit in gate[1]])\n",
    "   \n",
    "   return new_circuit\n"
   ]
  },
  {
   "cell_type": "markdown",
   "metadata": {},
   "source": [
    "# ZNE"
   ]
  },
  {
   "cell_type": "code",
   "execution_count": 5,
   "metadata": {},
   "outputs": [],
   "source": [
    "def teste_circuit_folding(circuit, noise_factor):\n",
    "  \n",
    "    k = int((d := circuit.depth())*(noise_factor - 1)/2)\n",
    "    \n",
    "    n, s = k//d, k%d\n",
    "      \n",
    "    return n, s\n",
    "\n",
    "def circuit_folding(circuit, noise_factor):\n",
    "    \n",
    "    k = int((d := circuit.depth())*(noise_factor - 1)/2)\n",
    "    \n",
    "    n, s = k//d, k%d\n",
    "    \n",
    "    circuito_original, circuito = circuit.copy(), circuit.copy()\n",
    "    \n",
    "    for a in range(n):\n",
    "        \n",
    "        inverse = circuito_original.inverse()\n",
    "        \n",
    "        identity = inverse.compose(circuito_original)\n",
    "        \n",
    "        circuito = circuito.compose(identity)\n",
    "    \n",
    "    if s != 0:\n",
    "        \n",
    "        circuito_parcial = QuantumCircuit(*circuito.qregs, *circuito.cregs)\n",
    "                \n",
    "        for instr in circuito.data[-s:]:\n",
    "            \n",
    "            circuito_parcial.append(instr[0], instr[1], instr[2])\n",
    "    \n",
    "        inverse = circuito_parcial.inverse()\n",
    "        \n",
    "        identity = inverse.compose(circuito_parcial)\n",
    "        \n",
    "        circuito = circuito.compose(identity)\n",
    "    \n",
    "    return circuito\n",
    "\n",
    "def circuit_folding_transpile(circuit, noise_factor, backend):\n",
    "    \n",
    "    k = int((d := circuit.depth())*(noise_factor - 1)/2)\n",
    "    \n",
    "    n, s = k//d, k%d\n",
    "    \n",
    "    circuito_original, circuito = circuit.copy(), circuit.copy()\n",
    "    \n",
    "    for a in range(n):\n",
    "        \n",
    "        inverse = circuito_original.inverse()\n",
    "        \n",
    "        identity = inverse.compose(circuito_original)\n",
    "        \n",
    "        circuito = circuito.compose(identity)\n",
    "    \n",
    "    if s != 0:\n",
    "        \n",
    "        circuito_parcial = QuantumCircuit(*circuito.qregs, *circuito.cregs)\n",
    "                \n",
    "        for instr in circuito.data[-s:]:\n",
    "            \n",
    "            circuito_parcial.append(instr[0], instr[1], instr[2])\n",
    "    \n",
    "        inverse = circuito_parcial.inverse()\n",
    "        \n",
    "        identity = inverse.compose(circuito_parcial)\n",
    "        \n",
    "        circuito = circuito.compose(identity)\n",
    "    \n",
    "    return transpile(circuito, backend, optimization_level=0)\n",
    "\n",
    "\n",
    "def ZNE(circuit, start = 1, end = 3, points = None, verbose = 0):\n",
    "    \n",
    "    if start < 1:\n",
    "        \n",
    "        raise ValueError(\"Start must be greater than 1\")\n",
    "    \n",
    "    max_points = math.ceil((end - start)/(2/circuit.depth()))\n",
    "    \n",
    "    if points == None or points > max_points:\n",
    "        \n",
    "        points = max_points\n",
    "\n",
    "    step = (end - start)/points\n",
    "\n",
    "    for a in np.arange(start, end, step):\n",
    "        \n",
    "        if not verbose:\n",
    "    \n",
    "            yield circuit_folding(circuit, a) \n",
    "            \n",
    "        else: \n",
    "            \n",
    "            print(f\"Lambda = {a}\\tn:{(temp := teste_circuit_folding(circuit, a))[0]}, s:{temp[1]}\")\n",
    "            \n",
    "            yield [circuit_folding(circuit, a), a]\n",
    "            \n",
    "def ZNE_transpile(circuit, backend, start = 1, end = 3, points = None, verbose = 0):\n",
    "    \n",
    "    if start < 1:\n",
    "        \n",
    "        raise ValueError(\"Start must be greater than 1\")\n",
    "    \n",
    "    max_points = math.ceil((end - start)/(2/circuit.depth()))\n",
    "    \n",
    "    if points == None or points > max_points:\n",
    "        \n",
    "        points = max_points\n",
    "\n",
    "    step = (end - start)/points\n",
    "\n",
    "    for a in np.arange(start, end, step):\n",
    "        \n",
    "        if not verbose:\n",
    "    \n",
    "            yield circuit_folding_transpile(circuit, a, backend) \n",
    "            \n",
    "        else: \n",
    "            \n",
    "            print(f\"Lambda = {a}\\tn:{(temp := teste_circuit_folding(circuit, a))[0]}, s:{temp[1]}\")\n",
    "            \n",
    "            yield [circuit_folding_transpile(circuit, a, backend), a]"
   ]
  },
  {
   "cell_type": "markdown",
   "metadata": {},
   "source": [
    "# Rodando o ZNE Localmente"
   ]
  },
  {
   "cell_type": "code",
   "execution_count": null,
   "metadata": {},
   "outputs": [],
   "source": [
    "#circuito_ibm.draw('mpl')"
   ]
  },
  {
   "cell_type": "code",
   "execution_count": null,
   "metadata": {},
   "outputs": [
    {
     "name": "stdout",
     "output_type": "stream",
     "text": [
      "Lambda = 1.0\tn:0, s:0\n",
      "Lambda = 1.2\tn:0, s:14\n",
      "Lambda = 1.4\tn:0, s:28\n",
      "Lambda = 1.5999999999999999\tn:0, s:42\n",
      "Lambda = 1.7999999999999998\tn:0, s:57\n"
     ]
    }
   ],
   "source": [
    "zne_circuits = list(ZNE(circuito_ibm, start = 1, end = 2, points = 5, verbose = 1))"
   ]
  },
  {
   "cell_type": "code",
   "execution_count": null,
   "metadata": {},
   "outputs": [
    {
     "name": "stdout",
     "output_type": "stream",
     "text": [
      "143\n",
      "155\n",
      "169\n",
      "187\n",
      "201\n"
     ]
    }
   ],
   "source": [
    "for a in zne_circuits:\n",
    "    \n",
    "    print(a.depth())"
   ]
  },
  {
   "cell_type": "markdown",
   "metadata": {},
   "source": [
    "# AWS Braket Provider"
   ]
  },
  {
   "cell_type": "code",
   "execution_count": null,
   "metadata": {},
   "outputs": [],
   "source": [
    "provider = AWSBraketProvider()"
   ]
  },
  {
   "cell_type": "markdown",
   "metadata": {},
   "source": [
    "## Functions for AWS Backend"
   ]
  },
  {
   "cell_type": "code",
   "execution_count": 6,
   "metadata": {},
   "outputs": [],
   "source": [
    "def run_estimator_aws(circuit, driver, backend, shots = 1000, mapper = JordanWignerMapper()):\n",
    "   \n",
    "   hamiltoniano = driver.second_q_ops()[0]\n",
    "   \n",
    "   num_qubits_hamiltonian = mapper.map(hamiltoniano).num_qubits\n",
    "   num_qubits_circuit = circuit.num_qubits\n",
    "   \n",
    "   new_circuit = circuit.copy()\n",
    "   \n",
    "   if num_qubits_hamiltonian != num_qubits_circuit:\n",
    "\n",
    "      new_circuit = QuantumCircuit(num_qubits_hamiltonian)\n",
    "\n",
    "      for gate in circuit.data:\n",
    "\n",
    "         if all(circuit.qubits.index(qubit) < num_qubits_hamiltonian for qubit in gate[1]):\n",
    "            new_circuit.append(gate[0], [circuit.qubits.index(qubit) for qubit in gate[1]])\n",
    "   \n",
    "   circuit = new_circuit\n",
    "      \n",
    "   #estimator = EstimatorV2(backend = backend, options = {\"shots\" : shots})\n",
    "   estimator = EstimatorV2(backend = backend)\n",
    "   estimator.options.default_shots = shots\n",
    "   \n",
    "   #job = estimator.run(circuit, mapper.map(hamiltoniano))\n",
    "   job = estimator.run([(circuit, mapper.map(hamiltoniano), [])])\n",
    "   \n",
    "   return job"
   ]
  },
  {
   "cell_type": "code",
   "execution_count": 7,
   "metadata": {},
   "outputs": [],
   "source": [
    "def getData(aria1_task_id):\n",
    "    # recover quantum task\n",
    "    task_load = AwsQuantumTask(arn=aria1_task_id)\n",
    "\n",
    "    # print status\n",
    "    status = task_load.state()\n",
    "    print('Status of (reconstructed) quantum task:', status)\n",
    "    \n",
    "    # wait for job to complete\n",
    "    # terminal_states = ['COMPLETED', 'FAILED', 'CANCELLED']\n",
    "    if status == 'COMPLETED':\n",
    "        # get results\n",
    "        aria1_results = task_load.result()\n",
    "\n",
    "        # get all metadata of submitted quantum task\n",
    "        metadata = task_load.metadata()\n",
    "        \n",
    "        # example for metadata\n",
    "        shots = metadata['shots']\n",
    "        machine = metadata['deviceArn']\n",
    "        \n",
    "        # print example metadata\n",
    "        # print(\"{} shots taken on machine {}.\\n\".format(shots, machine))\n",
    "\n",
    "        # get measurement counts\n",
    "        aria1_counts = dict(sorted(aria1_results.measurement_counts.items()))\n",
    "        print('Measurement counts:', aria1_counts)\n",
    "        print('Expected value:', aria1_results.values[0])\n",
    "        \n",
    "        return aria1_results.values[0]\n",
    "\n",
    "    elif status in ['FAILED', 'CANCELLED']:\n",
    "        # print terminal message \n",
    "        print('Your quantum task is in terminal status, but has not completed.')\n",
    "        return 0\n",
    "    else:\n",
    "        # print current status\n",
    "        print('Sorry, your quantum task is still being processed and has not been finalized yet.')\n",
    "        return 0"
   ]
  },
  {
   "cell_type": "code",
   "execution_count": null,
   "metadata": {},
   "outputs": [],
   "source": [
    "j_sv1_Estimator_circuito = run_estimator_aws(circuito, es_problem, sv1, 2000)"
   ]
  },
  {
   "cell_type": "code",
   "execution_count": null,
   "metadata": {},
   "outputs": [],
   "source": [
    "task_id = j_sv1_Estimator_circuito.job_id()\n",
    "\n",
    "AwsQuantumTask(arn=task_id).result()\n"
   ]
  },
  {
   "cell_type": "markdown",
   "metadata": {},
   "source": [
    "# Utilizando o Backend da IBM"
   ]
  },
  {
   "cell_type": "code",
   "execution_count": 8,
   "metadata": {},
   "outputs": [],
   "source": [
    "def run_estimator_ibm(circuit, driver, backend, shots = 1000, mapper = JordanWignerMapper()):\n",
    "   \n",
    "   hamiltoniano = driver.second_q_ops()[0]\n",
    "   \n",
    "   num_qubits_hamiltonian = mapper.map(hamiltoniano).num_qubits\n",
    "   num_qubits_circuit = circuit.num_qubits\n",
    "   \n",
    "   new_circuit = circuit.copy()\n",
    "   \n",
    "   if num_qubits_hamiltonian != num_qubits_circuit:\n",
    "\n",
    "      new_circuit = QuantumCircuit(num_qubits_hamiltonian)\n",
    "\n",
    "      for gate in circuit.data:\n",
    "\n",
    "         if all(circuit.qubits.index(qubit) < num_qubits_hamiltonian for qubit in gate[1]):\n",
    "            new_circuit.append(gate[0], [circuit.qubits.index(qubit) for qubit in gate[1]])\n",
    "   \n",
    "   circuit = new_circuit\n",
    "      \n",
    "   #estimator = EstimatorV2(backend = backend, options = {\"shots\" : shots})\n",
    "   estimator = EstimatorV2(backend = backend)\n",
    "   estimator.options.default_shots = shots\n",
    "   \n",
    "   #job = estimator.run(circuit, mapper.map(hamiltoniano))\n",
    "   job = estimator.run([(circuit, mapper.map(hamiltoniano), [])])\n",
    "   \n",
    "   return job"
   ]
  },
  {
   "cell_type": "code",
   "execution_count": 9,
   "metadata": {},
   "outputs": [],
   "source": [
    "service = QiskitRuntimeService()\n",
    "kyoto_backend = service.backend('ibm_kyoto')\n",
    "brisbane_backend = service.backend('ibm_brisbane')"
   ]
  },
  {
   "cell_type": "code",
   "execution_count": 10,
   "metadata": {},
   "outputs": [],
   "source": [
    "circuito_ibm_kyoto = fix_circuit_qubits(transpile(minimum_eigenvalue.optimal_circuit.decompose().assign_parameters(minimum_eigenvalue.optimal_parameters), kyoto_backend), es_problem)\n",
    "\n",
    "circuito_ibm_brisbane = fix_circuit_qubits(transpile(minimum_eigenvalue.optimal_circuit.decompose().assign_parameters(minimum_eigenvalue.optimal_parameters), brisbane_backend), es_problem)"
   ]
  },
  {
   "cell_type": "code",
   "execution_count": 21,
   "metadata": {},
   "outputs": [],
   "source": [
    "#id_kyoto_Estimator_original = \"ctna7mpx7b5g0080gnwg\"\n",
    "#id_brisbane_Estimator_original = \"ctnahszx7b5g0080gpy0\"\n",
    "\n",
    "#salvar(\"id_kyoto_Estimator_original\")\n",
    "#salvar(\"id_brisbane_Estimator_original\")\n",
    "\n",
    "id_kyoto_Estimator_original = abrir(\"id_kyoto_Estimator_original\")\n",
    "id_brisbane_Estimator_original = abrir(\"id_brisbane_Estimator_original\")"
   ]
  },
  {
   "cell_type": "code",
   "execution_count": 23,
   "metadata": {},
   "outputs": [
    {
     "name": "stdout",
     "output_type": "stream",
     "text": [
      "Expectation value original circuit [Kyoto]: -1.0998333721520073\n",
      "Expectation values original circuit [Brisbane]: -0.8618584610707686\n"
     ]
    }
   ],
   "source": [
    "job_result_kyoto = service.job(id_kyoto_Estimator_original).result()\n",
    "job_result_brisbane = service.job(id_brisbane_Estimator_original).result()\n",
    "\n",
    "for idx, pub_result in enumerate(job_result_kyoto):\n",
    "    print(f\"Expectation value original circuit [Kyoto]: {pub_result.data.evs}\")\n",
    "    \n",
    "for idx, pub_result in enumerate(job_result_brisbane):\n",
    "    print(f\"Expectation values original circuit [Brisbane]: {pub_result.data.evs}\")"
   ]
  },
  {
   "cell_type": "code",
   "execution_count": 143,
   "metadata": {},
   "outputs": [],
   "source": [
    "#zne_circuits_brisbane = list(ZNE_transpile(circuito_ibm_brisbane, brisbane_backend, start = 1, end = 3, points = 10, verbose = 1))\n",
    "#salvar(\"zne_circuits_brisbane\")\n",
    "\n",
    "zne_circuits_brisbane = abrir(\"zne_circuits_brisbane\")"
   ]
  },
  {
   "cell_type": "code",
   "execution_count": 144,
   "metadata": {},
   "outputs": [],
   "source": [
    "zne_circuits_brisbane_circuitos = list(a[0] for a in zne_circuits_brisbane)\n",
    "zne_circuits_brisbane_lambda = list(a[1] for a in zne_circuits_brisbane)"
   ]
  },
  {
   "cell_type": "code",
   "execution_count": 146,
   "metadata": {},
   "outputs": [
    {
     "name": "stdout",
     "output_type": "stream",
     "text": [
      "0 143 1.0\n",
      "1 163 1.2\n",
      "2 185 1.4\n",
      "3 209 1.5999999999999999\n",
      "4 233 1.7999999999999998\n",
      "5 259 1.9999999999999998\n",
      "6 283 2.1999999999999997\n",
      "7 307 2.3999999999999995\n",
      "8 337 2.5999999999999996\n",
      "9 361 2.8\n"
     ]
    }
   ],
   "source": [
    "for index, (a, b) in enumerate(zne_circuits_brisbane):\n",
    "    \n",
    "    print(index, a.depth(), b)"
   ]
  },
  {
   "cell_type": "code",
   "execution_count": 157,
   "metadata": {},
   "outputs": [
    {
     "name": "stdout",
     "output_type": "stream",
     "text": [
      "Index: 7 \t Lambda : 2.3999999999999995 \t Task ID: ctqvrtb6g3rg0087qbsg\n",
      "Index: 8 \t Lambda : 2.5999999999999996 \t Task ID: ctqvrv34gjh0008ptxx0\n",
      "Index: 9 \t Lambda : 2.8 \t Task ID: ctqvrvk4gzyg008zs7jg\n"
     ]
    }
   ],
   "source": [
    "with Session(service=service, backend=brisbane_backend) as session:\n",
    "\n",
    "    for index, (circuito_zne, lambda_value) in enumerate(zne_circuits_brisbane):\n",
    "        \n",
    "        ultimo_index = 6\n",
    "        \n",
    "        if index <= ultimo_index:\n",
    "            continue\n",
    "        \n",
    "        job = run_estimator_ibm(circuito_zne, es_problem, brisbane_backend, 2000)\n",
    "        \n",
    "        job_id = job.job_id()\n",
    "\n",
    "        salvar_obj(job_id, f\"id_brisbane_Estimator_zne_1_{index}\")\n",
    "        \n",
    "        print(f\"Index: {index} \\t Lambda : {lambda_value} \\t Task ID: {job_id}\")"
   ]
  },
  {
   "cell_type": "code",
   "execution_count": null,
   "metadata": {},
   "outputs": [],
   "source": [
    "import qiskit.qasm2\n",
    "\n",
    "print(qiskit.qasm2.dumps(zne_circuits_brisbane[1][0]))"
   ]
  },
  {
   "cell_type": "code",
   "execution_count": 139,
   "metadata": {},
   "outputs": [
    {
     "name": "stdout",
     "output_type": "stream",
     "text": [
      "   ┌──────┐┌────┐┌──────┐┌────┐┌──────┐┌────┐┌──────┐┌────┐┌──────┐\n",
      "q: ┤ √Xdg ├┤ √X ├┤ √Xdg ├┤ √X ├┤ √Xdg ├┤ √X ├┤ √Xdg ├┤ √X ├┤ √Xdg ├\n",
      "   └──────┘└────┘└──────┘└────┘└──────┘└────┘└──────┘└────┘└──────┘\n",
      "     ┌─────────┐┌─────────┐┌────┐┌─────────┐┌─────────┐┌────┐┌─────────┐»\n",
      "q_0: ┤ Rz(π/2) ├┤ Rz(π/2) ├┤ √X ├┤ Rz(π/2) ├┤ Rz(π/2) ├┤ √X ├┤ Rz(π/2) ├»\n",
      "     └─────────┘└─────────┘└────┘└─────────┘└─────────┘└────┘└─────────┘»\n",
      "q_1: ───────────────────────────────────────────────────────────────────»\n",
      "                                                                        »\n",
      "q_2: ───────────────────────────────────────────────────────────────────»\n",
      "                                                                        »\n",
      "q_3: ───────────────────────────────────────────────────────────────────»\n",
      "                                                                        »\n",
      "«     ┌─────────┐┌────┐┌─────────┐┌─────────┐┌────┐┌─────────┐┌─────────┐┌────┐»\n",
      "«q_0: ┤ Rz(π/2) ├┤ √X ├┤ Rz(π/2) ├┤ Rz(π/2) ├┤ √X ├┤ Rz(π/2) ├┤ Rz(π/2) ├┤ √X ├»\n",
      "«     └─────────┘└────┘└─────────┘└─────────┘└────┘└─────────┘└─────────┘└────┘»\n",
      "«q_1: ─────────────────────────────────────────────────────────────────────────»\n",
      "«                                                                              »\n",
      "«q_2: ─────────────────────────────────────────────────────────────────────────»\n",
      "«                                                                              »\n",
      "«q_3: ─────────────────────────────────────────────────────────────────────────»\n",
      "«                                                                              »\n",
      "«     ┌─────────┐┌─────────┐┌────┐┌─────────┐┌─────────┐┌────┐┌─────────┐»\n",
      "«q_0: ┤ Rz(π/2) ├┤ Rz(π/2) ├┤ √X ├┤ Rz(π/2) ├┤ Rz(π/2) ├┤ √X ├┤ Rz(π/2) ├»\n",
      "«     └─────────┘└─────────┘└────┘└─────────┘└─────────┘└────┘└─────────┘»\n",
      "«q_1: ───────────────────────────────────────────────────────────────────»\n",
      "«                                                                        »\n",
      "«q_2: ───────────────────────────────────────────────────────────────────»\n",
      "«                                                                        »\n",
      "«q_3: ───────────────────────────────────────────────────────────────────»\n",
      "«                                                                        »\n",
      "«     ┌─────────┐┌────┐┌─────────┐┌─────────┐┌────┐┌─────────┐┌─────────┐\n",
      "«q_0: ┤ Rz(π/2) ├┤ √X ├┤ Rz(π/2) ├┤ Rz(π/2) ├┤ √X ├┤ Rz(π/2) ├┤ Rz(π/2) ├\n",
      "«     └─────────┘└────┘└─────────┘└─────────┘└────┘└─────────┘└─────────┘\n",
      "«q_1: ───────────────────────────────────────────────────────────────────\n",
      "«                                                                        \n",
      "«q_2: ───────────────────────────────────────────────────────────────────\n",
      "«                                                                        \n",
      "«q_3: ───────────────────────────────────────────────────────────────────\n",
      "«                                                                        \n"
     ]
    }
   ],
   "source": [
    "qc = QuantumCircuit(1)\n",
    "qc.append(SXdgGate(), [0])\n",
    "qc = circuit_folding(qc, 10)\n",
    "print(qc.draw())\n",
    "\n",
    "print(fix_circuit_qubits(transpile(qc, brisbane_backend, optimization_level=0), es_problem).draw())"
   ]
  },
  {
   "cell_type": "code",
   "execution_count": 10,
   "metadata": {},
   "outputs": [],
   "source": [
    "# zne_circuits_brisbane_results = []\n",
    "\n",
    "# for index, (circuito_zne, lambda_value) in enumerate(zne_circuits_brisbane):\n",
    "    \n",
    "#     job_id = abrir(f\"id_brisbane_Estimator_zne_1_{index}\")\n",
    "    \n",
    "#     job_result = service.job(job_id).result()[0].data.evs\n",
    "\n",
    "#     zne_circuits_brisbane_results.append([job_result, lambda_value])\n",
    "    \n",
    "#     print(f\"Index: {index} \\t Lambda : {lambda_value} \\t Result: {job_result}\")\n",
    "    \n",
    "# salvar_obj(zne_circuits_brisbane_results, \"zne_circuits_brisbane_results\")\n",
    "\n",
    "zne_circuits_brisbane_results = abrir(\"zne_circuits_brisbane_results\")"
   ]
  },
  {
   "cell_type": "code",
   "execution_count": 11,
   "metadata": {},
   "outputs": [
    {
     "data": {
      "text/plain": [
       "[[array(-0.89010345), 1.0],\n",
       " [array(-0.96758807), 1.2],\n",
       " [array(-0.97032439), 1.4],\n",
       " [array(-1.01645243), 1.5999999999999999],\n",
       " [array(-0.90152596), 1.7999999999999998],\n",
       " [array(-0.83898192), 1.9999999999999998],\n",
       " [array(-0.90094527), 2.1999999999999997],\n",
       " [array(-0.85428377), 2.3999999999999995],\n",
       " [array(-0.90293375), 2.5999999999999996],\n",
       " [array(-0.82892087), 2.8]]"
      ]
     },
     "execution_count": 11,
     "metadata": {},
     "output_type": "execute_result"
    }
   ],
   "source": [
    "zne_circuits_brisbane_results"
   ]
  },
  {
   "cell_type": "code",
   "execution_count": 20,
   "metadata": {},
   "outputs": [
    {
     "data": {
      "application/vnd.jupyter.widget-view+json": {
       "model_id": "0effb02f5d1d4bbd8b9a8dac02a66913",
       "version_major": 2,
       "version_minor": 0
      },
      "image/png": "[encoded data removed]",
      "text/html": [
       "\n",
       "            <div style=\"display: inline-block;\">\n",
       "                <div class=\"jupyter-widgets widget-label\" style=\"text-align: center;\">\n",
       "                    Figure\n",
       "                </div>\n",
       "                <img src='data:image/png;base64,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' width=640.0/>\n",
       "            </div>\n",
       "        "
      ],
      "text/plain": [
       "Canvas(toolbar=Toolbar(toolitems=[('Home', 'Reset original view', 'home', 'home'), ('Back', 'Back to previous …"
      ]
     },
     "metadata": {},
     "output_type": "display_data"
    }
   ],
   "source": [
    "plt.figure()\n",
    "\n",
    "plt.plot([a[1] for a in zne_circuits_brisbane_results], [a[0].item() for a in zne_circuits_brisbane_results], label = \"Expectation Value\")\n",
    "plt.scatter([a[1] for a in zne_circuits_brisbane_results], [a[0].item() for a in zne_circuits_brisbane_results], c='red')\n",
    "\n",
    "plt.xlabel(\"Lambda\")\n",
    "plt.ylabel(\"Expectation Value\")\n",
    "plt.title(\"ZNE\")\n",
    "plt.legend()\n",
    "plt.show()"
   ]
  },
  {
   "cell_type": "code",
   "execution_count": 12,
   "metadata": {},
   "outputs": [],
   "source": [
    "#zne_circuits_brisbane_2 = list(ZNE_transpile(circuito_ibm_brisbane, brisbane_backend, start = 1.1, end = 10, points = 20, verbose = 1))\n",
    "#salvar(\"zne_circuits_brisbane_2\")\n",
    "\n",
    "zne_circuits_brisbane_2 = abrir(\"zne_circuits_brisbane_2\")"
   ]
  },
  {
   "cell_type": "code",
   "execution_count": 14,
   "metadata": {},
   "outputs": [
    {
     "name": "stdout",
     "output_type": "stream",
     "text": [
      "0 155 1.1\n",
      "1 203 1.5450000000000002\n",
      "2 259 1.9900000000000002\n",
      "3 309 2.4350000000000005\n",
      "4 375 2.8800000000000003\n",
      "5 597 3.3250000000000006\n",
      "6 651 3.7700000000000005\n",
      "7 711 4.215\n",
      "8 765 4.66\n",
      "9 999 5.105\n",
      "10 1049 5.550000000000001\n",
      "11 1103 5.995000000000001\n",
      "12 1153 6.440000000000001\n",
      "13 1219 6.885000000000002\n",
      "14 1441 7.33\n",
      "15 1495 7.775\n",
      "16 1555 8.22\n",
      "17 1611 8.665000000000001\n",
      "18 1843 9.110000000000001\n",
      "19 1893 9.555000000000001\n"
     ]
    }
   ],
   "source": [
    "for index, (a, b) in enumerate(zne_circuits_brisbane_2):\n",
    "    \n",
    "    print(index, a.depth(), b)"
   ]
  },
  {
   "cell_type": "code",
   "execution_count": 22,
   "metadata": {},
   "outputs": [
    {
     "name": "stdout",
     "output_type": "stream",
     "text": [
      "Index: 18 \t Lambda : 9.110000000000001 \t Task ID: ctva681seb10008x2x4g\n",
      "Index: 19 \t Lambda : 9.555000000000001 \t Task ID: ctva68h66x8g008q4e0g\n"
     ]
    }
   ],
   "source": [
    "with Batch(backend=brisbane_backend):\n",
    "\n",
    "    for index, (circuito_zne, lambda_value) in enumerate(zne_circuits_brisbane_2):\n",
    "        \n",
    "        ultimo_index = 17\n",
    "        \n",
    "        if index <= ultimo_index:\n",
    "            continue\n",
    "        \n",
    "        job = run_estimator_ibm(circuito_zne, es_problem, brisbane_backend, 2000)\n",
    "        \n",
    "        job_id = job.job_id()\n",
    "\n",
    "        salvar_obj(job_id, f\"id_brisbane_Estimator_zne_2_{index}\")\n",
    "        \n",
    "        print(f\"Index: {index} \\t Lambda : {lambda_value} \\t Task ID: {job_id}\")"
   ]
  },
  {
   "cell_type": "code",
   "execution_count": 24,
   "metadata": {},
   "outputs": [
    {
     "name": "stdout",
     "output_type": "stream",
     "text": [
      "Index: 0 \t Lambda : 1.1 \t Result: -0.896646269600357\n",
      "Index: 1 \t Lambda : 1.5450000000000002 \t Result: -0.9202790997780624\n",
      "Index: 2 \t Lambda : 1.9900000000000002 \t Result: -0.8349611507637568\n",
      "Index: 3 \t Lambda : 2.4350000000000005 \t Result: -0.8408349662370032\n",
      "Index: 4 \t Lambda : 2.8800000000000003 \t Result: -0.8516784989322624\n",
      "Index: 5 \t Lambda : 3.3250000000000006 \t Result: -0.8910844957273565\n",
      "Index: 6 \t Lambda : 3.7700000000000005 \t Result: -0.8764144908197755\n",
      "Index: 7 \t Lambda : 4.215 \t Result: -0.8592210773378299\n",
      "Index: 8 \t Lambda : 4.66 \t Result: -0.8270871261127035\n",
      "Index: 9 \t Lambda : 5.105 \t Result: -0.819106009694633\n",
      "Index: 10 \t Lambda : 5.550000000000001 \t Result: -0.8468281515022386\n",
      "Index: 11 \t Lambda : 5.995000000000001 \t Result: -0.8207090711745233\n",
      "Index: 12 \t Lambda : 6.440000000000001 \t Result: -0.8641254480771008\n",
      "Index: 13 \t Lambda : 6.885000000000002 \t Result: -0.8677785845830783\n",
      "Index: 14 \t Lambda : 7.33 \t Result: -0.8653006860153638\n",
      "Index: 15 \t Lambda : 7.775 \t Result: -0.845928516599411\n",
      "Index: 16 \t Lambda : 8.22 \t Result: -0.850796034709684\n",
      "Index: 17 \t Lambda : 8.665000000000001 \t Result: -0.8497856071802911\n",
      "Index: 18 \t Lambda : 9.110000000000001 \t Result: -0.8441911176996241\n",
      "Index: 19 \t Lambda : 9.555000000000001 \t Result: -0.8630956343549224\n"
     ]
    }
   ],
   "source": [
    "# zne_circuits_brisbane_results_2 = []\n",
    "\n",
    "# for index, (circuito_zne, lambda_value) in enumerate(zne_circuits_brisbane_2):\n",
    "    \n",
    "#     job_id = abrir(f\"id_brisbane_Estimator_zne_2_{index}\")\n",
    "    \n",
    "#     job_result = service.job(job_id).result()[0].data.evs\n",
    "\n",
    "#     zne_circuits_brisbane_results_2.append([job_result, lambda_value])\n",
    "    \n",
    "#     print(f\"Index: {index} \\t Lambda : {lambda_value} \\t Result: {job_result}\")\n",
    "    \n",
    "# salvar_obj(zne_circuits_brisbane_results_2, \"zne_circuits_brisbane_results_2\")\n",
    "\n",
    "zne_circuits_brisbane_results_2 = abrir(\"zne_circuits_brisbane_results_2\")"
   ]
  },
  {
   "cell_type": "code",
   "execution_count": 30,
   "metadata": {},
   "outputs": [
    {
     "data": {
      "application/vnd.jupyter.widget-view+json": {
       "model_id": "8f5eed18027e434b91e025de25e2c816",
       "version_major": 2,
       "version_minor": 0
      },
      "image/png": "[encoded data removed]",
      "text/html": [
       "\n",
       "            <div style=\"display: inline-block;\">\n",
       "                <div class=\"jupyter-widgets widget-label\" style=\"text-align: center;\">\n",
       "                    Figure\n",
       "                </div>\n",
       "                <img src='data:image/png;base64,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' width=640.0/>\n",
       "            </div>\n",
       "        "
      ],
      "text/plain": [
       "Canvas(toolbar=Toolbar(toolitems=[('Home', 'Reset original view', 'home', 'home'), ('Back', 'Back to previous …"
      ]
     },
     "metadata": {},
     "output_type": "display_data"
    }
   ],
   "source": [
    "plt.figure()\n",
    "\n",
    "x, y = np.array([a[1] for a in zne_circuits_brisbane_results_2]), np.array([a[0] for a in zne_circuits_brisbane_results_2])\n",
    "\n",
    "plt.plot(x, -y, label = \"Expectation Value\")\n",
    "plt.scatter(x, -y, c='red')\n",
    "\n",
    "plt.xlabel(\"Lambda\")\n",
    "plt.ylabel(\"Expectation Value\")\n",
    "plt.title(\"ZNE\")\n",
    "plt.legend()\n",
    "plt.show()"
   ]
  },
  {
   "cell_type": "code",
   "execution_count": null,
   "metadata": {},
   "outputs": [],
   "source": []
  },
  {
   "cell_type": "code",
   "execution_count": null,
   "metadata": {},
   "outputs": [],
   "source": []
  },
  {
   "cell_type": "code",
   "execution_count": null,
   "metadata": {},
   "outputs": [],
   "source": []
  },
  {
   "cell_type": "code",
   "execution_count": null,
   "metadata": {},
   "outputs": [],
   "source": []
  },
  {
   "cell_type": "code",
   "execution_count": null,
   "metadata": {},
   "outputs": [],
   "source": []
  },
  {
   "cell_type": "code",
   "execution_count": null,
   "metadata": {},
   "outputs": [],
   "source": []
  }
 ],
 "metadata": {
  "kernelspec": {
   "display_name": "aws_braket",
   "language": "python",
   "name": "python3"
  },
  "language_info": {
   "codemirror_mode": {
    "name": "ipython",
    "version": 3
   },
   "file_extension": ".py",
   "mimetype": "text/x-python",
   "name": "python",
   "nbconvert_exporter": "python",
   "pygments_lexer": "ipython3",
   "version": "3.12.2"
  }
 },
 "nbformat": 4,
 "nbformat_minor": 2
}
