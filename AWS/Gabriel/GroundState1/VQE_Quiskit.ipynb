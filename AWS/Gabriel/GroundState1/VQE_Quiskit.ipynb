{
 "cells": [
  {
   "cell_type": "code",
   "execution_count": 1,
   "metadata": {},
   "outputs": [
    {
     "ename": "ModuleNotFoundError",
     "evalue": "No module named 'qiskit_nature'",
     "output_type": "error",
     "traceback": [
      "\u001b[0;31m---------------------------------------------------------------------------\u001b[0m",
      "\u001b[0;31mModuleNotFoundError\u001b[0m                       Traceback (most recent call last)",
      "Cell \u001b[0;32mIn[1], line 27\u001b[0m\n\u001b[1;32m     23\u001b[0m \u001b[38;5;28;01mfrom\u001b[39;00m \u001b[38;5;21;01mqiskit\u001b[39;00m\u001b[38;5;21;01m.\u001b[39;00m\u001b[38;5;21;01mproviders\u001b[39;00m\u001b[38;5;21;01m.\u001b[39;00m\u001b[38;5;21;01mfake_provider\u001b[39;00m \u001b[38;5;28;01mimport\u001b[39;00m \u001b[38;5;241m*\u001b[39m\n\u001b[1;32m     25\u001b[0m \u001b[38;5;66;03m## Qiskit Nature\u001b[39;00m\n\u001b[0;32m---> 27\u001b[0m \u001b[38;5;28;01mfrom\u001b[39;00m \u001b[38;5;21;01mqiskit_nature\u001b[39;00m\u001b[38;5;21;01m.\u001b[39;00m\u001b[38;5;21;01munits\u001b[39;00m \u001b[38;5;28;01mimport\u001b[39;00m \u001b[38;5;241m*\u001b[39m   \u001b[38;5;66;03m#ANGSTROM\u001b[39;00m\n\u001b[1;32m     29\u001b[0m \u001b[38;5;28;01mfrom\u001b[39;00m \u001b[38;5;21;01mqiskit_nature\u001b[39;00m\u001b[38;5;21;01m.\u001b[39;00m\u001b[38;5;21;01msecond_q\u001b[39;00m\u001b[38;5;21;01m.\u001b[39;00m\u001b[38;5;21;01mdrivers\u001b[39;00m \u001b[38;5;28;01mimport\u001b[39;00m \u001b[38;5;241m*\u001b[39m    \u001b[38;5;66;03m#PySCFDriver\u001b[39;00m\n\u001b[1;32m     31\u001b[0m \u001b[38;5;28;01mfrom\u001b[39;00m \u001b[38;5;21;01mqiskit_nature\u001b[39;00m\u001b[38;5;21;01m.\u001b[39;00m\u001b[38;5;21;01msecond_q\u001b[39;00m\u001b[38;5;21;01m.\u001b[39;00m\u001b[38;5;21;01mmappers\u001b[39;00m \u001b[38;5;28;01mimport\u001b[39;00m \u001b[38;5;241m*\u001b[39m \u001b[38;5;66;03m#JordanWignerMapper\u001b[39;00m\n",
      "\u001b[0;31mModuleNotFoundError\u001b[0m: No module named 'qiskit_nature'"
     ]
    }
   ],
   "source": [
    "#Python Default \n",
    "\n",
    "import pickle\n",
    "import time\n",
    "\n",
    "#Essentials\n",
    "\n",
    "import numpy as np\n",
    "from bs4 import BeautifulSoup\n",
    "import requests\n",
    "import func_timeout\n",
    "\n",
    "#from objproxies import *\n",
    "\n",
    "import matplotlib.pyplot as plt\n",
    "\n",
    "from scipy.optimize import curve_fit\n",
    "\n",
    "#Qiskit\n",
    "\n",
    "from qiskit.providers.models import *\n",
    "from qiskit_ibm_runtime.fake_provider import *\n",
    "from qiskit.providers.fake_provider import *\n",
    "\n",
    "## Qiskit Nature\n",
    "    \n",
    "from qiskit_nature.units import *   #ANGSTROM\n",
    "\n",
    "from qiskit_nature.second_q.drivers import *    #PySCFDriver\n",
    "\n",
    "from qiskit_nature.second_q.mappers import * #JordanWignerMapper\n",
    "\n",
    "from qiskit_nature.second_q.algorithms import GroundStateEigensolver\n",
    "\n",
    "from qiskit_nature.second_q.problems import ElectronicStructureProblem\n",
    "\n",
    "from qiskit_nature.second_q.circuit.library import *  #Ansatz, HF\n",
    "\n",
    "## Qiskit Algorithms\n",
    "    \n",
    "from qiskit_algorithms.minimum_eigensolvers import *    #VQE\n",
    " \n",
    "from qiskit_algorithms.optimizers import *    #SLSQP\n",
    "\n",
    "from qiskit.circuit.library import EfficientSU2   #EfficientSU2\n",
    "\n",
    "## Qiskit Primitives\n",
    "\n",
    "from qiskit.primitives import Estimator as Estimator_Nature\n",
    "\n",
    "from qiskit_aer.primitives.estimator import Estimator as Estimator_Aer\n",
    "\n",
    "## Qiskit Noise Models\n",
    "\n",
    "from qiskit_aer.noise import NoiseModel\n",
    "\n",
    "from qiskit.providers.fake_provider import *\n",
    "\n",
    "##Qiskit Runtime IBM\n",
    "\n",
    "from qiskit_ibm_runtime import QiskitRuntimeService, Session, Options\n",
    "\n",
    "from qiskit_ibm_runtime import Estimator as Estimator_Qiskit    #Estimator\n",
    "\n",
    "%matplotlib widget"
   ]
  }
 ],
 "metadata": {
  "kernelspec": {
   "display_name": "aws_braket",
   "language": "python",
   "name": "python3"
  },
  "language_info": {
   "codemirror_mode": {
    "name": "ipython",
    "version": 3
   },
   "file_extension": ".py",
   "mimetype": "text/x-python",
   "name": "python",
   "nbconvert_exporter": "python",
   "pygments_lexer": "ipython3",
   "version": "3.12.2"
  }
 },
 "nbformat": 4,
 "nbformat_minor": 2
}
