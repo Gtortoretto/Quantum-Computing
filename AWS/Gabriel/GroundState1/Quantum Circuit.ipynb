{
 "cells": [
  {
   "cell_type": "code",
   "execution_count": 1,
   "metadata": {
    "notebookRunGroups": {
     "groupValue": "2"
    }
   },
   "outputs": [
    {
     "ename": "KeyboardInterrupt",
     "evalue": "",
     "output_type": "error",
     "traceback": [
      "\u001b[0;31m---------------------------------------------------------------------------\u001b[0m",
      "\u001b[0;31mKeyboardInterrupt\u001b[0m                         Traceback (most recent call last)",
      "Cell \u001b[0;32mIn[1], line 30\u001b[0m\n\u001b[1;32m     26\u001b[0m \u001b[38;5;28;01mfrom\u001b[39;00m \u001b[38;5;21;01mqiskit\u001b[39;00m\u001b[38;5;21;01m.\u001b[39;00m\u001b[38;5;21;01mproviders\u001b[39;00m\u001b[38;5;21;01m.\u001b[39;00m\u001b[38;5;21;01mfake_provider\u001b[39;00m \u001b[38;5;28;01mimport\u001b[39;00m \u001b[38;5;241m*\u001b[39m\n\u001b[1;32m     28\u001b[0m \u001b[38;5;66;03m## Qiskit Nature\u001b[39;00m\n\u001b[0;32m---> 30\u001b[0m \u001b[38;5;28;01mfrom\u001b[39;00m \u001b[38;5;21;01mqiskit_nature\u001b[39;00m\u001b[38;5;21;01m.\u001b[39;00m\u001b[38;5;21;01munits\u001b[39;00m \u001b[38;5;28;01mimport\u001b[39;00m \u001b[38;5;241m*\u001b[39m   \u001b[38;5;66;03m#ANGSTROM\u001b[39;00m\n\u001b[1;32m     32\u001b[0m \u001b[38;5;28;01mfrom\u001b[39;00m \u001b[38;5;21;01mqiskit_nature\u001b[39;00m\u001b[38;5;21;01m.\u001b[39;00m\u001b[38;5;21;01msecond_q\u001b[39;00m\u001b[38;5;21;01m.\u001b[39;00m\u001b[38;5;21;01mdrivers\u001b[39;00m \u001b[38;5;28;01mimport\u001b[39;00m \u001b[38;5;241m*\u001b[39m    \u001b[38;5;66;03m#PySCFDriver\u001b[39;00m\n\u001b[1;32m     34\u001b[0m \u001b[38;5;28;01mfrom\u001b[39;00m \u001b[38;5;21;01mqiskit_nature\u001b[39;00m\u001b[38;5;21;01m.\u001b[39;00m\u001b[38;5;21;01msecond_q\u001b[39;00m\u001b[38;5;21;01m.\u001b[39;00m\u001b[38;5;21;01mmappers\u001b[39;00m \u001b[38;5;28;01mimport\u001b[39;00m \u001b[38;5;241m*\u001b[39m \u001b[38;5;66;03m#JordanWignerMapper\u001b[39;00m\n",
      "File \u001b[0;32m~/miniconda/envs/aws_braket/lib/python3.12/site-packages/qiskit_nature/__init__.py:53\u001b[0m\n\u001b[1;32m      1\u001b[0m \u001b[38;5;66;03m# This code is part of a Qiskit project.\u001b[39;00m\n\u001b[1;32m      2\u001b[0m \u001b[38;5;66;03m#\u001b[39;00m\n\u001b[1;32m      3\u001b[0m \u001b[38;5;66;03m# (C) Copyright IBM 2018, 2023.\u001b[39;00m\n\u001b[0;32m   (...)\u001b[0m\n\u001b[1;32m     10\u001b[0m \u001b[38;5;66;03m# copyright notice, and modified files need to carry a notice indicating\u001b[39;00m\n\u001b[1;32m     11\u001b[0m \u001b[38;5;66;03m# that they have been altered from the originals.\u001b[39;00m\n\u001b[1;32m     12\u001b[0m \u001b[38;5;124mr\u001b[39m\u001b[38;5;124;03m\"\"\"\u001b[39;00m\n\u001b[1;32m     13\u001b[0m \u001b[38;5;124;03m=============================================\u001b[39;00m\n\u001b[1;32m     14\u001b[0m \u001b[38;5;124;03mQiskit Nature module (:mod:`qiskit_nature`)\u001b[39;00m\n\u001b[0;32m   (...)\u001b[0m\n\u001b[1;32m     50\u001b[0m \n\u001b[1;32m     51\u001b[0m \u001b[38;5;124;03m\"\"\"\u001b[39;00m\n\u001b[0;32m---> 53\u001b[0m \u001b[38;5;28;01mfrom\u001b[39;00m \u001b[38;5;21;01mqiskit_algorithms\u001b[39;00m\u001b[38;5;21;01m.\u001b[39;00m\u001b[38;5;21;01mlist_or_dict\u001b[39;00m \u001b[38;5;28;01mimport\u001b[39;00m ListOrDict \u001b[38;5;28;01mas\u001b[39;00m ListOrDictType\n\u001b[1;32m     55\u001b[0m \u001b[38;5;28;01mfrom\u001b[39;00m \u001b[38;5;21;01m.\u001b[39;00m\u001b[38;5;21;01mexceptions\u001b[39;00m \u001b[38;5;28;01mimport\u001b[39;00m QiskitNatureError, UnsupportMethodError\n\u001b[1;32m     56\u001b[0m \u001b[38;5;28;01mfrom\u001b[39;00m \u001b[38;5;21;01m.\u001b[39;00m\u001b[38;5;21;01mlogging\u001b[39;00m \u001b[38;5;28;01mimport\u001b[39;00m logging\n",
      "File \u001b[0;32m~/miniconda/envs/aws_braket/lib/python3.12/site-packages/qiskit_algorithms/__init__.py:254\u001b[0m\n\u001b[1;32m    252\u001b[0m \u001b[38;5;28;01mfrom\u001b[39;00m \u001b[38;5;21;01m.\u001b[39;00m\u001b[38;5;21;01malgorithm_job\u001b[39;00m \u001b[38;5;28;01mimport\u001b[39;00m AlgorithmJob\n\u001b[1;32m    253\u001b[0m \u001b[38;5;28;01mfrom\u001b[39;00m \u001b[38;5;21;01m.\u001b[39;00m\u001b[38;5;21;01malgorithm_result\u001b[39;00m \u001b[38;5;28;01mimport\u001b[39;00m AlgorithmResult\n\u001b[0;32m--> 254\u001b[0m \u001b[38;5;28;01mfrom\u001b[39;00m \u001b[38;5;21;01m.\u001b[39;00m\u001b[38;5;21;01mvariational_algorithm\u001b[39;00m \u001b[38;5;28;01mimport\u001b[39;00m VariationalAlgorithm, VariationalResult\n\u001b[1;32m    255\u001b[0m \u001b[38;5;28;01mfrom\u001b[39;00m \u001b[38;5;21;01m.\u001b[39;00m\u001b[38;5;21;01mamplitude_amplifiers\u001b[39;00m \u001b[38;5;28;01mimport\u001b[39;00m Grover, GroverResult, AmplificationProblem, AmplitudeAmplifier\n\u001b[1;32m    256\u001b[0m \u001b[38;5;28;01mfrom\u001b[39;00m \u001b[38;5;21;01m.\u001b[39;00m\u001b[38;5;21;01mamplitude_estimators\u001b[39;00m \u001b[38;5;28;01mimport\u001b[39;00m (\n\u001b[1;32m    257\u001b[0m     AmplitudeEstimator,\n\u001b[1;32m    258\u001b[0m     AmplitudeEstimatorResult,\n\u001b[0;32m   (...)\u001b[0m\n\u001b[1;32m    267\u001b[0m     EstimationProblem,\n\u001b[1;32m    268\u001b[0m )\n",
      "File \u001b[0;32m~/miniconda/envs/aws_braket/lib/python3.12/site-packages/qiskit_algorithms/variational_algorithm.py:36\u001b[0m\n\u001b[1;32m     33\u001b[0m \u001b[38;5;28;01mfrom\u001b[39;00m \u001b[38;5;21;01mqiskit\u001b[39;00m\u001b[38;5;21;01m.\u001b[39;00m\u001b[38;5;21;01mcircuit\u001b[39;00m \u001b[38;5;28;01mimport\u001b[39;00m QuantumCircuit\n\u001b[1;32m     35\u001b[0m \u001b[38;5;28;01mfrom\u001b[39;00m \u001b[38;5;21;01m.\u001b[39;00m\u001b[38;5;21;01malgorithm_result\u001b[39;00m \u001b[38;5;28;01mimport\u001b[39;00m AlgorithmResult\n\u001b[0;32m---> 36\u001b[0m \u001b[38;5;28;01mfrom\u001b[39;00m \u001b[38;5;21;01m.\u001b[39;00m\u001b[38;5;21;01moptimizers\u001b[39;00m \u001b[38;5;28;01mimport\u001b[39;00m OptimizerResult\n\u001b[1;32m     39\u001b[0m \u001b[38;5;28;01mclass\u001b[39;00m \u001b[38;5;21;01mVariationalAlgorithm\u001b[39;00m(ABC):\n\u001b[1;32m     40\u001b[0m \u001b[38;5;250m    \u001b[39m\u001b[38;5;124;03m\"\"\"The Variational Algorithm Base Class.\"\"\"\u001b[39;00m\n",
      "File \u001b[0;32m~/miniconda/envs/aws_braket/lib/python3.12/site-packages/qiskit_algorithms/optimizers/__init__.py:145\u001b[0m\n\u001b[1;32m    143\u001b[0m \u001b[38;5;28;01mfrom\u001b[39;00m \u001b[38;5;21;01m.\u001b[39;00m\u001b[38;5;21;01mspsa\u001b[39;00m \u001b[38;5;28;01mimport\u001b[39;00m SPSA\n\u001b[1;32m    144\u001b[0m \u001b[38;5;28;01mfrom\u001b[39;00m \u001b[38;5;21;01m.\u001b[39;00m\u001b[38;5;21;01mtnc\u001b[39;00m \u001b[38;5;28;01mimport\u001b[39;00m TNC\n\u001b[0;32m--> 145\u001b[0m \u001b[38;5;28;01mfrom\u001b[39;00m \u001b[38;5;21;01m.\u001b[39;00m\u001b[38;5;21;01mumda\u001b[39;00m \u001b[38;5;28;01mimport\u001b[39;00m UMDA\n\u001b[1;32m    147\u001b[0m __all__ \u001b[38;5;241m=\u001b[39m [\n\u001b[1;32m    148\u001b[0m     \u001b[38;5;124m\"\u001b[39m\u001b[38;5;124mOptimizer\u001b[39m\u001b[38;5;124m\"\u001b[39m,\n\u001b[1;32m    149\u001b[0m     \u001b[38;5;124m\"\u001b[39m\u001b[38;5;124mOptimizerSupportLevel\u001b[39m\u001b[38;5;124m\"\u001b[39m,\n\u001b[0;32m   (...)\u001b[0m\n\u001b[1;32m    181\u001b[0m     \u001b[38;5;124m\"\u001b[39m\u001b[38;5;124mUMDA\u001b[39m\u001b[38;5;124m\"\u001b[39m,\n\u001b[1;32m    182\u001b[0m ]\n",
      "File \u001b[0;32m~/miniconda/envs/aws_braket/lib/python3.12/site-packages/qiskit_algorithms/optimizers/umda.py:21\u001b[0m\n\u001b[1;32m     18\u001b[0m \u001b[38;5;28;01mfrom\u001b[39;00m \u001b[38;5;21;01mtyping\u001b[39;00m \u001b[38;5;28;01mimport\u001b[39;00m Any\n\u001b[1;32m     20\u001b[0m \u001b[38;5;28;01mimport\u001b[39;00m \u001b[38;5;21;01mnumpy\u001b[39;00m \u001b[38;5;28;01mas\u001b[39;00m \u001b[38;5;21;01mnp\u001b[39;00m\n\u001b[0;32m---> 21\u001b[0m \u001b[38;5;28;01mfrom\u001b[39;00m \u001b[38;5;21;01mscipy\u001b[39;00m\u001b[38;5;21;01m.\u001b[39;00m\u001b[38;5;21;01mstats\u001b[39;00m \u001b[38;5;28;01mimport\u001b[39;00m norm\n\u001b[1;32m     23\u001b[0m \u001b[38;5;28;01mfrom\u001b[39;00m \u001b[38;5;21;01mqiskit_algorithms\u001b[39;00m\u001b[38;5;21;01m.\u001b[39;00m\u001b[38;5;21;01mutils\u001b[39;00m \u001b[38;5;28;01mimport\u001b[39;00m algorithm_globals\n\u001b[1;32m     24\u001b[0m \u001b[38;5;28;01mfrom\u001b[39;00m \u001b[38;5;21;01m.\u001b[39;00m\u001b[38;5;21;01moptimizer\u001b[39;00m \u001b[38;5;28;01mimport\u001b[39;00m OptimizerResult, POINT\n",
      "File \u001b[0;32m~/miniconda/envs/aws_braket/lib/python3.12/site-packages/scipy/stats/__init__.py:608\u001b[0m\n\u001b[1;32m      1\u001b[0m \u001b[38;5;124;03m\"\"\"\u001b[39;00m\n\u001b[1;32m      2\u001b[0m \u001b[38;5;124;03m.. _statsrefmanual:\u001b[39;00m\n\u001b[1;32m      3\u001b[0m \n\u001b[0;32m   (...)\u001b[0m\n\u001b[1;32m    603\u001b[0m \n\u001b[1;32m    604\u001b[0m \u001b[38;5;124;03m\"\"\"\u001b[39;00m\n\u001b[1;32m    606\u001b[0m \u001b[38;5;28;01mfrom\u001b[39;00m \u001b[38;5;21;01m.\u001b[39;00m\u001b[38;5;21;01m_warnings_errors\u001b[39;00m \u001b[38;5;28;01mimport\u001b[39;00m (ConstantInputWarning, NearConstantInputWarning,\n\u001b[1;32m    607\u001b[0m                                DegenerateDataWarning, FitError)\n\u001b[0;32m--> 608\u001b[0m \u001b[38;5;28;01mfrom\u001b[39;00m \u001b[38;5;21;01m.\u001b[39;00m\u001b[38;5;21;01m_stats_py\u001b[39;00m \u001b[38;5;28;01mimport\u001b[39;00m \u001b[38;5;241m*\u001b[39m\n\u001b[1;32m    609\u001b[0m \u001b[38;5;28;01mfrom\u001b[39;00m \u001b[38;5;21;01m.\u001b[39;00m\u001b[38;5;21;01m_variation\u001b[39;00m \u001b[38;5;28;01mimport\u001b[39;00m variation\n\u001b[1;32m    610\u001b[0m \u001b[38;5;28;01mfrom\u001b[39;00m \u001b[38;5;21;01m.\u001b[39;00m\u001b[38;5;21;01mdistributions\u001b[39;00m \u001b[38;5;28;01mimport\u001b[39;00m \u001b[38;5;241m*\u001b[39m\n",
      "File \u001b[0;32m~/miniconda/envs/aws_braket/lib/python3.12/site-packages/scipy/stats/_stats_py.py:46\u001b[0m\n\u001b[1;32m     44\u001b[0m \u001b[38;5;28;01mimport\u001b[39;00m \u001b[38;5;21;01mscipy\u001b[39;00m\u001b[38;5;21;01m.\u001b[39;00m\u001b[38;5;21;01mspecial\u001b[39;00m \u001b[38;5;28;01mas\u001b[39;00m \u001b[38;5;21;01mspecial\u001b[39;00m\n\u001b[1;32m     45\u001b[0m \u001b[38;5;28;01mfrom\u001b[39;00m \u001b[38;5;21;01mscipy\u001b[39;00m \u001b[38;5;28;01mimport\u001b[39;00m linalg\n\u001b[0;32m---> 46\u001b[0m \u001b[38;5;28;01mfrom\u001b[39;00m \u001b[38;5;21;01m.\u001b[39;00m \u001b[38;5;28;01mimport\u001b[39;00m distributions\n\u001b[1;32m     47\u001b[0m \u001b[38;5;28;01mfrom\u001b[39;00m \u001b[38;5;21;01m.\u001b[39;00m \u001b[38;5;28;01mimport\u001b[39;00m _mstats_basic \u001b[38;5;28;01mas\u001b[39;00m mstats_basic\n\u001b[1;32m     48\u001b[0m \u001b[38;5;28;01mfrom\u001b[39;00m \u001b[38;5;21;01m.\u001b[39;00m\u001b[38;5;21;01m_stats_mstats_common\u001b[39;00m \u001b[38;5;28;01mimport\u001b[39;00m (_find_repeats, linregress, theilslopes,\n\u001b[1;32m     49\u001b[0m                                    siegelslopes)\n",
      "File \u001b[0;32m~/miniconda/envs/aws_braket/lib/python3.12/site-packages/scipy/stats/distributions.py:10\u001b[0m\n\u001b[1;32m      1\u001b[0m \u001b[38;5;66;03m#\u001b[39;00m\n\u001b[1;32m      2\u001b[0m \u001b[38;5;66;03m# Author:  Travis Oliphant  2002-2011 with contributions from\u001b[39;00m\n\u001b[1;32m      3\u001b[0m \u001b[38;5;66;03m#          SciPy Developers 2004-2011\u001b[39;00m\n\u001b[0;32m   (...)\u001b[0m\n\u001b[1;32m      6\u001b[0m \u001b[38;5;66;03m#       instead of `git blame -Lxxx,+x`.\u001b[39;00m\n\u001b[1;32m      7\u001b[0m \u001b[38;5;66;03m#\u001b[39;00m\n\u001b[1;32m      8\u001b[0m \u001b[38;5;28;01mfrom\u001b[39;00m \u001b[38;5;21;01m.\u001b[39;00m\u001b[38;5;21;01m_distn_infrastructure\u001b[39;00m \u001b[38;5;28;01mimport\u001b[39;00m (rv_discrete, rv_continuous, rv_frozen)  \u001b[38;5;66;03m# noqa: F401\u001b[39;00m\n\u001b[0;32m---> 10\u001b[0m \u001b[38;5;28;01mfrom\u001b[39;00m \u001b[38;5;21;01m.\u001b[39;00m \u001b[38;5;28;01mimport\u001b[39;00m _continuous_distns\n\u001b[1;32m     11\u001b[0m \u001b[38;5;28;01mfrom\u001b[39;00m \u001b[38;5;21;01m.\u001b[39;00m \u001b[38;5;28;01mimport\u001b[39;00m _discrete_distns\n\u001b[1;32m     13\u001b[0m \u001b[38;5;28;01mfrom\u001b[39;00m \u001b[38;5;21;01m.\u001b[39;00m\u001b[38;5;21;01m_continuous_distns\u001b[39;00m \u001b[38;5;28;01mimport\u001b[39;00m \u001b[38;5;241m*\u001b[39m\n",
      "File \u001b[0;32m~/miniconda/envs/aws_braket/lib/python3.12/site-packages/scipy/stats/_continuous_distns.py:5302\u001b[0m\n\u001b[1;32m   5298\u001b[0m             g2 \u001b[38;5;241m=\u001b[39m (t1 \u001b[38;5;241m+\u001b[39m t2 \u001b[38;5;241m+\u001b[39m t3\u001b[38;5;241m*\u001b[39mt4) \u001b[38;5;241m/\u001b[39m denom \u001b[38;5;241m-\u001b[39m \u001b[38;5;241m3\u001b[39m\n\u001b[1;32m   5299\u001b[0m         \u001b[38;5;28;01mreturn\u001b[39;00m mu, mu2, g1, g2\n\u001b[0;32m-> 5302\u001b[0m johnsonsu \u001b[38;5;241m=\u001b[39m johnsonsu_gen(name\u001b[38;5;241m=\u001b[39m\u001b[38;5;124m'\u001b[39m\u001b[38;5;124mjohnsonsu\u001b[39m\u001b[38;5;124m'\u001b[39m)\n\u001b[1;32m   5305\u001b[0m \u001b[38;5;28;01mclass\u001b[39;00m \u001b[38;5;21;01mlaplace_gen\u001b[39;00m(rv_continuous):\n\u001b[1;32m   5306\u001b[0m \u001b[38;5;250m    \u001b[39m\u001b[38;5;124mr\u001b[39m\u001b[38;5;124;03m\"\"\"A Laplace continuous random variable.\u001b[39;00m\n\u001b[1;32m   5307\u001b[0m \n\u001b[1;32m   5308\u001b[0m \u001b[38;5;124;03m    %(before_notes)s\u001b[39;00m\n\u001b[0;32m   (...)\u001b[0m\n\u001b[1;32m   5323\u001b[0m \n\u001b[1;32m   5324\u001b[0m \u001b[38;5;124;03m    \"\"\"\u001b[39;00m\n",
      "File \u001b[0;32m~/miniconda/envs/aws_braket/lib/python3.12/site-packages/scipy/stats/_distn_infrastructure.py:1828\u001b[0m, in \u001b[0;36mrv_continuous.__init__\u001b[0;34m(self, momtype, a, b, xtol, badvalue, name, longname, shapes, seed)\u001b[0m\n\u001b[1;32m   1823\u001b[0m \u001b[38;5;28mself\u001b[39m\u001b[38;5;241m.\u001b[39mshapes \u001b[38;5;241m=\u001b[39m shapes\n\u001b[1;32m   1825\u001b[0m \u001b[38;5;28mself\u001b[39m\u001b[38;5;241m.\u001b[39m_construct_argparser(meths_to_inspect\u001b[38;5;241m=\u001b[39m[\u001b[38;5;28mself\u001b[39m\u001b[38;5;241m.\u001b[39m_pdf, \u001b[38;5;28mself\u001b[39m\u001b[38;5;241m.\u001b[39m_cdf],\n\u001b[1;32m   1826\u001b[0m                           locscale_in\u001b[38;5;241m=\u001b[39m\u001b[38;5;124m'\u001b[39m\u001b[38;5;124mloc=0, scale=1\u001b[39m\u001b[38;5;124m'\u001b[39m,\n\u001b[1;32m   1827\u001b[0m                           locscale_out\u001b[38;5;241m=\u001b[39m\u001b[38;5;124m'\u001b[39m\u001b[38;5;124mloc, scale\u001b[39m\u001b[38;5;124m'\u001b[39m)\n\u001b[0;32m-> 1828\u001b[0m \u001b[38;5;28mself\u001b[39m\u001b[38;5;241m.\u001b[39m_attach_methods()\n\u001b[1;32m   1830\u001b[0m \u001b[38;5;28;01mif\u001b[39;00m longname \u001b[38;5;129;01mis\u001b[39;00m \u001b[38;5;28;01mNone\u001b[39;00m:\n\u001b[1;32m   1831\u001b[0m     \u001b[38;5;28;01mif\u001b[39;00m name[\u001b[38;5;241m0\u001b[39m] \u001b[38;5;129;01min\u001b[39;00m [\u001b[38;5;124m'\u001b[39m\u001b[38;5;124maeiouAEIOU\u001b[39m\u001b[38;5;124m'\u001b[39m]:\n",
      "File \u001b[0;32m~/miniconda/envs/aws_braket/lib/python3.12/site-packages/scipy/stats/_distn_infrastructure.py:1862\u001b[0m, in \u001b[0;36mrv_continuous._attach_methods\u001b[0;34m(self)\u001b[0m\n\u001b[1;32m   1858\u001b[0m \u001b[38;5;250m\u001b[39m\u001b[38;5;124;03m\"\"\"\u001b[39;00m\n\u001b[1;32m   1859\u001b[0m \u001b[38;5;124;03mAttaches dynamically created methods to the rv_continuous instance.\u001b[39;00m\n\u001b[1;32m   1860\u001b[0m \u001b[38;5;124;03m\"\"\"\u001b[39;00m\n\u001b[1;32m   1861\u001b[0m \u001b[38;5;66;03m# _attach_methods is responsible for calling _attach_argparser_methods\u001b[39;00m\n\u001b[0;32m-> 1862\u001b[0m \u001b[38;5;28mself\u001b[39m\u001b[38;5;241m.\u001b[39m_attach_argparser_methods()\n\u001b[1;32m   1864\u001b[0m \u001b[38;5;66;03m# nin correction\u001b[39;00m\n\u001b[1;32m   1865\u001b[0m \u001b[38;5;28mself\u001b[39m\u001b[38;5;241m.\u001b[39m_ppfvec \u001b[38;5;241m=\u001b[39m vectorize(\u001b[38;5;28mself\u001b[39m\u001b[38;5;241m.\u001b[39m_ppf_single, otypes\u001b[38;5;241m=\u001b[39m\u001b[38;5;124m'\u001b[39m\u001b[38;5;124md\u001b[39m\u001b[38;5;124m'\u001b[39m)\n",
      "File \u001b[0;32m~/miniconda/envs/aws_braket/lib/python3.12/site-packages/scipy/stats/_distn_infrastructure.py:693\u001b[0m, in \u001b[0;36mrv_generic._attach_argparser_methods\u001b[0;34m(self)\u001b[0m\n\u001b[1;32m    685\u001b[0m \u001b[38;5;250m\u001b[39m\u001b[38;5;124;03m\"\"\"\u001b[39;00m\n\u001b[1;32m    686\u001b[0m \u001b[38;5;124;03mGenerates the argument-parsing functions dynamically and attaches\u001b[39;00m\n\u001b[1;32m    687\u001b[0m \u001b[38;5;124;03mthem to the instance.\u001b[39;00m\n\u001b[0;32m   (...)\u001b[0m\n\u001b[1;32m    690\u001b[0m \u001b[38;5;124;03mduring unpickling (__setstate__)\u001b[39;00m\n\u001b[1;32m    691\u001b[0m \u001b[38;5;124;03m\"\"\"\u001b[39;00m\n\u001b[1;32m    692\u001b[0m ns \u001b[38;5;241m=\u001b[39m {}\n\u001b[0;32m--> 693\u001b[0m exec(\u001b[38;5;28mself\u001b[39m\u001b[38;5;241m.\u001b[39m_parse_arg_template, ns)\n\u001b[1;32m    694\u001b[0m \u001b[38;5;66;03m# NB: attach to the instance, not class\u001b[39;00m\n\u001b[1;32m    695\u001b[0m \u001b[38;5;28;01mfor\u001b[39;00m name \u001b[38;5;129;01min\u001b[39;00m [\u001b[38;5;124m'\u001b[39m\u001b[38;5;124m_parse_args\u001b[39m\u001b[38;5;124m'\u001b[39m, \u001b[38;5;124m'\u001b[39m\u001b[38;5;124m_parse_args_stats\u001b[39m\u001b[38;5;124m'\u001b[39m, \u001b[38;5;124m'\u001b[39m\u001b[38;5;124m_parse_args_rvs\u001b[39m\u001b[38;5;124m'\u001b[39m]:\n",
      "File \u001b[0;32m<string>:0\u001b[0m\n",
      "\u001b[0;31mKeyboardInterrupt\u001b[0m: "
     ]
    }
   ],
   "source": [
    "#Python Default \n",
    "\n",
    "import pickle\n",
    "import time\n",
    "\n",
    "#Essentials\n",
    "\n",
    "import numpy as np\n",
    "from bs4 import BeautifulSoup\n",
    "import requests\n",
    "import func_timeout\n",
    "import pandas as pd\n",
    "\n",
    "#from objproxies import *\n",
    "\n",
    "import matplotlib.pyplot as plt\n",
    "\n",
    "from scipy.optimize import curve_fit\n",
    "\n",
    "#Qiskit\n",
    "\n",
    "from qiskit.circuit import Gate\n",
    "from qiskit import transpile\n",
    "from qiskit.providers.models import *\n",
    "from qiskit_ibm_runtime.fake_provider import *\n",
    "from qiskit.providers.fake_provider import *\n",
    "\n",
    "## Qiskit Nature\n",
    "    \n",
    "from qiskit_nature.units import *   #ANGSTROM\n",
    "\n",
    "from qiskit_nature.second_q.drivers import *    #PySCFDriver\n",
    "\n",
    "from qiskit_nature.second_q.mappers import * #JordanWignerMapper\n",
    "\n",
    "from qiskit_nature.second_q.algorithms import GroundStateEigensolver\n",
    "\n",
    "from qiskit_nature.second_q.problems import ElectronicStructureProblem\n",
    "\n",
    "from qiskit_nature.second_q.circuit.library import *  #Ansatz, HF\n",
    "\n",
    "## Qiskit Algorithms\n",
    "    \n",
    "from qiskit_algorithms.minimum_eigensolvers import VQE as  VQE_algorithms   #VQE\n",
    " \n",
    "from qiskit_algorithms.optimizers import *    #SLSQP\n",
    "\n",
    "from qiskit.circuit.library import EfficientSU2   #EfficientSU2\n",
    "\n",
    "## Qiskit Primitives\n",
    "\n",
    "from qiskit.primitives import Estimator as Estimator_Nature\n",
    "\n",
    "from qiskit_aer.primitives.estimator import Estimator as Estimator_Aer\n",
    "\n",
    "## Qiskit Noise Models\n",
    "\n",
    "from qiskit_aer.noise import NoiseModel\n",
    "\n",
    "from qiskit.providers.fake_provider import *\n",
    "\n",
    "##Qiskit Runtime IBM\n",
    "\n",
    "from qiskit_ibm_runtime import QiskitRuntimeService, Session, Options\n",
    "\n",
    "from qiskit_ibm_runtime import Estimator, EstimatorV2    #Estimator\n",
    "\n",
    "## Braket\n",
    "\n",
    "from braket.tracking import Tracker\n",
    "from qiskit_braket_provider import *\n",
    "\n",
    "\n",
    "%matplotlib widget"
   ]
  },
  {
   "cell_type": "code",
   "execution_count": 2,
   "metadata": {
    "notebookRunGroups": {
     "groupValue": "1"
    }
   },
   "outputs": [],
   "source": [
    "provider = BraketProvider()\n",
    "local_simulator = BraketLocalBackend()\n",
    "sv1_simualtor = provider.get_backend(\"SV1\")"
   ]
  },
  {
   "cell_type": "code",
   "execution_count": null,
   "metadata": {},
   "outputs": [],
   "source": [
    "provider.backends()"
   ]
  },
  {
   "cell_type": "code",
   "execution_count": null,
   "metadata": {
    "notebookRunGroups": {
     "groupValue": "1"
    }
   },
   "outputs": [],
   "source": [
    "service = QiskitRuntimeService()\n",
    "backend = service.backend(\"ibm_brisbane\")\n",
    "noise_model = NoiseModel.from_backend(backend)"
   ]
  },
  {
   "cell_type": "code",
   "execution_count": null,
   "metadata": {},
   "outputs": [],
   "source": [
    "Estimator(local_simulator).options"
   ]
  },
  {
   "cell_type": "code",
   "execution_count": null,
   "metadata": {},
   "outputs": [],
   "source": [
    "EstimatorV2(local_simulator).options"
   ]
  },
  {
   "cell_type": "code",
   "execution_count": 3,
   "metadata": {
    "notebookRunGroups": {
     "groupValue": "1"
    }
   },
   "outputs": [],
   "source": [
    "class Estimator_answer:\n",
    "    \n",
    "    def __init__(self) -> None:\n",
    "        \n",
    "        self._resultado = None\n",
    "        self._billing = None\n",
    "        self._callback = []\n",
    "        \n",
    "    def set_result(self, resultado):\n",
    "        \n",
    "        self._resultado = resultado\n",
    "    \n",
    "    def set_billing(self, billing):\n",
    "            \n",
    "            self._billing = billing\n",
    "            \n",
    "    def set_callback(self, callback):\n",
    "            \n",
    "            self._callback.append(callback)\n",
    "    "
   ]
  },
  {
   "cell_type": "code",
   "execution_count": 4,
   "metadata": {
    "notebookRunGroups": {
     "groupValue": "1"
    }
   },
   "outputs": [],
   "source": [
    "def salvar(a):\n",
    "    with open(f'Códigos/Gabriel/GroundState6/dados/{a}.pickle', 'wb') as f:\n",
    "        pickle.dump(eval(a), f) \n",
    "\n",
    "def abrir(a):\n",
    "    with open(f'Códigos/Gabriel/GroundState6/dados/{a}.pickle', 'rb') as f:\n",
    "        return pickle.load(f)\n",
    "    \n",
    "def Estimator_intervalo(intervalo, base = \"sto3g\", optimizer = COBYLA(), noise = None, backend = None, session = None, mapper = JordanWignerMapper(), shots = 2048, seed = 1):\n",
    "        \n",
    "    for a in intervalo: \n",
    "        \n",
    "        driver = PySCFDriver(\n",
    "            atom= f\"H 0 0 0; H 0 0 {a}\",\n",
    "            basis=base,\n",
    "            charge=0,\n",
    "            spin=0,\n",
    "            unit=DistanceUnit.ANGSTROM,\n",
    "        )\n",
    "        \n",
    "        es_problem = driver.run()\n",
    "                    \n",
    "        estimator = Estimator(backend = backend, session = session, options = {'shots': shots})\n",
    "\n",
    "        mapper = mapper\n",
    "        \n",
    "        ansatz = UCCSD(\n",
    "            es_problem.num_spatial_orbitals,\n",
    "            es_problem.num_particles,\n",
    "            mapper,\n",
    "            initial_state=HartreeFock(\n",
    "                es_problem.num_spatial_orbitals,\n",
    "                es_problem.num_particles,\n",
    "                mapper,\n",
    "            ),\n",
    "        )\n",
    "\n",
    "        vqe_solver = VQE_algorithms(estimator, ansatz, optimizer)\n",
    "        \n",
    "        vqe_solver.initial_point = [0.0] * ansatz.num_parameters\n",
    "        \n",
    "        calc = GroundStateEigensolver(mapper, vqe_solver)\n",
    "        \n",
    "        res = calc.solve(es_problem)\n",
    "        \n",
    "        # yield [a, res.groundenergy + res.nuclear_repulsion_energy], calc.get_qubit_operators(es_problem)\n",
    "        return ansatz.assign_parameters(vqe_solver.compute_minimum_eigenvalue(calc.get_qubit_operators(es_problem)[0]).optimal_point)"
   ]
  },
  {
   "cell_type": "code",
   "execution_count": null,
   "metadata": {},
   "outputs": [],
   "source": [
    "a = Estimator_intervalo([1], backend = local_simulator, shots = 100, seed = 1)"
   ]
  },
  {
   "cell_type": "code",
   "execution_count": null,
   "metadata": {},
   "outputs": [],
   "source": [
    "a.decompose().draw('mpl')"
   ]
  },
  {
   "cell_type": "code",
   "execution_count": 5,
   "metadata": {},
   "outputs": [
    {
     "data": {
      "image/png": "[encoded data removed]",
      "text/plain": [
       "<Figure size 1876.11x367.889 with 1 Axes>"
      ]
     },
     "execution_count": 5,
     "metadata": {},
     "output_type": "execute_result"
    },
    {
     "data": {
      "application/vnd.jupyter.widget-view+json": {
       "model_id": "7eb8bbb64fb946e3be6b2caf8104f97e",
       "version_major": 2,
       "version_minor": 0
      },
      "image/png": "[encoded data removed]",
      "text/html": [
       "\n",
       "            <div style=\"display: inline-block;\">\n",
       "                <div class=\"jupyter-widgets widget-label\" style=\"text-align: center;\">\n",
       "                    Figure\n",
       "                </div>\n",
       "                <img src='data:image/png;base64,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' width=1876.10747367945/>\n",
       "            </div>\n",
       "        "
      ],
      "text/plain": [
       "Canvas(toolbar=Toolbar(toolitems=[('Home', 'Reset original view', 'home', 'home'), ('Back', 'Back to previous …"
      ]
     },
     "metadata": {},
     "output_type": "display_data"
    }
   ],
   "source": [
    "driver = PySCFDriver(\n",
    "    atom= f\"H 0 0 0; H 0 0 1\",\n",
    "    basis=\"sto3g\",\n",
    "    charge=0,\n",
    "    spin=0,\n",
    "    unit=DistanceUnit.ANGSTROM,\n",
    ")\n",
    "\n",
    "es_problem = driver.run()\n",
    "\n",
    "mapper = JordanWignerMapper()\n",
    "\n",
    "ansatz = UCCSD(\n",
    "    es_problem.num_spatial_orbitals,\n",
    "    es_problem.num_particles,\n",
    "    mapper,\n",
    "    initial_state=HartreeFock(\n",
    "        es_problem.num_spatial_orbitals,\n",
    "        es_problem.num_particles,\n",
    "        mapper,\n",
    "    ),\n",
    ")\n",
    "\n",
    "ansatz.decompose().draw('mpl')"
   ]
  },
  {
   "cell_type": "code",
   "execution_count": null,
   "metadata": {},
   "outputs": [],
   "source": [
    "transpile(ansatz, backend = local_simulator).draw('mpl')"
   ]
  },
  {
   "cell_type": "code",
   "execution_count": null,
   "metadata": {},
   "outputs": [],
   "source": [
    "transpile(ansatz, backend = FakeVigoV2()).draw('mpl')"
   ]
  },
  {
   "cell_type": "code",
   "execution_count": 6,
   "metadata": {},
   "outputs": [
    {
     "name": "stdout",
     "output_type": "stream",
     "text": [
      "Gates present: cx u rz h\n",
      "\n",
      "Number of gates: 99\n",
      "\n",
      "Distribution of gates: \n",
      "\n",
      "cx 56\n",
      "u 26\n",
      "rz 12\n",
      "h 5\n"
     ]
    }
   ],
   "source": [
    "circuit = transpile(ansatz, backend = local_simulator)\n",
    "\n",
    "gates = []\n",
    "\n",
    "for i, (gate, qubits, etc) in enumerate(circuit.data):\n",
    "    \n",
    "    gates.append(gate.name)\n",
    "\n",
    "set_gates = list(set(gates))\n",
    "\n",
    "set_gates.sort(key = lambda x: gates.count(x), reverse = True)\n",
    "\n",
    "print(\"Gates present: \" + \" \".join(set_gates), end = \"\\n\\n\")\n",
    "print(f\"Number of gates: {len(gates)}\\n\\nDistribution of gates: \\n\")\n",
    "\n",
    "for i in set_gates:\n",
    "    \n",
    "    print(i, gates.count(i))"
   ]
  },
  {
   "cell_type": "code",
   "execution_count": 8,
   "metadata": {},
   "outputs": [
    {
     "name": "stderr",
     "output_type": "stream",
     "text": [
      "/tmp/ipykernel_7026/2978663112.py:11: DeprecationWarning: The Sampler and Estimator V1 primitives have been deprecated as of qiskit-ibm-runtime 0.23.0 and will be removed no sooner than 3 months after the release date. Please use the V2 Primitives. See the `V2 migration guide <https://docs.quantum.ibm.com/api/migration-guides/v2-primitives>`_. for more details\n",
      "  estimator = Estimator(backend = local_simulator, options = {'shots': 2000})\n"
     ]
    }
   ],
   "source": [
    "driver = PySCFDriver(\n",
    "    atom= f\"H 0 0 0; H 0 0 1\",\n",
    "    basis=\"sto3g\",\n",
    "    charge=0,\n",
    "    spin=0,\n",
    "    unit=DistanceUnit.ANGSTROM,\n",
    ")\n",
    "\n",
    "es_problem = driver.run()\n",
    "\n",
    "estimator = Estimator(backend = local_simulator, options = {'shots': 2000})\n",
    "\n",
    "mapper = JordanWignerMapper()\n",
    "\n",
    "ansatz = UCCSD(\n",
    "    es_problem.num_spatial_orbitals,\n",
    "    es_problem.num_particles,\n",
    "    mapper,\n",
    "    initial_state=HartreeFock(\n",
    "        es_problem.num_spatial_orbitals,\n",
    "        es_problem.num_particles,\n",
    "        mapper,\n",
    "    ),\n",
    ")\n",
    "\n",
    "vqe_solver = VQE_algorithms(estimator, ansatz, COBYLA())\n",
    "\n",
    "vqe_solver.initial_point = [0.0] * ansatz.num_parameters\n",
    "\n",
    "calc = GroundStateEigensolver(mapper, vqe_solver)\n",
    "\n",
    "minimum_eigenvalue = vqe_solver.compute_minimum_eigenvalue(calc.get_qubit_operators(es_problem)[0])"
   ]
  },
  {
   "cell_type": "code",
   "execution_count": null,
   "metadata": {},
   "outputs": [],
   "source": [
    "print(type(minimum_eigenvalue))"
   ]
  },
  {
   "cell_type": "code",
   "execution_count": 16,
   "metadata": {},
   "outputs": [
    {
     "data": {
      "text/plain": [
       "qiskit.circuit.quantumcircuit.QuantumCircuit"
      ]
     },
     "execution_count": 16,
     "metadata": {},
     "output_type": "execute_result"
    }
   ],
   "source": [
    "type(transpile(minimum_eigenvalue.optimal_circuit.decompose(), local_simulator))"
   ]
  },
  {
   "cell_type": "code",
   "execution_count": 9,
   "metadata": {},
   "outputs": [
    {
     "name": "stdout",
     "output_type": "stream",
     "text": [
      "Gates present: cx u rz h\n",
      "\n",
      "Number of gates: 99\n",
      "\n",
      "Distribution of gates: \n",
      "\n",
      "cx 56\n",
      "u 26\n",
      "rz 12\n",
      "h 5\n"
     ]
    }
   ],
   "source": [
    "circuit = transpile(minimum_eigenvalue.optimal_circuit.decompose(), local_simulator)\n",
    "\n",
    "gates = []\n",
    "\n",
    "for i, (gate, qubits, etc) in enumerate(circuit.data):\n",
    "    \n",
    "    gates.append(gate.name)\n",
    "\n",
    "set_gates = list(set(gates))\n",
    "\n",
    "set_gates.sort(key = lambda x: gates.count(x), reverse = True)\n",
    "\n",
    "print(\"Gates present: \" + \" \".join(set_gates), end = \"\\n\\n\")\n",
    "print(f\"Number of gates: {len(gates)}\\n\\nDistribution of gates: \\n\")\n",
    "\n",
    "for i in set_gates:\n",
    "    \n",
    "    print(i, gates.count(i))"
   ]
  }
 ],
 "metadata": {
  "kernelspec": {
   "display_name": "aws_braket",
   "language": "python",
   "name": "python3"
  },
  "language_info": {
   "codemirror_mode": {
    "name": "ipython",
    "version": 3
   },
   "file_extension": ".py",
   "mimetype": "text/x-python",
   "name": "python",
   "nbconvert_exporter": "python",
   "pygments_lexer": "ipython3",
   "version": "3.12.2"
  }
 },
 "nbformat": 4,
 "nbformat_minor": 2
}
