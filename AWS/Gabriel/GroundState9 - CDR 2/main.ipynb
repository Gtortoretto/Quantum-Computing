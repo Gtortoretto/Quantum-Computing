{
 "cells": [
  {
   "cell_type": "code",
   "execution_count": 2,
   "metadata": {},
   "outputs": [],
   "source": [
    "from main import *\n",
    "%matplotlib widget\n",
    "\n",
    "\n",
    "\n",
    "def get_current_directory():\n",
    "    try:\n",
    "        \n",
    "        directory = os.path.dirname(os.path.abspath(__file__))\n",
    "\n",
    "    except:\n",
    "        \n",
    "        ip = IPython.get_ipython()\n",
    "        directory = None\n",
    "        if '__vsc_ipynb_file__' in ip.user_ns:\n",
    "            directory = os.path.dirname(ip.user_ns['__vsc_ipynb_file__'])\n",
    "        \n",
    "    return directory \n",
    "\n",
    "\n",
    "def salvar(a):\n",
    "    \n",
    "    script_dir = get_current_directory()\n",
    "    \n",
    "    dados_dir = os.path.join(script_dir, 'dados')\n",
    "    \n",
    "    os.makedirs(dados_dir, exist_ok=True)\n",
    "    \n",
    "    file_path = os.path.join(dados_dir, f'{a}.pickle')\n",
    "    \n",
    "    with open(file_path, 'wb') as f:\n",
    "        pickle.dump(eval(a), f)\n",
    "\n",
    "def abrir(a):\n",
    "    \n",
    "    script_dir = get_current_directory()\n",
    "    \n",
    "    file_path = os.path.join(script_dir, 'dados', f'{a}.pickle')\n",
    "    \n",
    "    with open(file_path, 'rb') as f:\n",
    "        return pickle.load(f)\n",
    "    \n",
    "def salvar_obj(obj, filename):\n",
    "    script_dir = get_current_directory()\n",
    "    dados_dir = os.path.join(script_dir, 'dados')\n",
    "    os.makedirs(dados_dir, exist_ok=True)\n",
    "    \n",
    "    file_path = os.path.join(dados_dir, f'{filename}.pickle')\n",
    "    \n",
    "    with open(file_path, 'wb') as f:\n",
    "        pickle.dump(obj, f)"
   ]
  },
  {
   "cell_type": "code",
   "execution_count": null,
   "metadata": {},
   "outputs": [],
   "source": []
  },
  {
   "cell_type": "code",
   "execution_count": null,
   "metadata": {},
   "outputs": [],
   "source": []
  },
  {
   "cell_type": "code",
   "execution_count": null,
   "metadata": {},
   "outputs": [],
   "source": []
  },
  {
   "cell_type": "code",
   "execution_count": null,
   "metadata": {},
   "outputs": [],
   "source": []
  },
  {
   "cell_type": "code",
   "execution_count": null,
   "metadata": {},
   "outputs": [],
   "source": []
  },
  {
   "cell_type": "code",
   "execution_count": null,
   "metadata": {},
   "outputs": [],
   "source": []
  },
  {
   "cell_type": "code",
   "execution_count": null,
   "metadata": {},
   "outputs": [],
   "source": []
  },
  {
   "cell_type": "code",
   "execution_count": null,
   "metadata": {},
   "outputs": [],
   "source": []
  },
  {
   "cell_type": "code",
   "execution_count": null,
   "metadata": {},
   "outputs": [],
   "source": []
  },
  {
   "cell_type": "code",
   "execution_count": null,
   "metadata": {},
   "outputs": [],
   "source": []
  },
  {
   "cell_type": "code",
   "execution_count": null,
   "metadata": {},
   "outputs": [],
   "source": []
  }
 ],
 "metadata": {
  "kernelspec": {
   "display_name": "aws_braket_updated",
   "language": "python",
   "name": "python3"
  },
  "language_info": {
   "codemirror_mode": {
    "name": "ipython",
    "version": 3
   },
   "file_extension": ".py",
   "mimetype": "text/x-python",
   "name": "python",
   "nbconvert_exporter": "python",
   "pygments_lexer": "ipython3",
   "version": "3.12.2"
  }
 },
 "nbformat": 4,
 "nbformat_minor": 2
}
