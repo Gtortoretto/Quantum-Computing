{
 "cells": [
  {
   "cell_type": "code",
   "execution_count": 3,
   "metadata": {},
   "outputs": [],
   "source": [
    "from main import *\n",
    "from qiskit_nature.second_q.transformers import ActiveSpaceTransformer\n",
    "from qiskit_algorithms import AdaptVQE\n",
    "import time as time_module\n",
    "%matplotlib widget\n",
    "\n",
    "\n",
    "def get_current_directory():\n",
    "    try:\n",
    "        \n",
    "        directory = os.path.dirname(os.path.abspath(__file__))\n",
    "\n",
    "    except:\n",
    "        \n",
    "        ip = IPython.get_ipython()\n",
    "        directory = None\n",
    "        if '__vsc_ipynb_file__' in ip.user_ns:\n",
    "            directory = os.path.dirname(ip.user_ns['__vsc_ipynb_file__'])\n",
    "        \n",
    "    return directory \n",
    "\n",
    "\n",
    "def salvar(a):\n",
    "    \n",
    "    script_dir = get_current_directory()\n",
    "    \n",
    "    dados_dir = os.path.join(script_dir, 'dados')\n",
    "    \n",
    "    os.makedirs(dados_dir, exist_ok=True)\n",
    "    \n",
    "    file_path = os.path.join(dados_dir, f'{a}.pickle')\n",
    "    \n",
    "    with open(file_path, 'wb') as f:\n",
    "        pickle.dump(eval(a), f)\n",
    "\n",
    "def abrir(a):\n",
    "    \n",
    "    script_dir = get_current_directory()\n",
    "    \n",
    "    file_path = os.path.join(script_dir, 'dados', f'{a}.pickle')\n",
    "    \n",
    "    with open(file_path, 'rb') as f:\n",
    "        return pickle.load(f)\n",
    "    \n",
    "def salvar_obj(obj, filename):\n",
    "    script_dir = get_current_directory()\n",
    "    dados_dir = os.path.join(script_dir, 'dados')\n",
    "    os.makedirs(dados_dir, exist_ok=True)\n",
    "    \n",
    "    file_path = os.path.join(dados_dir, f'{filename}.pickle')\n",
    "    \n",
    "    with open(file_path, 'wb') as f:\n",
    "        pickle.dump(obj, f)"
   ]
  },
  {
   "cell_type": "code",
   "execution_count": 15,
   "metadata": {},
   "outputs": [
    {
     "name": "stdout",
     "output_type": "stream",
     "text": [
      "Finalizado minimal em 436.16253447532654 segundos\n"
     ]
    },
    {
     "ename": "QiskitError",
     "evalue": "\"Left and right compose dimensions don't match ((2, 2, 2, 2, 2, 2, 2, 2, 2, 2, 2, 2, 2, 2, 2, 2) != (2, 2, 2, 2, 2, 2, 2, 2))\"",
     "output_type": "error",
     "traceback": [
      "\u001b[0;31m---------------------------------------------------------------------------\u001b[0m",
      "\u001b[0;31mQiskitError\u001b[0m                               Traceback (most recent call last)",
      "Cell \u001b[0;32mIn[15], line 49\u001b[0m\n\u001b[1;32m     46\u001b[0m calculo \u001b[38;5;241m=\u001b[39m GroundStateEigensolver(\u001b[38;5;28meval\u001b[39m(\u001b[38;5;124mf\u001b[39m\u001b[38;5;124m'\u001b[39m\u001b[38;5;124mmapa_\u001b[39m\u001b[38;5;132;01m{\u001b[39;00ma\u001b[38;5;132;01m}\u001b[39;00m\u001b[38;5;124m'\u001b[39m), vqe_solver)\n\u001b[1;32m     48\u001b[0m \u001b[38;5;66;03m#resultados = calculo.solve(eval(f'estrutura_{a}'))\u001b[39;00m\n\u001b[0;32m---> 49\u001b[0m minimum_eigenvalue \u001b[38;5;241m=\u001b[39m vqe_solver\u001b[38;5;241m.\u001b[39mcompute_minimum_eigenvalue(calculo\u001b[38;5;241m.\u001b[39mget_qubit_operators(estrutura_minimal)[\u001b[38;5;241m0\u001b[39m])\n\u001b[1;32m     51\u001b[0m \u001b[38;5;66;03m#salvar_obj(resultados, f'resultado_co2_{a}')\u001b[39;00m\n\u001b[1;32m     52\u001b[0m salvar_obj(minimum_eigenvalue, \u001b[38;5;124mf\u001b[39m\u001b[38;5;124m'\u001b[39m\u001b[38;5;124mminimum_eigenvalue_co2_\u001b[39m\u001b[38;5;132;01m{\u001b[39;00ma\u001b[38;5;132;01m}\u001b[39;00m\u001b[38;5;124m'\u001b[39m)\n",
      "File \u001b[0;32m~/miniconda/envs/aws_braket_updated/lib/python3.12/site-packages/qiskit_nature/second_q/algorithms/ground_state_solvers/ground_state_eigensolver.py:88\u001b[0m, in \u001b[0;36mGroundStateEigensolver.get_qubit_operators\u001b[0;34m(self, problem, aux_operators)\u001b[0m\n\u001b[1;32m     79\u001b[0m \u001b[38;5;28;01mdef\u001b[39;00m \u001b[38;5;21mget_qubit_operators\u001b[39m(\n\u001b[1;32m     80\u001b[0m     \u001b[38;5;28mself\u001b[39m,\n\u001b[1;32m     81\u001b[0m     problem: BaseProblem,\n\u001b[0;32m   (...)\u001b[0m\n\u001b[1;32m     84\u001b[0m     \u001b[38;5;66;03m# Note that ``aux_ops`` contains not only the transformed ``aux_operators`` passed by the\u001b[39;00m\n\u001b[1;32m     85\u001b[0m     \u001b[38;5;66;03m# user but also additional ones from the transformation\u001b[39;00m\n\u001b[1;32m     86\u001b[0m     main_second_q_op, aux_second_q_ops \u001b[38;5;241m=\u001b[39m problem\u001b[38;5;241m.\u001b[39msecond_q_ops()\n\u001b[0;32m---> 88\u001b[0m     main_operator \u001b[38;5;241m=\u001b[39m \u001b[38;5;28mself\u001b[39m\u001b[38;5;241m.\u001b[39m_qubit_mapper\u001b[38;5;241m.\u001b[39mmap(main_second_q_op)\n\u001b[1;32m     89\u001b[0m     aux_ops \u001b[38;5;241m=\u001b[39m \u001b[38;5;28mself\u001b[39m\u001b[38;5;241m.\u001b[39m_qubit_mapper\u001b[38;5;241m.\u001b[39mmap(aux_second_q_ops)\n\u001b[1;32m     91\u001b[0m     \u001b[38;5;28;01mif\u001b[39;00m aux_operators \u001b[38;5;129;01mis\u001b[39;00m \u001b[38;5;129;01mnot\u001b[39;00m \u001b[38;5;28;01mNone\u001b[39;00m:\n",
      "File \u001b[0;32m~/miniconda/envs/aws_braket_updated/lib/python3.12/site-packages/qiskit_nature/second_q/mappers/tapered_qubit_mapper.py:189\u001b[0m, in \u001b[0;36mTaperedQubitMapper.map\u001b[0;34m(self, second_q_ops, register_length)\u001b[0m\n\u001b[1;32m    173\u001b[0m \u001b[38;5;250m\u001b[39m\u001b[38;5;124;03m\"\"\"Maps a second quantized operator or a list, dict of second quantized operators based on\u001b[39;00m\n\u001b[1;32m    174\u001b[0m \u001b[38;5;124;03mthe current mapper.\u001b[39;00m\n\u001b[1;32m    175\u001b[0m \n\u001b[0;32m   (...)\u001b[0m\n\u001b[1;32m    184\u001b[0m \u001b[38;5;124;03m    list (resp. dict) of second quantized operators was supplied.\u001b[39;00m\n\u001b[1;32m    185\u001b[0m \u001b[38;5;124;03m\"\"\"\u001b[39;00m\n\u001b[1;32m    186\u001b[0m \u001b[38;5;66;03m# NOTE: we do not rely on the `_map_single` method here because we want to ensure that\u001b[39;00m\n\u001b[1;32m    187\u001b[0m \u001b[38;5;66;03m# `check_commutes=True` is set. This is not done via `_map_single` because the correct\u001b[39;00m\n\u001b[1;32m    188\u001b[0m \u001b[38;5;66;03m# filtering of `None` values can only be done on the level of `taper_clifford`\u001b[39;00m\n\u001b[0;32m--> 189\u001b[0m pauli_ops \u001b[38;5;241m=\u001b[39m \u001b[38;5;28mself\u001b[39m\u001b[38;5;241m.\u001b[39mmap_clifford(second_q_ops, register_length\u001b[38;5;241m=\u001b[39mregister_length)\n\u001b[1;32m    190\u001b[0m \u001b[38;5;66;03m# This choice of keyword arguments ensures that the output does not contain None.\u001b[39;00m\n\u001b[1;32m    191\u001b[0m tapered_ops \u001b[38;5;241m=\u001b[39m \u001b[38;5;28mself\u001b[39m\u001b[38;5;241m.\u001b[39mtaper_clifford(pauli_ops, check_commutes\u001b[38;5;241m=\u001b[39m\u001b[38;5;28;01mTrue\u001b[39;00m, suppress_none\u001b[38;5;241m=\u001b[39m\u001b[38;5;28;01mTrue\u001b[39;00m)\n",
      "File \u001b[0;32m~/miniconda/envs/aws_braket_updated/lib/python3.12/site-packages/qiskit_nature/second_q/mappers/tapered_qubit_mapper.py:116\u001b[0m, in \u001b[0;36mTaperedQubitMapper.map_clifford\u001b[0;34m(self, second_q_ops, register_length)\u001b[0m\n\u001b[1;32m    114\u001b[0m qubit_ops: _ListOrDict[SparsePauliOp] \u001b[38;5;241m=\u001b[39m _ListOrDict()\n\u001b[1;32m    115\u001b[0m \u001b[38;5;28;01mfor\u001b[39;00m name, second_q_op \u001b[38;5;129;01min\u001b[39;00m \u001b[38;5;28miter\u001b[39m(wrapped_second_q_ops):\n\u001b[0;32m--> 116\u001b[0m     qubit_ops[name] \u001b[38;5;241m=\u001b[39m \u001b[38;5;28mself\u001b[39m\u001b[38;5;241m.\u001b[39m_map_clifford_single(\n\u001b[1;32m    117\u001b[0m         second_q_op, register_length\u001b[38;5;241m=\u001b[39mregister_length\n\u001b[1;32m    118\u001b[0m     )\n\u001b[1;32m    120\u001b[0m returned_ops \u001b[38;5;241m=\u001b[39m qubit_ops\u001b[38;5;241m.\u001b[39munwrap(wrapped_type)\n\u001b[1;32m    122\u001b[0m \u001b[38;5;28;01mreturn\u001b[39;00m returned_ops\n",
      "File \u001b[0;32m~/miniconda/envs/aws_braket_updated/lib/python3.12/site-packages/qiskit_nature/second_q/mappers/tapered_qubit_mapper.py:72\u001b[0m, in \u001b[0;36mTaperedQubitMapper._map_clifford_single\u001b[0;34m(self, second_q_op, register_length)\u001b[0m\n\u001b[1;32m     68\u001b[0m \u001b[38;5;28;01mdef\u001b[39;00m \u001b[38;5;21m_map_clifford_single\u001b[39m(\n\u001b[1;32m     69\u001b[0m     \u001b[38;5;28mself\u001b[39m, second_q_op: SparseLabelOp, \u001b[38;5;241m*\u001b[39m, register_length: \u001b[38;5;28mint\u001b[39m \u001b[38;5;241m|\u001b[39m \u001b[38;5;28;01mNone\u001b[39;00m \u001b[38;5;241m=\u001b[39m \u001b[38;5;28;01mNone\u001b[39;00m\n\u001b[1;32m     70\u001b[0m ) \u001b[38;5;241m-\u001b[39m\u001b[38;5;241m>\u001b[39m SparsePauliOp:\n\u001b[1;32m     71\u001b[0m     mapped_op \u001b[38;5;241m=\u001b[39m \u001b[38;5;28mself\u001b[39m\u001b[38;5;241m.\u001b[39mmapper\u001b[38;5;241m.\u001b[39mmap(second_q_op, register_length\u001b[38;5;241m=\u001b[39mregister_length)\n\u001b[0;32m---> 72\u001b[0m     converted_op \u001b[38;5;241m=\u001b[39m \u001b[38;5;28mself\u001b[39m\u001b[38;5;241m.\u001b[39mz2symmetries\u001b[38;5;241m.\u001b[39mconvert_clifford(mapped_op)\n\u001b[1;32m     73\u001b[0m     \u001b[38;5;28;01mreturn\u001b[39;00m converted_op\n",
      "File \u001b[0;32m~/miniconda/envs/aws_braket_updated/lib/python3.12/site-packages/qiskit/quantum_info/analysis/z2_symmetries.py:319\u001b[0m, in \u001b[0;36mZ2Symmetries.convert_clifford\u001b[0;34m(self, operator)\u001b[0m\n\u001b[1;32m    316\u001b[0m \u001b[38;5;28;01mif\u001b[39;00m \u001b[38;5;129;01mnot\u001b[39;00m \u001b[38;5;28mself\u001b[39m\u001b[38;5;241m.\u001b[39mis_empty() \u001b[38;5;129;01mand\u001b[39;00m \u001b[38;5;129;01mnot\u001b[39;00m _sparse_pauli_op_is_zero(operator):\n\u001b[1;32m    317\u001b[0m     \u001b[38;5;66;03m# If the operator is zero then we can skip the following.\u001b[39;00m\n\u001b[1;32m    318\u001b[0m     \u001b[38;5;28;01mfor\u001b[39;00m clifford \u001b[38;5;129;01min\u001b[39;00m \u001b[38;5;28mself\u001b[39m\u001b[38;5;241m.\u001b[39mcliffords:\n\u001b[0;32m--> 319\u001b[0m         operator \u001b[38;5;241m=\u001b[39m cast(SparsePauliOp, clifford \u001b[38;5;241m@\u001b[39m operator \u001b[38;5;241m@\u001b[39m clifford)\n\u001b[1;32m    320\u001b[0m         operator \u001b[38;5;241m=\u001b[39m operator\u001b[38;5;241m.\u001b[39msimplify(atol\u001b[38;5;241m=\u001b[39m\u001b[38;5;241m0.0\u001b[39m)\n\u001b[1;32m    322\u001b[0m \u001b[38;5;28;01mreturn\u001b[39;00m operator\n",
      "File \u001b[0;32m~/miniconda/envs/aws_braket_updated/lib/python3.12/site-packages/qiskit/quantum_info/operators/mixins/group.py:65\u001b[0m, in \u001b[0;36mGroupMixin.__matmul__\u001b[0;34m(self, other)\u001b[0m\n\u001b[1;32m     64\u001b[0m \u001b[38;5;28;01mdef\u001b[39;00m \u001b[38;5;21m__matmul__\u001b[39m(\u001b[38;5;28mself\u001b[39m, other) \u001b[38;5;241m-\u001b[39m\u001b[38;5;241m>\u001b[39m Self:\n\u001b[0;32m---> 65\u001b[0m     \u001b[38;5;28;01mreturn\u001b[39;00m \u001b[38;5;28mself\u001b[39m\u001b[38;5;241m.\u001b[39mdot(other)\n",
      "File \u001b[0;32m~/miniconda/envs/aws_braket_updated/lib/python3.12/site-packages/qiskit/quantum_info/operators/mixins/group.py:149\u001b[0m, in \u001b[0;36mGroupMixin.dot\u001b[0;34m(self, other, qargs)\u001b[0m\n\u001b[1;32m    133\u001b[0m \u001b[38;5;28;01mdef\u001b[39;00m \u001b[38;5;21mdot\u001b[39m(\u001b[38;5;28mself\u001b[39m, other, qargs\u001b[38;5;241m=\u001b[39m\u001b[38;5;28;01mNone\u001b[39;00m) \u001b[38;5;241m-\u001b[39m\u001b[38;5;241m>\u001b[39m Self:\n\u001b[1;32m    134\u001b[0m \u001b[38;5;250m    \u001b[39m\u001b[38;5;124;03m\"\"\"Return the right multiplied operator self * other.\u001b[39;00m\n\u001b[1;32m    135\u001b[0m \n\u001b[1;32m    136\u001b[0m \u001b[38;5;124;03m    Args:\u001b[39;00m\n\u001b[0;32m   (...)\u001b[0m\n\u001b[1;32m    147\u001b[0m \u001b[38;5;124;03m        Hence ``a.dot(b)`` is equivalent to ``a @ b``.\u001b[39;00m\n\u001b[1;32m    148\u001b[0m \u001b[38;5;124;03m    \"\"\"\u001b[39;00m\n\u001b[0;32m--> 149\u001b[0m     \u001b[38;5;28;01mreturn\u001b[39;00m \u001b[38;5;28mself\u001b[39m\u001b[38;5;241m.\u001b[39mcompose(other, qargs\u001b[38;5;241m=\u001b[39mqargs, front\u001b[38;5;241m=\u001b[39m\u001b[38;5;28;01mTrue\u001b[39;00m)\n",
      "File \u001b[0;32m~/miniconda/envs/aws_braket_updated/lib/python3.12/site-packages/qiskit/quantum_info/operators/symplectic/sparse_pauli_op.py:328\u001b[0m, in \u001b[0;36mSparsePauliOp.compose\u001b[0;34m(self, other, qargs, front)\u001b[0m\n\u001b[1;32m    325\u001b[0m     other \u001b[38;5;241m=\u001b[39m SparsePauliOp(other)\n\u001b[1;32m    327\u001b[0m \u001b[38;5;66;03m# Validate composition dimensions and qargs match\u001b[39;00m\n\u001b[0;32m--> 328\u001b[0m \u001b[38;5;28mself\u001b[39m\u001b[38;5;241m.\u001b[39m_op_shape\u001b[38;5;241m.\u001b[39mcompose(other\u001b[38;5;241m.\u001b[39m_op_shape, qargs, front)\n\u001b[1;32m    330\u001b[0m \u001b[38;5;28;01mif\u001b[39;00m qargs \u001b[38;5;129;01mis\u001b[39;00m \u001b[38;5;129;01mnot\u001b[39;00m \u001b[38;5;28;01mNone\u001b[39;00m:\n\u001b[1;32m    331\u001b[0m     x1, z1 \u001b[38;5;241m=\u001b[39m \u001b[38;5;28mself\u001b[39m\u001b[38;5;241m.\u001b[39mpaulis\u001b[38;5;241m.\u001b[39mx[:, qargs], \u001b[38;5;28mself\u001b[39m\u001b[38;5;241m.\u001b[39mpaulis\u001b[38;5;241m.\u001b[39mz[:, qargs]\n",
      "File \u001b[0;32m~/miniconda/envs/aws_braket_updated/lib/python3.12/site-packages/qiskit/quantum_info/operators/op_shape.py:431\u001b[0m, in \u001b[0;36mOpShape.compose\u001b[0;34m(self, other, qargs, front)\u001b[0m\n\u001b[1;32m    429\u001b[0m \u001b[38;5;28;01mif\u001b[39;00m front:\n\u001b[1;32m    430\u001b[0m     \u001b[38;5;28;01mif\u001b[39;00m \u001b[38;5;28mself\u001b[39m\u001b[38;5;241m.\u001b[39m_num_qargs_r \u001b[38;5;241m!=\u001b[39m other\u001b[38;5;241m.\u001b[39m_num_qargs_l \u001b[38;5;129;01mor\u001b[39;00m \u001b[38;5;28mself\u001b[39m\u001b[38;5;241m.\u001b[39m_dims_r \u001b[38;5;241m!=\u001b[39m other\u001b[38;5;241m.\u001b[39m_dims_l:\n\u001b[0;32m--> 431\u001b[0m         \u001b[38;5;28;01mraise\u001b[39;00m QiskitError(\n\u001b[1;32m    432\u001b[0m             \u001b[38;5;124m\"\u001b[39m\u001b[38;5;124mLeft and right compose dimensions don\u001b[39m\u001b[38;5;124m'\u001b[39m\u001b[38;5;124mt match \u001b[39m\u001b[38;5;124m\"\u001b[39m\n\u001b[1;32m    433\u001b[0m             \u001b[38;5;124m\"\u001b[39m\u001b[38;5;124m(\u001b[39m\u001b[38;5;132;01m{}\u001b[39;00m\u001b[38;5;124m != \u001b[39m\u001b[38;5;132;01m{}\u001b[39;00m\u001b[38;5;124m)\u001b[39m\u001b[38;5;124m\"\u001b[39m\u001b[38;5;241m.\u001b[39mformat(\u001b[38;5;28mself\u001b[39m\u001b[38;5;241m.\u001b[39mdims_r(), other\u001b[38;5;241m.\u001b[39mdims_l())\n\u001b[1;32m    434\u001b[0m         )\n\u001b[1;32m    435\u001b[0m     ret\u001b[38;5;241m.\u001b[39m_dims_l \u001b[38;5;241m=\u001b[39m \u001b[38;5;28mself\u001b[39m\u001b[38;5;241m.\u001b[39m_dims_l\n\u001b[1;32m    436\u001b[0m     ret\u001b[38;5;241m.\u001b[39m_dims_r \u001b[38;5;241m=\u001b[39m other\u001b[38;5;241m.\u001b[39m_dims_r\n",
      "\u001b[0;31mQiskitError\u001b[0m: \"Left and right compose dimensions don't match ((2, 2, 2, 2, 2, 2, 2, 2, 2, 2, 2, 2, 2, 2, 2, 2) != (2, 2, 2, 2, 2, 2, 2, 2))\""
     ]
    }
   ],
   "source": [
    "# Codigo Lucas \n",
    "\n",
    "driver = PySCFDriver(atom=\"O 0 0 -1.16; C 0 0 0; O 0 0 1.16\", basis=\"sto-6g\")\n",
    "\n",
    "es_problem_co2 = driver.run()\n",
    "\n",
    "espaco_target_mid = ActiveSpaceTransformer(8,8) \n",
    "\n",
    "espaco_target_minimal = ActiveSpaceTransformer(4,4) \n",
    "\n",
    "estrutura_mid = espaco_target_mid.transform(es_problem_co2) \n",
    "\n",
    "estrutura_minimal = espaco_target_minimal.transform(es_problem_co2)\n",
    "\n",
    "op_i = es_problem_co2.hamiltonian.second_q_op()\n",
    "op_mid = estrutura_mid.hamiltonian.second_q_op()\n",
    "op_minimal = estrutura_minimal.hamiltonian.second_q_op()\n",
    "\n",
    "mapa_default = es_problem_co2.get_tapered_mapper(BravyiKitaevMapper())\n",
    "mapa_mid = estrutura_mid.get_tapered_mapper(BravyiKitaevMapper())\n",
    "mapa_minimal = estrutura_minimal.get_tapered_mapper(BravyiKitaevMapper())\n",
    "\n",
    "obs_tapered_default = mapa_default.map(op_i)\n",
    "obs_tapered_mid = mapa_mid.map(op_mid)\n",
    "obs_tapered_minimal = mapa_minimal.map(op_minimal)\n",
    "\n",
    "\n",
    "for a in [\"minimal\", \"mid\"]:\n",
    "    \n",
    "    time = time_module.time()\n",
    "    \n",
    "    ansatz = UCCSD(\n",
    "        eval(f'estrutura_{a}.num_spatial_orbitals'),\n",
    "        eval(f'estrutura_{a}.num_particles'),\n",
    "        eval(f'mapa_{a}'),\n",
    "        initial_state=HartreeFock(\n",
    "            eval(f'estrutura_{a}.num_spatial_orbitals'),\n",
    "            eval(f'estrutura_{a}.num_particles'),\n",
    "            eval(f'mapa_{a}'))\n",
    "    )\n",
    "\n",
    "    vqe_solver = VQE_algorithms(Estimator_Aer(), ansatz, SLSQP())\n",
    "    \n",
    "    vqe_solver.initial_point = [0.0] * ansatz.num_parameters\n",
    "    \n",
    "    calculo = GroundStateEigensolver(eval(f'mapa_{a}'), vqe_solver)\n",
    "    \n",
    "    #resultados = calculo.solve(eval(f'estrutura_{a}'))\n",
    "    minimum_eigenvalue = vqe_solver.compute_minimum_eigenvalue(calculo.get_qubit_operators(estrutura_minimal)[0])\n",
    "    \n",
    "    #salvar_obj(resultados, f'resultado_co2_{a}')\n",
    "    salvar_obj(minimum_eigenvalue, f'minimum_eigenvalue_co2_{a}')\n",
    "    \n",
    "    time = time_module.time() - time\n",
    "    \n",
    "    print(f'Finalizado {a} em {time} segundos')"
   ]
  },
  {
   "cell_type": "code",
   "execution_count": 14,
   "metadata": {},
   "outputs": [
    {
     "name": "stdout",
     "output_type": "stream",
     "text": [
      "(SparsePauliOp(['IIIII', 'IIIIZ', 'IZIIZ', 'IIIZI', 'IZIZI', 'IIZII', 'IZZII', 'ZIIII', 'ZZIII', 'IZIII', 'IIIZZ', 'IZIXZ', 'IIIXZ', 'IZIZZ', 'IIZIZ', 'IZZIZ', 'ZIIIZ', 'XZIIZ', 'XIIIZ', 'ZZIIZ', 'IZIZX', 'IIIZX', 'IIIXX', 'IZIXX', 'IZIYY', 'IIXIX', 'IZXIX', 'ZZIIX', 'ZIIIX', 'XIIIX', 'XZIIX', 'YXXYX', 'XXYYX', 'YXXXY', 'XXYXY', 'IYXYX', 'ZXYYX', 'IYXXY', 'ZXYXY', 'YXZYX', 'XYIYX', 'YXZXY', 'XYIXY', 'IYZYX', 'ZYIYX', 'IYZXY', 'ZYIXY', 'YYXIX', 'XYYIX', 'YXXZY', 'XXYZY', 'IXXIX', 'ZYYIX', 'IYXZY', 'ZXYZY', 'YYZIX', 'XXIIX', 'YXZZY', 'XYIZY', 'IXZIX', 'ZXIIX', 'IYZZY', 'ZYIZY', 'YXXYZ', 'XXYYZ', 'YYXXI', 'XYYXI', 'IYXYZ', 'ZXYYZ', 'IXXXI', 'ZYYXI', 'YXZYZ', 'XYIYZ', 'YYZXI', 'XXIXI', 'IYZYZ', 'ZYIYZ', 'IXZXI', 'ZXIXI', 'YYXIZ', 'XYYIZ', 'YYXZI', 'XYYZI', 'IXXIZ', 'ZYYIZ', 'IXXZI', 'ZYYZI', 'YYZIZ', 'XXIIZ', 'YYZZI', 'XXIZI', 'IXZIZ', 'ZXIIZ', 'IXZZI', 'ZXIZI', 'IIZZI', 'IZXZI', 'IIXZI', 'IZZZI', 'ZIIZI', 'ZZIZI', 'IZZXI', 'IIZXI', 'IIXXI', 'IZXXI', 'XIIXI', 'XZIXI', 'ZIZII', 'XZZII', 'XIZII', 'ZZZII', 'ZZXII', 'ZIXII', 'XIXII', 'XZXII', 'YZYII'],\n",
      "              coeffs=[-3.40937455e+00+0.j,  1.64142463e-01+0.j,  1.64142463e-01+0.j,\n",
      " -1.14689433e-01+0.j, -1.14689433e-01+0.j,  1.64142463e-01+0.j,\n",
      "  1.64142463e-01+0.j, -1.14689433e-01+0.j, -1.14689433e-01+0.j,\n",
      "  4.78497582e-01+0.j,  1.65490825e-01+0.j,  1.00390281e-02+0.j,\n",
      " -1.00390281e-02+0.j,  2.16517201e-01+0.j,  2.76367495e-01+0.j,\n",
      "  2.52380941e-01+0.j,  2.37008988e-01+0.j, -2.47199814e-03+0.j,\n",
      "  2.47199814e-03+0.j,  2.24444315e-01+0.j, -1.00390281e-02+0.j,\n",
      "  1.00390281e-02+0.j,  3.10102052e-03+0.j,  5.41273968e-02+0.j,\n",
      "  5.72284174e-02+0.j,  1.19932768e-02+0.j, -1.19932768e-02+0.j,\n",
      "  2.47199814e-03+0.j, -2.47199814e-03+0.j,  6.28233664e-03+0.j,\n",
      " -6.28233664e-03+0.j, -3.57590817e-02+0.j,  3.57590817e-02+0.j,\n",
      "  3.57590817e-02+0.j, -3.57590817e-02+0.j,  6.25551310e-03+0.j,\n",
      " -6.25551310e-03+0.j, -6.25551310e-03+0.j,  6.25551310e-03+0.j,\n",
      " -6.25551310e-03+0.j,  6.25551310e-03+0.j,  6.25551310e-03+0.j,\n",
      " -6.25551310e-03+0.j, -3.02048667e-02+0.j,  3.02048667e-02+0.j,\n",
      "  3.02048667e-02+0.j, -3.02048667e-02+0.j,  6.25551310e-03+0.j,\n",
      " -6.25551310e-03+0.j, -6.25551310e-03+0.j,  6.25551310e-03+0.j,\n",
      "  3.96355689e-03+0.j,  3.96355689e-03+0.j,  3.96355689e-03+0.j,\n",
      " -3.96355689e-03+0.j, -1.59065806e-03+0.j, -1.59065806e-03+0.j,\n",
      "  1.59065806e-03+0.j, -1.59065806e-03+0.j, -6.25551310e-03+0.j,\n",
      "  6.25551310e-03+0.j, -6.25551310e-03+0.j,  6.25551310e-03+0.j,\n",
      " -6.25551310e-03+0.j,  6.25551310e-03+0.j,  6.25551310e-03+0.j,\n",
      " -6.25551310e-03+0.j, -1.59065806e-03+0.j,  1.59065806e-03+0.j,\n",
      " -1.59065806e-03+0.j, -1.59065806e-03+0.j, -3.96355689e-03+0.j,\n",
      "  3.96355689e-03+0.j,  3.96355689e-03+0.j,  3.96355689e-03+0.j,\n",
      " -6.25551310e-03+0.j,  6.25551310e-03+0.j, -6.25551310e-03+0.j,\n",
      "  6.25551310e-03+0.j, -3.02048667e-02+0.j,  3.02048667e-02+0.j,\n",
      "  3.02048667e-02+0.j, -3.02048667e-02+0.j, -6.25551310e-03+0.j,\n",
      " -6.25551310e-03+0.j,  6.25551310e-03+0.j,  6.25551310e-03+0.j,\n",
      " -6.25551310e-03+0.j, -6.25551310e-03+0.j,  6.25551310e-03+0.j,\n",
      "  6.25551310e-03+0.j,  3.57590817e-02+0.j, -3.57590817e-02+0.j,\n",
      " -3.57590817e-02+0.j,  3.57590817e-02+0.j,  2.37008988e-01+0.j,\n",
      "  2.47199814e-03+0.j, -2.47199814e-03+0.j,  2.24444315e-01+0.j,\n",
      "  2.68990356e-01+0.j,  2.48403397e-01+0.j, -2.47199814e-03+0.j,\n",
      "  2.47199814e-03+0.j,  6.28233664e-03+0.j, -6.28233664e-03+0.j,\n",
      "  1.02934798e-02+0.j, -1.02934798e-02+0.j,  1.65490825e-01+0.j,\n",
      "  1.00390281e-02+0.j, -1.00390281e-02+0.j,  2.16517201e-01+0.j,\n",
      " -1.00390281e-02+0.j,  1.00390281e-02+0.j,  3.10102052e-03+0.j,\n",
      "  5.41273968e-02+0.j,  5.72284174e-02+0.j]), {'AngularMomentum': SparsePauliOp(['IIIII', 'IIZIZ', 'IIYIY', 'IZXIX', 'IZYIY', 'IIXIX', 'XXXXX', 'XXYYX', 'YXYXX', 'YXXYX', 'XXYXY', 'XXXYY', 'YXXXY', 'YXYYY', 'ZXXZX', 'ZYYIX', 'IYYZX', 'IXXIX', 'ZXYZY', 'ZYXIY', 'IYXZY', 'IXYIY', 'XXZXZ', 'XYIYZ', 'YYIXZ', 'YXZYZ', 'XXIXI', 'XYZYI', 'YYZXI', 'YXIYI', 'ZXZZZ', 'ZXIIZ', 'IXIZZ', 'IXZIZ', 'ZXIZI', 'ZXZII', 'IXZZI', 'IXIII', 'ZIIZI', 'YIIYI', 'XZIXI', 'YZIYI', 'XIIXI', 'IZIII', 'ZZZII', 'IIIZZ', 'ZZIIZ', 'IIZZI', 'IZZZI', 'ZIIIZ', 'IZZIZ', 'ZIZII', 'ZZIZI', 'IZIZZ'],\n",
      "              coeffs=[ 1.5  +0.j, -0.75 +0.j, -0.25 +0.j,  0.25 +0.j,  0.25 +0.j, -0.25 +0.j,\n",
      "  0.125+0.j, -0.125+0.j,  0.125+0.j,  0.125+0.j,  0.125+0.j,  0.125+0.j,\n",
      " -0.125+0.j,  0.125+0.j,  0.125+0.j, -0.125+0.j,  0.125+0.j, -0.125+0.j,\n",
      "  0.125+0.j,  0.125+0.j, -0.125+0.j, -0.125+0.j,  0.125+0.j, -0.125+0.j,\n",
      "  0.125+0.j,  0.125+0.j, -0.125+0.j,  0.125+0.j, -0.125+0.j, -0.125+0.j,\n",
      "  0.125+0.j,  0.125+0.j, -0.125+0.j, -0.125+0.j, -0.125+0.j, -0.125+0.j,\n",
      "  0.125+0.j,  0.125+0.j, -0.75 +0.j, -0.25 +0.j,  0.25 +0.j,  0.25 +0.j,\n",
      " -0.25 +0.j,  0.5  +0.j,  0.25 +0.j,  0.25 +0.j, -0.25 +0.j, -0.25 +0.j,\n",
      " -0.25 +0.j, -0.25 +0.j, -0.25 +0.j,  0.25 +0.j, -0.25 +0.j,  0.25 +0.j]), 'Magnetization': SparsePauliOp(['IIIIZ', 'IZIIZ', 'IIIZI', 'IZIZI', 'IIZII', 'IZZII', 'ZIIII', 'ZZIII'],\n",
      "              coeffs=[-0.25+0.j, -0.25+0.j, -0.25+0.j, -0.25+0.j,  0.25+0.j,  0.25+0.j,\n",
      "  0.25+0.j,  0.25+0.j]), 'ParticleNumber': SparsePauliOp(['IIIII', 'IIIIZ', 'IZIIZ', 'IIIZI', 'IZIZI', 'IIZII', 'IZZII', 'ZIIII', 'ZZIII'],\n",
      "              coeffs=[ 4. +0.j, -0.5+0.j, -0.5+0.j, -0.5+0.j, -0.5+0.j, -0.5+0.j, -0.5+0.j,\n",
      " -0.5+0.j, -0.5+0.j]), 'XDipole': SparsePauliOp(['IIIII'],\n",
      "              coeffs=[0.+0.j]), 'YDipole': SparsePauliOp(['IIIII'],\n",
      "              coeffs=[0.+0.j])})\n"
     ]
    },
    {
     "ename": "KeyboardInterrupt",
     "evalue": "",
     "output_type": "error",
     "traceback": [
      "\u001b[0;31m---------------------------------------------------------------------------\u001b[0m",
      "\u001b[0;31mKeyboardInterrupt\u001b[0m                         Traceback (most recent call last)",
      "Cell \u001b[0;32mIn[14], line 33\u001b[0m\n\u001b[1;32m     30\u001b[0m calculo_2 \u001b[38;5;241m=\u001b[39m GroundStateEigensolver(mapper, vqe_solver)\n\u001b[1;32m     32\u001b[0m \u001b[38;5;28mprint\u001b[39m(calculo\u001b[38;5;241m.\u001b[39mget_qubit_operators(estrutura_minimal))\n\u001b[0;32m---> 33\u001b[0m \u001b[38;5;28mprint\u001b[39m(calculo_2\u001b[38;5;241m.\u001b[39mget_qubit_operators(es_problem_co2))\n",
      "File \u001b[0;32m~/miniconda/envs/aws_braket_updated/lib/python3.12/site-packages/qiskit_nature/second_q/algorithms/ground_state_solvers/ground_state_eigensolver.py:88\u001b[0m, in \u001b[0;36mGroundStateEigensolver.get_qubit_operators\u001b[0;34m(self, problem, aux_operators)\u001b[0m\n\u001b[1;32m     79\u001b[0m \u001b[38;5;28;01mdef\u001b[39;00m \u001b[38;5;21mget_qubit_operators\u001b[39m(\n\u001b[1;32m     80\u001b[0m     \u001b[38;5;28mself\u001b[39m,\n\u001b[1;32m     81\u001b[0m     problem: BaseProblem,\n\u001b[0;32m   (...)\u001b[0m\n\u001b[1;32m     84\u001b[0m     \u001b[38;5;66;03m# Note that ``aux_ops`` contains not only the transformed ``aux_operators`` passed by the\u001b[39;00m\n\u001b[1;32m     85\u001b[0m     \u001b[38;5;66;03m# user but also additional ones from the transformation\u001b[39;00m\n\u001b[1;32m     86\u001b[0m     main_second_q_op, aux_second_q_ops \u001b[38;5;241m=\u001b[39m problem\u001b[38;5;241m.\u001b[39msecond_q_ops()\n\u001b[0;32m---> 88\u001b[0m     main_operator \u001b[38;5;241m=\u001b[39m \u001b[38;5;28mself\u001b[39m\u001b[38;5;241m.\u001b[39m_qubit_mapper\u001b[38;5;241m.\u001b[39mmap(main_second_q_op)\n\u001b[1;32m     89\u001b[0m     aux_ops \u001b[38;5;241m=\u001b[39m \u001b[38;5;28mself\u001b[39m\u001b[38;5;241m.\u001b[39m_qubit_mapper\u001b[38;5;241m.\u001b[39mmap(aux_second_q_ops)\n\u001b[1;32m     91\u001b[0m     \u001b[38;5;28;01mif\u001b[39;00m aux_operators \u001b[38;5;129;01mis\u001b[39;00m \u001b[38;5;129;01mnot\u001b[39;00m \u001b[38;5;28;01mNone\u001b[39;00m:\n",
      "File \u001b[0;32m~/miniconda/envs/aws_braket_updated/lib/python3.12/site-packages/qiskit_nature/second_q/mappers/fermionic_mapper.py:33\u001b[0m, in \u001b[0;36mFermionicMapper.map\u001b[0;34m(self, second_q_ops, register_length)\u001b[0m\n\u001b[1;32m     27\u001b[0m \u001b[38;5;28;01mdef\u001b[39;00m \u001b[38;5;21mmap\u001b[39m(\n\u001b[1;32m     28\u001b[0m     \u001b[38;5;28mself\u001b[39m,\n\u001b[1;32m     29\u001b[0m     second_q_ops: FermionicOp \u001b[38;5;241m|\u001b[39m ListOrDictType[FermionicOp],\n\u001b[1;32m     30\u001b[0m     \u001b[38;5;241m*\u001b[39m,\n\u001b[1;32m     31\u001b[0m     register_length: \u001b[38;5;28mint\u001b[39m \u001b[38;5;241m|\u001b[39m \u001b[38;5;28;01mNone\u001b[39;00m \u001b[38;5;241m=\u001b[39m \u001b[38;5;28;01mNone\u001b[39;00m,\n\u001b[1;32m     32\u001b[0m ) \u001b[38;5;241m-\u001b[39m\u001b[38;5;241m>\u001b[39m SparsePauliOp \u001b[38;5;241m|\u001b[39m ListOrDictType[SparsePauliOp]:\n\u001b[0;32m---> 33\u001b[0m     \u001b[38;5;28;01mreturn\u001b[39;00m \u001b[38;5;28msuper\u001b[39m()\u001b[38;5;241m.\u001b[39mmap(second_q_ops, register_length\u001b[38;5;241m=\u001b[39mregister_length)\n",
      "File \u001b[0;32m~/miniconda/envs/aws_braket_updated/lib/python3.12/site-packages/qiskit_nature/second_q/mappers/qubit_mapper.py:165\u001b[0m, in \u001b[0;36mQubitMapper.map\u001b[0;34m(self, second_q_ops, register_length)\u001b[0m\n\u001b[1;32m    163\u001b[0m qubit_ops: _ListOrDict \u001b[38;5;241m=\u001b[39m _ListOrDict()\n\u001b[1;32m    164\u001b[0m \u001b[38;5;28;01mfor\u001b[39;00m name, second_q_op \u001b[38;5;129;01min\u001b[39;00m \u001b[38;5;28miter\u001b[39m(wrapped_second_q_ops):\n\u001b[0;32m--> 165\u001b[0m     qubit_ops[name] \u001b[38;5;241m=\u001b[39m \u001b[38;5;28mself\u001b[39m\u001b[38;5;241m.\u001b[39m_map_single(second_q_op, register_length\u001b[38;5;241m=\u001b[39mregister_length)\n\u001b[1;32m    167\u001b[0m returned_ops \u001b[38;5;241m=\u001b[39m qubit_ops\u001b[38;5;241m.\u001b[39munwrap(wrapped_type)\n\u001b[1;32m    168\u001b[0m \u001b[38;5;66;03m# Note the output of the mapping will never be None for standard mappers other than the\u001b[39;00m\n\u001b[1;32m    169\u001b[0m \u001b[38;5;66;03m# TaperedQubitMapper.\u001b[39;00m\n",
      "File \u001b[0;32m~/miniconda/envs/aws_braket_updated/lib/python3.12/site-packages/qiskit_nature/second_q/mappers/qubit_mapper.py:140\u001b[0m, in \u001b[0;36mQubitMapper._map_single\u001b[0;34m(self, second_q_op, register_length)\u001b[0m\n\u001b[1;32m    125\u001b[0m \u001b[38;5;28;01mdef\u001b[39;00m \u001b[38;5;21m_map_single\u001b[39m(\n\u001b[1;32m    126\u001b[0m     \u001b[38;5;28mself\u001b[39m, second_q_op: SparseLabelOp, \u001b[38;5;241m*\u001b[39m, register_length: \u001b[38;5;28mint\u001b[39m \u001b[38;5;241m|\u001b[39m \u001b[38;5;28;01mNone\u001b[39;00m \u001b[38;5;241m=\u001b[39m \u001b[38;5;28;01mNone\u001b[39;00m\n\u001b[1;32m    127\u001b[0m ) \u001b[38;5;241m-\u001b[39m\u001b[38;5;241m>\u001b[39m SparsePauliOp:\n\u001b[1;32m    128\u001b[0m \u001b[38;5;250m    \u001b[39m\u001b[38;5;124;03m\"\"\"Maps a :class:`~qiskit_nature.second_q.operators.SparseLabelOp`\u001b[39;00m\n\u001b[1;32m    129\u001b[0m \u001b[38;5;124;03m    to a ``SparsePauliOp``.\u001b[39;00m\n\u001b[1;32m    130\u001b[0m \n\u001b[0;32m   (...)\u001b[0m\n\u001b[1;32m    138\u001b[0m \u001b[38;5;124;03m        The qubit operator corresponding to the problem-Hamiltonian in the qubit space.\u001b[39;00m\n\u001b[1;32m    139\u001b[0m \u001b[38;5;124;03m    \"\"\"\u001b[39;00m\n\u001b[0;32m--> 140\u001b[0m     \u001b[38;5;28;01mreturn\u001b[39;00m \u001b[38;5;28mself\u001b[39m\u001b[38;5;241m.\u001b[39mmode_based_mapping(second_q_op, register_length\u001b[38;5;241m=\u001b[39mregister_length)\n",
      "File \u001b[0;32m~/miniconda/envs/aws_braket_updated/lib/python3.12/site-packages/qiskit_nature/second_q/mappers/qubit_mapper.py:266\u001b[0m, in \u001b[0;36mQubitMapper.mode_based_mapping\u001b[0;34m(cls, second_q_op, register_length)\u001b[0m\n\u001b[1;32m    264\u001b[0m     ret_op \u001b[38;5;241m=\u001b[39m ret_op\u001b[38;5;241m.\u001b[39mcompose(times_creation_op[position], front\u001b[38;5;241m=\u001b[39m\u001b[38;5;28;01mTrue\u001b[39;00m)\u001b[38;5;241m.\u001b[39msimplify()\n\u001b[1;32m    265\u001b[0m \u001b[38;5;28;01melif\u001b[39;00m char \u001b[38;5;241m==\u001b[39m \u001b[38;5;124m\"\u001b[39m\u001b[38;5;124m-\u001b[39m\u001b[38;5;124m\"\u001b[39m:\n\u001b[0;32m--> 266\u001b[0m     ret_op \u001b[38;5;241m=\u001b[39m ret_op\u001b[38;5;241m.\u001b[39mcompose(times_annihilation_op[position], front\u001b[38;5;241m=\u001b[39m\u001b[38;5;28;01mTrue\u001b[39;00m)\u001b[38;5;241m.\u001b[39msimplify()\n\u001b[1;32m    267\u001b[0m \u001b[38;5;66;03m# catch any disallowed labels\u001b[39;00m\n\u001b[1;32m    268\u001b[0m \u001b[38;5;28;01melse\u001b[39;00m:\n\u001b[1;32m    269\u001b[0m     \u001b[38;5;28;01mraise\u001b[39;00m QiskitNatureError(\n\u001b[1;32m    270\u001b[0m         \u001b[38;5;124mf\u001b[39m\u001b[38;5;124m\"\u001b[39m\u001b[38;5;124mFermionicOp label included \u001b[39m\u001b[38;5;124m'\u001b[39m\u001b[38;5;132;01m{\u001b[39;00mchar\u001b[38;5;132;01m}\u001b[39;00m\u001b[38;5;124m'\u001b[39m\u001b[38;5;124m. Allowed characters: I, N, E, +, -\u001b[39m\u001b[38;5;124m\"\u001b[39m\n\u001b[1;32m    271\u001b[0m     )\n",
      "File \u001b[0;32m~/miniconda/envs/aws_braket_updated/lib/python3.12/site-packages/qiskit/quantum_info/operators/symplectic/sparse_pauli_op.py:490\u001b[0m, in \u001b[0;36mSparsePauliOp.simplify\u001b[0;34m(self, atol, rtol)\u001b[0m\n\u001b[1;32m    485\u001b[0m array \u001b[38;5;241m=\u001b[39m np\u001b[38;5;241m.\u001b[39mpackbits(paulis_x, axis\u001b[38;5;241m=\u001b[39m\u001b[38;5;241m1\u001b[39m)\u001b[38;5;241m.\u001b[39mastype(np\u001b[38;5;241m.\u001b[39muint16) \u001b[38;5;241m*\u001b[39m \u001b[38;5;241m256\u001b[39m \u001b[38;5;241m+\u001b[39m np\u001b[38;5;241m.\u001b[39mpackbits(\n\u001b[1;32m    486\u001b[0m     paulis_z, axis\u001b[38;5;241m=\u001b[39m\u001b[38;5;241m1\u001b[39m\n\u001b[1;32m    487\u001b[0m )\n\u001b[1;32m    488\u001b[0m indexes, inverses \u001b[38;5;241m=\u001b[39m unordered_unique(array)\n\u001b[0;32m--> 490\u001b[0m \u001b[38;5;28;01mif\u001b[39;00m np\u001b[38;5;241m.\u001b[39mall(non_zero) \u001b[38;5;129;01mand\u001b[39;00m indexes\u001b[38;5;241m.\u001b[39mshape[\u001b[38;5;241m0\u001b[39m] \u001b[38;5;241m==\u001b[39m array\u001b[38;5;241m.\u001b[39mshape[\u001b[38;5;241m0\u001b[39m]:\n\u001b[1;32m    491\u001b[0m     \u001b[38;5;66;03m# No zero operator or duplicate operator\u001b[39;00m\n\u001b[1;32m    492\u001b[0m     \u001b[38;5;28;01mreturn\u001b[39;00m \u001b[38;5;28mself\u001b[39m\u001b[38;5;241m.\u001b[39mcopy()\n\u001b[1;32m    494\u001b[0m coeffs \u001b[38;5;241m=\u001b[39m np\u001b[38;5;241m.\u001b[39mzeros(indexes\u001b[38;5;241m.\u001b[39mshape[\u001b[38;5;241m0\u001b[39m], dtype\u001b[38;5;241m=\u001b[39m\u001b[38;5;28mself\u001b[39m\u001b[38;5;241m.\u001b[39mcoeffs\u001b[38;5;241m.\u001b[39mdtype)\n",
      "File \u001b[0;32m~/miniconda/envs/aws_braket_updated/lib/python3.12/site-packages/numpy/core/fromnumeric.py:2504\u001b[0m, in \u001b[0;36mall\u001b[0;34m(a, axis, out, keepdims, where)\u001b[0m\n\u001b[1;32m   2421\u001b[0m \u001b[38;5;129m@array_function_dispatch\u001b[39m(_all_dispatcher)\n\u001b[1;32m   2422\u001b[0m \u001b[38;5;28;01mdef\u001b[39;00m \u001b[38;5;21mall\u001b[39m(a, axis\u001b[38;5;241m=\u001b[39m\u001b[38;5;28;01mNone\u001b[39;00m, out\u001b[38;5;241m=\u001b[39m\u001b[38;5;28;01mNone\u001b[39;00m, keepdims\u001b[38;5;241m=\u001b[39mnp\u001b[38;5;241m.\u001b[39m_NoValue, \u001b[38;5;241m*\u001b[39m, where\u001b[38;5;241m=\u001b[39mnp\u001b[38;5;241m.\u001b[39m_NoValue):\n\u001b[1;32m   2423\u001b[0m \u001b[38;5;250m    \u001b[39m\u001b[38;5;124;03m\"\"\"\u001b[39;00m\n\u001b[1;32m   2424\u001b[0m \u001b[38;5;124;03m    Test whether all array elements along a given axis evaluate to True.\u001b[39;00m\n\u001b[1;32m   2425\u001b[0m \n\u001b[0;32m   (...)\u001b[0m\n\u001b[1;32m   2502\u001b[0m \n\u001b[1;32m   2503\u001b[0m \u001b[38;5;124;03m    \"\"\"\u001b[39;00m\n\u001b[0;32m-> 2504\u001b[0m     \u001b[38;5;28;01mreturn\u001b[39;00m _wrapreduction(a, np\u001b[38;5;241m.\u001b[39mlogical_and, \u001b[38;5;124m'\u001b[39m\u001b[38;5;124mall\u001b[39m\u001b[38;5;124m'\u001b[39m, axis, \u001b[38;5;28;01mNone\u001b[39;00m, out,\n\u001b[1;32m   2505\u001b[0m                           keepdims\u001b[38;5;241m=\u001b[39mkeepdims, where\u001b[38;5;241m=\u001b[39mwhere)\n",
      "File \u001b[0;32m~/miniconda/envs/aws_braket_updated/lib/python3.12/site-packages/numpy/core/fromnumeric.py:88\u001b[0m, in \u001b[0;36m_wrapreduction\u001b[0;34m(obj, ufunc, method, axis, dtype, out, **kwargs)\u001b[0m\n\u001b[1;32m     85\u001b[0m         \u001b[38;5;28;01melse\u001b[39;00m:\n\u001b[1;32m     86\u001b[0m             \u001b[38;5;28;01mreturn\u001b[39;00m reduction(axis\u001b[38;5;241m=\u001b[39maxis, out\u001b[38;5;241m=\u001b[39mout, \u001b[38;5;241m*\u001b[39m\u001b[38;5;241m*\u001b[39mpasskwargs)\n\u001b[0;32m---> 88\u001b[0m \u001b[38;5;28;01mreturn\u001b[39;00m ufunc\u001b[38;5;241m.\u001b[39mreduce(obj, axis, dtype, out, \u001b[38;5;241m*\u001b[39m\u001b[38;5;241m*\u001b[39mpasskwargs)\n",
      "\u001b[0;31mKeyboardInterrupt\u001b[0m: "
     ]
    }
   ],
   "source": [
    "driver = PySCFDriver(atom=\"O 0 0 -1.16; C 0 0 0; O 0 0 1.16\", basis=\"sto-6g\")\n",
    "\n",
    "es_problem_co2 = driver.run()\n",
    "\n",
    "espaco_target_minimal = ActiveSpaceTransformer(4,4) \n",
    "\n",
    "estrutura_minimal = espaco_target_minimal.transform(es_problem_co2)\n",
    "\n",
    "op_minimal = estrutura_minimal.hamiltonian.second_q_op()\n",
    "\n",
    "mapa_minimal = estrutura_minimal.get_tapered_mapper(BravyiKitaevMapper())\n",
    "\n",
    "obs_tapered_minimal = mapa_minimal.map(op_minimal)\n",
    "\n",
    "ansatz = UCCSD(\n",
    "    estrutura_minimal.num_spatial_orbitals,\n",
    "    estrutura_minimal.num_particles,\n",
    "    mapa_minimal,\n",
    "    initial_state=HartreeFock(\n",
    "        estrutura_minimal.num_spatial_orbitals,\n",
    "        estrutura_minimal.num_particles,\n",
    "        mapa_minimal)\n",
    ")\n",
    "\n",
    "vqe_solver = VQE_algorithms(Estimator_Aer(), ansatz, SLSQP())\n",
    "\n",
    "vqe_solver.initial_point = [0.0] * ansatz.num_parameters\n",
    "\n",
    "calculo = GroundStateEigensolver(mapa_minimal, vqe_solver)\n",
    "\n",
    "#print(calculo_2.get_qubit_operators(es_problem_co2))\n"
   ]
  },
  {
   "cell_type": "code",
   "execution_count": 7,
   "metadata": {},
   "outputs": [
    {
     "ename": "AttributeError",
     "evalue": "'ElectronicStructureResult' object has no attribute 'optimal_circuit'",
     "output_type": "error",
     "traceback": [
      "\u001b[0;31m---------------------------------------------------------------------------\u001b[0m",
      "\u001b[0;31mAttributeError\u001b[0m                            Traceback (most recent call last)",
      "Cell \u001b[0;32mIn[7], line 1\u001b[0m\n\u001b[0;32m----> 1\u001b[0m resultado_co2_minimal\u001b[38;5;241m.\u001b[39moptimal_circuit\n",
      "\u001b[0;31mAttributeError\u001b[0m: 'ElectronicStructureResult' object has no attribute 'optimal_circuit'"
     ]
    }
   ],
   "source": [
    "resultado_co2_minimal.optimal_circuit"
   ]
  },
  {
   "cell_type": "code",
   "execution_count": null,
   "metadata": {},
   "outputs": [],
   "source": [
    "circuito_ibm_co2 = fix_circuit_qubits(transpile(resultados.optimal_circuit.decompose().assign_parameters(resultados.optimal_parameters), backend), es_problem_co2)\n",
    "    \n",
    "    salvar_obj(circuito_ibm_co2, f'circuito_ibm_co2_{a}')\n",
    "    "
   ]
  },
  {
   "cell_type": "code",
   "execution_count": 8,
   "metadata": {},
   "outputs": [
    {
     "data": {
      "image/png": "[encoded data removed]",
      "text/plain": [
       "<Figure size 640x480 with 1 Axes>"
      ]
     },
     "execution_count": 8,
     "metadata": {},
     "output_type": "execute_result"
    }
   ],
   "source": [
    "from qiskit import QuantumCircuit\n",
    "from qiskit_aer import AerSimulator\n",
    "from qiskit.visualization import plot_histogram\n",
    "\n",
    "# Dataset L\n",
    "L = [2, 1]\n",
    "\n",
    "# Number of qubits needed (2 qubits for each element in L)\n",
    "num_qubits = len(L) * 2\n",
    "\n",
    "# Create a quantum circuit with 'num_qubits' qubits and classical bits to store the measurements\n",
    "qc = QuantumCircuit(num_qubits, num_qubits)\n",
    "\n",
    "# Apply X gates based on the binary representation of each element in L\n",
    "for i, num in enumerate(L):\n",
    "    # Binary representation of the number with 2 qubits\n",
    "    binary_rep = format(num, '02b')\n",
    "    \n",
    "    # Apply X gates based on the binary value ('01', '10', etc.)\n",
    "    if binary_rep[0] == '1':\n",
    "        qc.x(2*i)     # Apply X gate to the first qubit (MSB)\n",
    "    if binary_rep[1] == '1':\n",
    "        qc.x(2*i + 1) # Apply X gate to the second qubit (LSB)\n",
    "\n",
    "# Add measurement to all qubits\n",
    "qc.measure(range(num_qubits), range(num_qubits))\n",
    "\n",
    "# Execute the circuit on a simulator\n",
    "simulator = AerSimulator()\n",
    "job = simulator.run(qc, shots=1000) # Run the circuit 1000 times\n",
    "result = job.result()\n",
    "\n",
    "# Get the counts of the measurement outcomes\n",
    "counts = result.get_counts(qc)\n",
    "\n",
    "# Display the measurement result as a histogram\n",
    "plot_histogram(counts)\n",
    "\n",
    "#qc.draw(output='mpl')"
   ]
  },
  {
   "cell_type": "code",
   "execution_count": 15,
   "metadata": {},
   "outputs": [
    {
     "data": {
      "image/png": "[encoded data removed]",
      "text/plain": [
       "<Figure size 621.941x451.5 with 1 Axes>"
      ]
     },
     "execution_count": 15,
     "metadata": {},
     "output_type": "execute_result"
    }
   ],
   "source": [
    "import numpy as np\n",
    "from qiskit import QuantumCircuit\n",
    "from qiskit.circuit.library import StatePreparation\n",
    "\n",
    "L = [2, 1, 2, 0, 0, 1, 3, 2]\n",
    "\n",
    "len_qr1 = int(np.ceil(np.log2(len(L))))\n",
    "len_qr2 = int(np.log2(max(L))) + 1\n",
    "num_qubits = len_qr1 + len_qr2\n",
    "statevector = np.zeros(2**num_qubits)\n",
    "\n",
    "for i, el in enumerate(L):\n",
    "    index_reg = '{0:b}'.format(i).zfill(len_qr1)\n",
    "    element_reg = '{0:b}'.format(el).zfill(len_qr2)\n",
    "    statevector[int(element_reg + index_reg, 2)] = 1\n",
    "\n",
    "statevector /= np.linalg.norm(statevector)\n",
    "\n",
    "qc = QuantumCircuit(num_qubits)\n",
    "sp = StatePreparation(statevector)\n",
    "qc.append(sp, range(num_qubits))\n",
    "\n",
    "qc.draw(output='mpl')"
   ]
  },
  {
   "cell_type": "code",
   "execution_count": null,
   "metadata": {},
   "outputs": [],
   "source": []
  },
  {
   "cell_type": "code",
   "execution_count": null,
   "metadata": {},
   "outputs": [],
   "source": []
  },
  {
   "cell_type": "code",
   "execution_count": null,
   "metadata": {},
   "outputs": [],
   "source": []
  },
  {
   "cell_type": "code",
   "execution_count": null,
   "metadata": {},
   "outputs": [],
   "source": []
  },
  {
   "cell_type": "code",
   "execution_count": null,
   "metadata": {},
   "outputs": [],
   "source": []
  },
  {
   "cell_type": "code",
   "execution_count": null,
   "metadata": {},
   "outputs": [],
   "source": []
  },
  {
   "cell_type": "code",
   "execution_count": null,
   "metadata": {},
   "outputs": [],
   "source": []
  }
 ],
 "metadata": {
  "kernelspec": {
   "display_name": "aws_braket_updated",
   "language": "python",
   "name": "python3"
  },
  "language_info": {
   "codemirror_mode": {
    "name": "ipython",
    "version": 3
   },
   "file_extension": ".py",
   "mimetype": "text/x-python",
   "name": "python",
   "nbconvert_exporter": "python",
   "pygments_lexer": "ipython3",
   "version": "3.12.2"
  }
 },
 "nbformat": 4,
 "nbformat_minor": 2
}
