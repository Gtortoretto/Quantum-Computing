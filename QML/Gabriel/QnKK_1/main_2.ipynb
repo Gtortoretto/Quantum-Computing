{
 "cells": [],
 "metadata": {
  "kernelspec": {
   "display_name": "aws_braket_updated",
   "language": "python",
   "name": "python3"
  },
  "language_info": {
   "name": "python",
   "version": "3.12.2"
  }
 },
 "nbformat": 4,
 "nbformat_minor": 2
}
