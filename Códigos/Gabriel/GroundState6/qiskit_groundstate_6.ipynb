{
 "cells": [
  {
   "cell_type": "code",
   "execution_count": 64,
   "metadata": {},
   "outputs": [],
   "source": [
    "#Python Default \n",
    "\n",
    "import pickle\n",
    "\n",
    "#Essentials\n",
    "\n",
    "import time\n",
    "import numpy as np\n",
    "\n",
    "#from objproxies import *\n",
    "\n",
    "import matplotlib.pyplot as plt\n",
    "\n",
    "from scipy.optimize import curve_fit\n",
    "\n",
    "#Qiskit\n",
    "\n",
    "from qiskit.providers.models import *\n",
    "from qiskit_ibm_runtime.fake_provider import *\n",
    "from qiskit.providers.fake_provider import *\n",
    "\n",
    "## Qiskit Nature\n",
    "    \n",
    "from qiskit_nature.units import *   #ANGSTROM\n",
    "\n",
    "from qiskit_nature.second_q.drivers import *    #PySCFDriver\n",
    "\n",
    "from qiskit_nature.second_q.mappers import * #JordanWignerMapper\n",
    "\n",
    "from qiskit_nature.second_q.algorithms import GroundStateEigensolver\n",
    "\n",
    "from qiskit_nature.second_q.problems import ElectronicStructureProblem\n",
    "\n",
    "from qiskit_nature.second_q.circuit.library import *  #Ansatz, HF\n",
    "\n",
    "## Qiskit Algorithms\n",
    "    \n",
    "from qiskit_algorithms.minimum_eigensolvers import *    #VQE\n",
    " \n",
    "from qiskit_algorithms.optimizers import *    #SLSQP\n",
    "\n",
    "from qiskit.circuit.library import EfficientSU2   #EfficientSU2\n",
    "\n",
    "## Qiskit Primitives\n",
    "\n",
    "from qiskit.primitives import Estimator as Estimator_Nature\n",
    "\n",
    "from qiskit_aer.primitives.estimator import Estimator as Estimator_Aer\n",
    "\n",
    "## Qiskit Noise Models\n",
    "\n",
    "from qiskit_aer.noise import NoiseModel\n",
    "\n",
    "from qiskit.providers.fake_provider import *\n",
    "\n",
    "##Qiskit Runtime IBM\n",
    "\n",
    "from qiskit_ibm_runtime import QiskitRuntimeService, Session, Options\n",
    "\n",
    "from qiskit_ibm_runtime import Estimator as Estimator_Qiskit    #Estimator\n",
    "\n",
    "%matplotlib widget\n"
   ]
  },
  {
   "cell_type": "code",
   "execution_count": 71,
   "metadata": {},
   "outputs": [],
   "source": [
    "service = QiskitRuntimeService()\n",
    "backend = service.backend(\"ibm_brisbane\")\n",
    "noise_model = NoiseModel.from_backend(backend)"
   ]
  },
  {
   "cell_type": "code",
   "execution_count": 66,
   "metadata": {},
   "outputs": [],
   "source": [
    "def salvar(a):\n",
    "    with open(f'Códigos/Gabriel/GroundState6/dados/{a}.pickle', 'wb') as f:\n",
    "        pickle.dump(eval(a), f) \n",
    "\n",
    "def abrir(a):\n",
    "    with open(f'Códigos/Gabriel/GroundState6/dados/{a}.pickle', 'rb') as f:\n",
    "        return pickle.load(f)"
   ]
  },
  {
   "cell_type": "code",
   "execution_count": 67,
   "metadata": {},
   "outputs": [],
   "source": [
    "def Aer_Estimator(intervalo, base = \"sto3g\", optimizer = SLSQP(), session = None, noise = None, mapper = JordanWignerMapper(), shots = 2048, seed = None, method = \"automatic\"):\n",
    "    \n",
    "    for a in intervalo: \n",
    "        \n",
    "        driver = PySCFDriver(\n",
    "            atom= f\"H 0 0 0; H 0 0 {a}\",\n",
    "            basis=base,\n",
    "            charge=0,\n",
    "            spin=0,\n",
    "            unit=DistanceUnit.ANGSTROM,\n",
    "        )\n",
    "        \n",
    "        es_problem = driver.run()\n",
    "\n",
    "        options = ''\n",
    "\n",
    "        options_ = [f'run_options = {{\"shots\": {shots}, \"seed\": {seed}}}']\n",
    "                    \n",
    "        if shots == None:\n",
    "            \n",
    "            options_.append('approximation = True')\n",
    "        \n",
    "        if session != None:\n",
    "            \n",
    "            options_.append(f'session = {session}')\n",
    "        \n",
    "        if seed != None:\n",
    "            \n",
    "            options_.append(f'transpile_options = {{\"seed_transpiler\": {seed}}}')\n",
    "\n",
    "        if noise != None:\n",
    "            \n",
    "            options_.append(f'backend_options = {{\"coupling_map\": {noise}().coupling_map, \"noise_model\": NoiseModel.from_backend({noise}())}}')\n",
    "        \n",
    "        for b in options_:\n",
    "            \n",
    "            options += b + ','\n",
    "        \n",
    "        options = options[:-1]\n",
    "\n",
    "        estimator = eval(f'Estimator_Aer({options})')\n",
    "        \n",
    "        mapper = mapper\n",
    "        \n",
    "        ansatz = UCCSD(\n",
    "            es_problem.num_spatial_orbitals,\n",
    "            es_problem.num_particles,\n",
    "            mapper,\n",
    "            initial_state=HartreeFock(\n",
    "                es_problem.num_spatial_orbitals,\n",
    "                es_problem.num_particles,\n",
    "                mapper,\n",
    "            ),\n",
    "        )\n",
    "\n",
    "        vqe_solver = VQE(estimator, ansatz, optimizer)\n",
    "        vqe_solver.initial_point = [0.0] * ansatz.num_parameters\n",
    "        \n",
    "        calc = GroundStateEigensolver(mapper, vqe_solver)\n",
    "        \n",
    "        res = calc.solve(es_problem)\n",
    "        \n",
    "        yield [a, res.groundenergy + res.nuclear_repulsion_energy]"
   ]
  },
  {
   "cell_type": "code",
   "execution_count": 74,
   "metadata": {},
   "outputs": [],
   "source": [
    "def Estimator_intervalo(intervalo, base = \"sto3g\", optimizer = COBYLA(), noise = None, backend = None, session = None, mapper = JordanWignerMapper(), shots = 2048, seed = 1):\n",
    "        \n",
    "    for a in intervalo: \n",
    "        \n",
    "        driver = PySCFDriver(\n",
    "            atom= f\"H 0 0 0; H 0 0 {a}\",\n",
    "            basis=base,\n",
    "            charge=0,\n",
    "            spin=0,\n",
    "            unit=DistanceUnit.ANGSTROM,\n",
    "        )\n",
    "        \n",
    "        es_problem = driver.run()\n",
    "        \n",
    "        hamiltonian = es_problem.hamiltonian\n",
    "    \n",
    "\n",
    "        if session != None and backend != None:\n",
    "            \n",
    "            estimator = Estimator_Qiskit(backend = backend, session = session, options = {'shots': shots})\n",
    "        \n",
    "        elif noise != None:\n",
    "            \n",
    "            estimator = Estimator_Aer(approximation=True, backend_options = {'noise_model':noise}, run_options = {'shots': shots, 'seed' : seed})\n",
    "            \n",
    "        else:\n",
    "            \n",
    "            estimator = Estimator_Nature(options = {'shots': shots})\n",
    "        \n",
    "        mapper = mapper\n",
    "        \n",
    "        ansatz = UCCSD(\n",
    "            es_problem.num_spatial_orbitals,\n",
    "            es_problem.num_particles,\n",
    "            mapper,\n",
    "            initial_state=HartreeFock(\n",
    "                es_problem.num_spatial_orbitals,\n",
    "                es_problem.num_particles,\n",
    "                mapper,\n",
    "            ),\n",
    "        )\n",
    "\n",
    "        vqe_solver = VQE(estimator, ansatz, optimizer)\n",
    "        vqe_solver.initial_point = [0.0] * ansatz.num_parameters\n",
    "        \n",
    "        calc = GroundStateEigensolver(mapper, vqe_solver)\n",
    "        \n",
    "        res = calc.solve(es_problem)\n",
    "        \n",
    "        yield [a, res.groundenergy + res.nuclear_repulsion_energy]"
   ]
  },
  {
   "cell_type": "code",
   "execution_count": 75,
   "metadata": {},
   "outputs": [
    {
     "data": {
      "text/plain": [
       "[[1, -0.8593641372611985]]"
      ]
     },
     "execution_count": 75,
     "metadata": {},
     "output_type": "execute_result"
    }
   ],
   "source": [
    "list(Estimator_intervalo([1], noise = noise_model, shots = 100, seed = 1))"
   ]
  },
  {
   "cell_type": "code",
   "execution_count": null,
   "metadata": {},
   "outputs": [],
   "source": [
    "intervalo_total = np.concatenate(((intervalo := np.concatenate(((intervalo_importante := np.linspace(0.1, (end := 1.5), 15)), np.linspace(end, 3, 10)))), (intervalo_distante := np.linspace(20, 30, 10))))\n",
    "\n",
    "for a in (metodos := range(61, 100, 10)):\n",
    "    \n",
    "   exec(f\"estimator_qiskit_shots_{a} = np.array(list(Estimator_intervalo(intervalo, shots = {a}, session=session, seed = 1)))\")\n",
    "   exec(f'estimator_qiskit_shots_{a}[:, 1] -= (error := - np.polyfit(intervalo_distante, np.array(list(Estimator_intervalo(intervalo_distante, shots = {a}, session=session, seed = 1)))[:,1], 0))')\n",
    "   \n",
    "   exec(f\"estimator_qiskit_essencial_{a} = np.array(list(Estimator_intervalo(np.linspace((minimo := min(estimator_qiskit_shots_{a}, key = lambda x: x[1])[0]) + (erro := minimo * 10/100), minimo - erro, 10), shots = {a}, session=session, seed = 1)))\")\n",
    "   exec(f\"estimator_qiskit_essencial_{a}[:, 1] -= error\")\n",
    "   \n",
    "   exec(f\"estimator_qiskit_shots_total_{a} = np.concatenate((estimator_qiskit_shots_{a}, estimator_qiskit_essencial_{a}))\")\n",
    "   exec(f\"estimator_qiskit_shots_total_{a} = estimator_qiskit_shots_total_{a}[np.argsort(estimator_qiskit_shots_total_{a}[:, 0])]\")\n",
    "   \n",
    "   salvar(f'estimator_qiskit_shots_{a}')\n",
    "   salvar(f'estimator_qiskit_shots_total_{a}')\n",
    "   salvar(f'estimator_qiskit_essencial_{a}')"
   ]
  },
  {
   "cell_type": "code",
   "execution_count": 76,
   "metadata": {},
   "outputs": [
    {
     "ename": "AttributeError",
     "evalue": "type object 'FakeVigoV2' has no attribute 'basis_gates'",
     "output_type": "error",
     "traceback": [
      "\u001b[0;31m---------------------------------------------------------------------------\u001b[0m",
      "\u001b[0;31mAttributeError\u001b[0m                            Traceback (most recent call last)",
      "\u001b[1;32m/Users/Gtortoretto/Documents/IC/Computacao Quantica/Git/Quantum-Computing/Códigos/Gabriel/GroundState6/qiskit_groundstate_6.ipynb Cell 7\u001b[0m line \u001b[0;36m1\n\u001b[0;32m----> <a href='vscode-notebook-cell:/Users/Gtortoretto/Documents/IC/Computacao%20Quantica/Git/Quantum-Computing/C%C3%B3digos/Gabriel/GroundState6/qiskit_groundstate_6.ipynb#X11sZmlsZQ%3D%3D?line=0'>1</a>\u001b[0m \u001b[39mlist\u001b[39;49m(Estimator_intervalo([\u001b[39m1\u001b[39;49m], noise \u001b[39m=\u001b[39;49m FakeVigoV2, shots \u001b[39m=\u001b[39;49m \u001b[39m100\u001b[39;49m, seed \u001b[39m=\u001b[39;49m \u001b[39m1\u001b[39;49m))\n",
      "\u001b[1;32m/Users/Gtortoretto/Documents/IC/Computacao Quantica/Git/Quantum-Computing/Códigos/Gabriel/GroundState6/qiskit_groundstate_6.ipynb Cell 7\u001b[0m line \u001b[0;36m2\n\u001b[1;32m     <a href='vscode-notebook-cell:/Users/Gtortoretto/Documents/IC/Computacao%20Quantica/Git/Quantum-Computing/C%C3%B3digos/Gabriel/GroundState6/qiskit_groundstate_6.ipynb#X11sZmlsZQ%3D%3D?line=19'>20</a>\u001b[0m     estimator \u001b[39m=\u001b[39m Estimator_Qiskit(backend \u001b[39m=\u001b[39m backend, session \u001b[39m=\u001b[39m session, options \u001b[39m=\u001b[39m {\u001b[39m'\u001b[39m\u001b[39mshots\u001b[39m\u001b[39m'\u001b[39m: shots})\n\u001b[1;32m     <a href='vscode-notebook-cell:/Users/Gtortoretto/Documents/IC/Computacao%20Quantica/Git/Quantum-Computing/C%C3%B3digos/Gabriel/GroundState6/qiskit_groundstate_6.ipynb#X11sZmlsZQ%3D%3D?line=21'>22</a>\u001b[0m \u001b[39melif\u001b[39;00m noise \u001b[39m!=\u001b[39m \u001b[39mNone\u001b[39;00m:\n\u001b[0;32m---> <a href='vscode-notebook-cell:/Users/Gtortoretto/Documents/IC/Computacao%20Quantica/Git/Quantum-Computing/C%C3%B3digos/Gabriel/GroundState6/qiskit_groundstate_6.ipynb#X11sZmlsZQ%3D%3D?line=23'>24</a>\u001b[0m     estimator \u001b[39m=\u001b[39m Estimator_Aer(approximation\u001b[39m=\u001b[39;49m\u001b[39mTrue\u001b[39;49;00m, backend_options \u001b[39m=\u001b[39;49m {\u001b[39m'\u001b[39;49m\u001b[39mnoise_model\u001b[39;49m\u001b[39m'\u001b[39;49m:noise}, run_options \u001b[39m=\u001b[39;49m {\u001b[39m'\u001b[39;49m\u001b[39mshots\u001b[39;49m\u001b[39m'\u001b[39;49m: shots, \u001b[39m'\u001b[39;49m\u001b[39mseed\u001b[39;49m\u001b[39m'\u001b[39;49m : seed})\n\u001b[1;32m     <a href='vscode-notebook-cell:/Users/Gtortoretto/Documents/IC/Computacao%20Quantica/Git/Quantum-Computing/C%C3%B3digos/Gabriel/GroundState6/qiskit_groundstate_6.ipynb#X11sZmlsZQ%3D%3D?line=25'>26</a>\u001b[0m \u001b[39melse\u001b[39;00m:\n\u001b[1;32m     <a href='vscode-notebook-cell:/Users/Gtortoretto/Documents/IC/Computacao%20Quantica/Git/Quantum-Computing/C%C3%B3digos/Gabriel/GroundState6/qiskit_groundstate_6.ipynb#X11sZmlsZQ%3D%3D?line=27'>28</a>\u001b[0m     estimator \u001b[39m=\u001b[39m Estimator_Nature(options \u001b[39m=\u001b[39m {\u001b[39m'\u001b[39m\u001b[39mshots\u001b[39m\u001b[39m'\u001b[39m: shots})\n",
      "File \u001b[0;32m/opt/anaconda3/envs/VASP/lib/python3.10/site-packages/qiskit_aer/primitives/estimator.py:111\u001b[0m, in \u001b[0;36mEstimator.__init__\u001b[0;34m(self, backend_options, transpile_options, run_options, approximation, skip_transpilation, abelian_grouping)\u001b[0m\n\u001b[1;32m    107\u001b[0m method \u001b[39m=\u001b[39m (\n\u001b[1;32m    108\u001b[0m     \u001b[39m\"\u001b[39m\u001b[39mdensity_matrix\u001b[39m\u001b[39m\"\u001b[39m \u001b[39mif\u001b[39;00m approximation \u001b[39mand\u001b[39;00m \u001b[39m\"\u001b[39m\u001b[39mnoise_model\u001b[39m\u001b[39m\"\u001b[39m \u001b[39min\u001b[39;00m backend_options \u001b[39melse\u001b[39;00m \u001b[39m\"\u001b[39m\u001b[39mautomatic\u001b[39m\u001b[39m\"\u001b[39m\n\u001b[1;32m    109\u001b[0m )\n\u001b[1;32m    110\u001b[0m \u001b[39mself\u001b[39m\u001b[39m.\u001b[39m_backend \u001b[39m=\u001b[39m AerSimulator(method\u001b[39m=\u001b[39mmethod)\n\u001b[0;32m--> 111\u001b[0m \u001b[39mself\u001b[39;49m\u001b[39m.\u001b[39;49m_backend\u001b[39m.\u001b[39;49mset_options(\u001b[39m*\u001b[39;49m\u001b[39m*\u001b[39;49mbackend_options)\n\u001b[1;32m    112\u001b[0m \u001b[39mself\u001b[39m\u001b[39m.\u001b[39m_transpile_options \u001b[39m=\u001b[39m Options()\n\u001b[1;32m    113\u001b[0m \u001b[39mif\u001b[39;00m transpile_options \u001b[39mis\u001b[39;00m \u001b[39mnot\u001b[39;00m \u001b[39mNone\u001b[39;00m:\n",
      "File \u001b[0;32m/opt/anaconda3/envs/VASP/lib/python3.10/site-packages/qiskit_aer/backends/aerbackend.py:710\u001b[0m, in \u001b[0;36mAerBackend.set_options\u001b[0;34m(self, **fields)\u001b[0m\n\u001b[1;32m    708\u001b[0m \u001b[39m\u001b[39m\u001b[39m\"\"\"Set the simulator options\"\"\"\u001b[39;00m\n\u001b[1;32m    709\u001b[0m \u001b[39mfor\u001b[39;00m key, value \u001b[39min\u001b[39;00m fields\u001b[39m.\u001b[39mitems():\n\u001b[0;32m--> 710\u001b[0m     \u001b[39mself\u001b[39;49m\u001b[39m.\u001b[39;49mset_option(key, value)\n",
      "File \u001b[0;32m/opt/anaconda3/envs/VASP/lib/python3.10/site-packages/qiskit_aer/backends/aer_simulator.py:927\u001b[0m, in \u001b[0;36mAerSimulator.set_option\u001b[0;34m(self, key, value)\u001b[0m\n\u001b[1;32m    925\u001b[0m \u001b[39msuper\u001b[39m()\u001b[39m.\u001b[39mset_option(key, value)\n\u001b[1;32m    926\u001b[0m \u001b[39mif\u001b[39;00m key \u001b[39min\u001b[39;00m [\u001b[39m\"\u001b[39m\u001b[39mmethod\u001b[39m\u001b[39m\"\u001b[39m, \u001b[39m\"\u001b[39m\u001b[39mnoise_model\u001b[39m\u001b[39m\"\u001b[39m, \u001b[39m\"\u001b[39m\u001b[39mbasis_gates\u001b[39m\u001b[39m\"\u001b[39m]:\n\u001b[0;32m--> 927\u001b[0m     \u001b[39mself\u001b[39m\u001b[39m.\u001b[39m_cached_basis_gates \u001b[39m=\u001b[39m \u001b[39mself\u001b[39;49m\u001b[39m.\u001b[39;49m_basis_gates()\n",
      "File \u001b[0;32m/opt/anaconda3/envs/VASP/lib/python3.10/site-packages/qiskit_aer/backends/aer_simulator.py:971\u001b[0m, in \u001b[0;36mAerSimulator._basis_gates\u001b[0;34m(self)\u001b[0m\n\u001b[1;32m    969\u001b[0m noise_model \u001b[39m=\u001b[39m \u001b[39mgetattr\u001b[39m(\u001b[39mself\u001b[39m\u001b[39m.\u001b[39moptions, \u001b[39m\"\u001b[39m\u001b[39mnoise_model\u001b[39m\u001b[39m\"\u001b[39m, \u001b[39mNone\u001b[39;00m)\n\u001b[1;32m    970\u001b[0m \u001b[39mif\u001b[39;00m noise_model:\n\u001b[0;32m--> 971\u001b[0m     noise_gates \u001b[39m=\u001b[39m noise_model\u001b[39m.\u001b[39;49mbasis_gates\n\u001b[1;32m    972\u001b[0m     basis_gates \u001b[39m=\u001b[39m basis_gates\u001b[39m.\u001b[39mintersection(noise_gates)\n\u001b[1;32m    973\u001b[0m \u001b[39melse\u001b[39;00m:\n",
      "\u001b[0;31mAttributeError\u001b[0m: type object 'FakeVigoV2' has no attribute 'basis_gates'"
     ]
    }
   ],
   "source": [
    "list(Estimator_intervalo([1], noise = FakeVigoV2, shots = 100, seed = 1))"
   ]
  },
  {
   "cell_type": "code",
   "execution_count": 20,
   "metadata": {},
   "outputs": [
    {
     "ename": "AccountNotFoundError",
     "evalue": "'Unable to find account.'",
     "output_type": "error",
     "traceback": [
      "\u001b[0;31m---------------------------------------------------------------------------\u001b[0m",
      "\u001b[0;31mAccountNotFoundError\u001b[0m                      Traceback (most recent call last)",
      "\u001b[1;32m/Users/Gtortoretto/Documents/IC/Computacao Quantica/Git/Quantum-Computing/Códigos/Gabriel/GroundState6/qiskit_groundstate_6.ipynb Cell 6\u001b[0m line \u001b[0;36m6\n\u001b[1;32m      <a href='vscode-notebook-cell:/Users/Gtortoretto/Documents/IC/Computacao%20Quantica/Git/Quantum-Computing/C%C3%B3digos/Gabriel/GroundState6/qiskit_groundstate_6.ipynb#W3sZmlsZQ%3D%3D?line=0'>1</a>\u001b[0m intervalo_total \u001b[39m=\u001b[39m np\u001b[39m.\u001b[39mconcatenate(((intervalo \u001b[39m:=\u001b[39m np\u001b[39m.\u001b[39mconcatenate(((intervalo_importante \u001b[39m:=\u001b[39m np\u001b[39m.\u001b[39mlinspace(\u001b[39m0.1\u001b[39m, (end \u001b[39m:=\u001b[39m \u001b[39m1.5\u001b[39m), \u001b[39m15\u001b[39m)), np\u001b[39m.\u001b[39mlinspace(end, \u001b[39m3\u001b[39m, \u001b[39m10\u001b[39m)))), (intervalo_distante \u001b[39m:=\u001b[39m np\u001b[39m.\u001b[39mlinspace(\u001b[39m20\u001b[39m, \u001b[39m30\u001b[39m, \u001b[39m10\u001b[39m))))\n\u001b[1;32m      <a href='vscode-notebook-cell:/Users/Gtortoretto/Documents/IC/Computacao%20Quantica/Git/Quantum-Computing/C%C3%B3digos/Gabriel/GroundState6/qiskit_groundstate_6.ipynb#W3sZmlsZQ%3D%3D?line=3'>4</a>\u001b[0m \u001b[39mfor\u001b[39;00m a \u001b[39min\u001b[39;00m (metodos \u001b[39m:=\u001b[39m \u001b[39mrange\u001b[39m(\u001b[39m60\u001b[39m, \u001b[39m100\u001b[39m, \u001b[39m10\u001b[39m)):\n\u001b[0;32m----> <a href='vscode-notebook-cell:/Users/Gtortoretto/Documents/IC/Computacao%20Quantica/Git/Quantum-Computing/C%C3%B3digos/Gabriel/GroundState6/qiskit_groundstate_6.ipynb#W3sZmlsZQ%3D%3D?line=5'>6</a>\u001b[0m    exec(\u001b[39mf\u001b[39;49m\u001b[39m\"\u001b[39;49m\u001b[39mestimator_qiskit_\u001b[39;49m\u001b[39m{\u001b[39;49;00ma\u001b[39m}\u001b[39;49;00m\u001b[39m = np.array(list(Estimator_intervalo(intervalo, shots = \u001b[39;49m\u001b[39m{\u001b[39;49;00ma\u001b[39m}\u001b[39;49;00m\u001b[39m, seed = 1)))\u001b[39;49m\u001b[39m\"\u001b[39;49m)\n\u001b[1;32m      <a href='vscode-notebook-cell:/Users/Gtortoretto/Documents/IC/Computacao%20Quantica/Git/Quantum-Computing/C%C3%B3digos/Gabriel/GroundState6/qiskit_groundstate_6.ipynb#W3sZmlsZQ%3D%3D?line=6'>7</a>\u001b[0m    exec(\u001b[39mf\u001b[39m\u001b[39m'\u001b[39m\u001b[39mestimator_qiskit_\u001b[39m\u001b[39m{\u001b[39;00ma\u001b[39m}\u001b[39;00m\u001b[39m[:, 1] -= (error := - np.polyfit(intervalo_distante, np.array(list(Estimator_intervalo(intervalo_distante, shots = \u001b[39m\u001b[39m{\u001b[39;00ma\u001b[39m}\u001b[39;00m\u001b[39m, seed = 1)))[:,1], 0))\u001b[39m\u001b[39m'\u001b[39m)\n\u001b[1;32m      <a href='vscode-notebook-cell:/Users/Gtortoretto/Documents/IC/Computacao%20Quantica/Git/Quantum-Computing/C%C3%B3digos/Gabriel/GroundState6/qiskit_groundstate_6.ipynb#W3sZmlsZQ%3D%3D?line=8'>9</a>\u001b[0m    exec(\u001b[39mf\u001b[39m\u001b[39m\"\u001b[39m\u001b[39mestimator_qiskit_essencial_\u001b[39m\u001b[39m{\u001b[39;00ma\u001b[39m}\u001b[39;00m\u001b[39m = np.array(list(Estimator_intervalo(np.linspace((minimo := min(estimator_qiskit_shots_\u001b[39m\u001b[39m{\u001b[39;00ma\u001b[39m}\u001b[39;00m\u001b[39m, key = lambda x: x[1])[0]) + (erro := minimo * 10/100), minimo - erro, 10), shots = \u001b[39m\u001b[39m{\u001b[39;00ma\u001b[39m}\u001b[39;00m\u001b[39m, seed = 1)))\u001b[39m\u001b[39m\"\u001b[39m)\n",
      "File \u001b[0;32m<string>:1\u001b[0m\n",
      "\u001b[1;32m/Users/Gtortoretto/Documents/IC/Computacao Quantica/Git/Quantum-Computing/Códigos/Gabriel/GroundState6/qiskit_groundstate_6.ipynb Cell 6\u001b[0m line \u001b[0;36m6\n\u001b[1;32m     <a href='vscode-notebook-cell:/Users/Gtortoretto/Documents/IC/Computacao%20Quantica/Git/Quantum-Computing/C%C3%B3digos/Gabriel/GroundState6/qiskit_groundstate_6.ipynb#W3sZmlsZQ%3D%3D?line=60'>61</a>\u001b[0m     estimator \u001b[39m=\u001b[39m Estimator_Qiskit(backend \u001b[39m=\u001b[39m backend, session \u001b[39m=\u001b[39m session, options \u001b[39m=\u001b[39m {\u001b[39m'\u001b[39m\u001b[39mshots\u001b[39m\u001b[39m'\u001b[39m: shots})\n\u001b[1;32m     <a href='vscode-notebook-cell:/Users/Gtortoretto/Documents/IC/Computacao%20Quantica/Git/Quantum-Computing/C%C3%B3digos/Gabriel/GroundState6/qiskit_groundstate_6.ipynb#W3sZmlsZQ%3D%3D?line=62'>63</a>\u001b[0m \u001b[39melse\u001b[39;00m:\n\u001b[0;32m---> <a href='vscode-notebook-cell:/Users/Gtortoretto/Documents/IC/Computacao%20Quantica/Git/Quantum-Computing/C%C3%B3digos/Gabriel/GroundState6/qiskit_groundstate_6.ipynb#W3sZmlsZQ%3D%3D?line=64'>65</a>\u001b[0m     estimator \u001b[39m=\u001b[39m Estimator_Qiskit(options \u001b[39m=\u001b[39;49m {\u001b[39m'\u001b[39;49m\u001b[39mshots\u001b[39;49m\u001b[39m'\u001b[39;49m: shots})\n\u001b[1;32m     <a href='vscode-notebook-cell:/Users/Gtortoretto/Documents/IC/Computacao%20Quantica/Git/Quantum-Computing/C%C3%B3digos/Gabriel/GroundState6/qiskit_groundstate_6.ipynb#W3sZmlsZQ%3D%3D?line=66'>67</a>\u001b[0m mapper \u001b[39m=\u001b[39m mapper\n\u001b[1;32m     <a href='vscode-notebook-cell:/Users/Gtortoretto/Documents/IC/Computacao%20Quantica/Git/Quantum-Computing/C%C3%B3digos/Gabriel/GroundState6/qiskit_groundstate_6.ipynb#W3sZmlsZQ%3D%3D?line=68'>69</a>\u001b[0m ansatz \u001b[39m=\u001b[39m UCCSD(\n\u001b[1;32m     <a href='vscode-notebook-cell:/Users/Gtortoretto/Documents/IC/Computacao%20Quantica/Git/Quantum-Computing/C%C3%B3digos/Gabriel/GroundState6/qiskit_groundstate_6.ipynb#W3sZmlsZQ%3D%3D?line=69'>70</a>\u001b[0m     es_problem\u001b[39m.\u001b[39mnum_spatial_orbitals,\n\u001b[1;32m     <a href='vscode-notebook-cell:/Users/Gtortoretto/Documents/IC/Computacao%20Quantica/Git/Quantum-Computing/C%C3%B3digos/Gabriel/GroundState6/qiskit_groundstate_6.ipynb#W3sZmlsZQ%3D%3D?line=70'>71</a>\u001b[0m     es_problem\u001b[39m.\u001b[39mnum_particles,\n\u001b[0;32m   (...)\u001b[0m\n\u001b[1;32m     <a href='vscode-notebook-cell:/Users/Gtortoretto/Documents/IC/Computacao%20Quantica/Git/Quantum-Computing/C%C3%B3digos/Gabriel/GroundState6/qiskit_groundstate_6.ipynb#W3sZmlsZQ%3D%3D?line=76'>77</a>\u001b[0m     ),\n\u001b[1;32m     <a href='vscode-notebook-cell:/Users/Gtortoretto/Documents/IC/Computacao%20Quantica/Git/Quantum-Computing/C%C3%B3digos/Gabriel/GroundState6/qiskit_groundstate_6.ipynb#W3sZmlsZQ%3D%3D?line=77'>78</a>\u001b[0m )\n",
      "File \u001b[0;32m/opt/anaconda3/envs/VASP/lib/python3.10/site-packages/qiskit_ibm_runtime/estimator.py:112\u001b[0m, in \u001b[0;36mEstimator.__init__\u001b[0;34m(self, backend, session, options)\u001b[0m\n\u001b[1;32m    107\u001b[0m \u001b[39m# `self._options` in this class is a Dict.\u001b[39;00m\n\u001b[1;32m    108\u001b[0m \u001b[39m# The base class, however, uses a `_run_options` which is an instance of\u001b[39;00m\n\u001b[1;32m    109\u001b[0m \u001b[39m# qiskit.providers.Options. We largely ignore this _run_options because we use\u001b[39;00m\n\u001b[1;32m    110\u001b[0m \u001b[39m# a nested dictionary to categorize options.\u001b[39;00m\n\u001b[1;32m    111\u001b[0m BaseEstimator\u001b[39m.\u001b[39m\u001b[39m__init__\u001b[39m(\u001b[39mself\u001b[39m)\n\u001b[0;32m--> 112\u001b[0m BasePrimitive\u001b[39m.\u001b[39;49m\u001b[39m__init__\u001b[39;49m(\u001b[39mself\u001b[39;49m, backend\u001b[39m=\u001b[39;49mbackend, session\u001b[39m=\u001b[39;49msession, options\u001b[39m=\u001b[39;49moptions)\n",
      "File \u001b[0;32m/opt/anaconda3/envs/VASP/lib/python3.10/site-packages/qiskit_ibm_runtime/base_primitive.py:117\u001b[0m, in \u001b[0;36mBasePrimitive.__init__\u001b[0;34m(self, backend, session, options)\u001b[0m\n\u001b[1;32m    112\u001b[0m     \u001b[39mself\u001b[39m\u001b[39m.\u001b[39m_backend \u001b[39m=\u001b[39m \u001b[39mself\u001b[39m\u001b[39m.\u001b[39m_service\u001b[39m.\u001b[39mbackend(\n\u001b[1;32m    113\u001b[0m         name\u001b[39m=\u001b[39m\u001b[39mself\u001b[39m\u001b[39m.\u001b[39m_session\u001b[39m.\u001b[39mbackend(), instance\u001b[39m=\u001b[39m\u001b[39mself\u001b[39m\u001b[39m.\u001b[39m_session\u001b[39m.\u001b[39m_instance\n\u001b[1;32m    114\u001b[0m     )\n\u001b[1;32m    115\u001b[0m \u001b[39melse\u001b[39;00m:\n\u001b[1;32m    116\u001b[0m     \u001b[39mself\u001b[39m\u001b[39m.\u001b[39m_service \u001b[39m=\u001b[39m (\n\u001b[0;32m--> 117\u001b[0m         QiskitRuntimeService()\n\u001b[1;32m    118\u001b[0m         \u001b[39mif\u001b[39;00m QiskitRuntimeService\u001b[39m.\u001b[39mglobal_service \u001b[39mis\u001b[39;00m \u001b[39mNone\u001b[39;00m\n\u001b[1;32m    119\u001b[0m         \u001b[39melse\u001b[39;00m QiskitRuntimeService\u001b[39m.\u001b[39mglobal_service\n\u001b[1;32m    120\u001b[0m     )\n\u001b[1;32m    121\u001b[0m     \u001b[39mif\u001b[39;00m \u001b[39mself\u001b[39m\u001b[39m.\u001b[39m_service\u001b[39m.\u001b[39mchannel \u001b[39m!=\u001b[39m \u001b[39m\"\u001b[39m\u001b[39mibm_cloud\u001b[39m\u001b[39m\"\u001b[39m:\n\u001b[1;32m    122\u001b[0m         \u001b[39mraise\u001b[39;00m \u001b[39mValueError\u001b[39;00m(\n\u001b[1;32m    123\u001b[0m             \u001b[39m\"\u001b[39m\u001b[39mA backend or session must be specified when not using ibm_cloud channel.\u001b[39m\u001b[39m\"\u001b[39m\n\u001b[1;32m    124\u001b[0m         )\n",
      "File \u001b[0;32m/opt/anaconda3/envs/VASP/lib/python3.10/site-packages/qiskit_ibm_runtime/qiskit_runtime_service.py:183\u001b[0m, in \u001b[0;36mQiskitRuntimeService.__init__\u001b[0;34m(self, channel, token, url, filename, name, instance, proxies, verify, channel_strategy)\u001b[0m\n\u001b[1;32m    140\u001b[0m \u001b[39m\u001b[39m\u001b[39m\"\"\"QiskitRuntimeService constructor\u001b[39;00m\n\u001b[1;32m    141\u001b[0m \n\u001b[1;32m    142\u001b[0m \u001b[39mAn account is selected in the following order:\u001b[39;00m\n\u001b[0;32m   (...)\u001b[0m\n\u001b[1;32m    179\u001b[0m \u001b[39m    IBMInputValueError: If an input is invalid.\u001b[39;00m\n\u001b[1;32m    180\u001b[0m \u001b[39m\"\"\"\u001b[39;00m\n\u001b[1;32m    181\u001b[0m \u001b[39msuper\u001b[39m()\u001b[39m.\u001b[39m\u001b[39m__init__\u001b[39m()\n\u001b[0;32m--> 183\u001b[0m \u001b[39mself\u001b[39m\u001b[39m.\u001b[39m_account \u001b[39m=\u001b[39m \u001b[39mself\u001b[39;49m\u001b[39m.\u001b[39;49m_discover_account(\n\u001b[1;32m    184\u001b[0m     token\u001b[39m=\u001b[39;49mtoken,\n\u001b[1;32m    185\u001b[0m     url\u001b[39m=\u001b[39;49murl,\n\u001b[1;32m    186\u001b[0m     instance\u001b[39m=\u001b[39;49minstance,\n\u001b[1;32m    187\u001b[0m     channel\u001b[39m=\u001b[39;49mchannel,\n\u001b[1;32m    188\u001b[0m     filename\u001b[39m=\u001b[39;49mfilename,\n\u001b[1;32m    189\u001b[0m     name\u001b[39m=\u001b[39;49mname,\n\u001b[1;32m    190\u001b[0m     proxies\u001b[39m=\u001b[39;49mProxyConfiguration(\u001b[39m*\u001b[39;49m\u001b[39m*\u001b[39;49mproxies) \u001b[39mif\u001b[39;49;00m proxies \u001b[39melse\u001b[39;49;00m \u001b[39mNone\u001b[39;49;00m,\n\u001b[1;32m    191\u001b[0m     verify\u001b[39m=\u001b[39;49mverify,\n\u001b[1;32m    192\u001b[0m     channel_strategy\u001b[39m=\u001b[39;49mchannel_strategy,\n\u001b[1;32m    193\u001b[0m )\n\u001b[1;32m    195\u001b[0m \u001b[39mself\u001b[39m\u001b[39m.\u001b[39m_client_params \u001b[39m=\u001b[39m ClientParameters(\n\u001b[1;32m    196\u001b[0m     channel\u001b[39m=\u001b[39m\u001b[39mself\u001b[39m\u001b[39m.\u001b[39m_account\u001b[39m.\u001b[39mchannel,\n\u001b[1;32m    197\u001b[0m     token\u001b[39m=\u001b[39m\u001b[39mself\u001b[39m\u001b[39m.\u001b[39m_account\u001b[39m.\u001b[39mtoken,\n\u001b[0;32m   (...)\u001b[0m\n\u001b[1;32m    201\u001b[0m     verify\u001b[39m=\u001b[39m\u001b[39mself\u001b[39m\u001b[39m.\u001b[39m_account\u001b[39m.\u001b[39mverify,\n\u001b[1;32m    202\u001b[0m )\n\u001b[1;32m    204\u001b[0m \u001b[39mself\u001b[39m\u001b[39m.\u001b[39m_channel_strategy \u001b[39m=\u001b[39m channel_strategy \u001b[39mor\u001b[39;00m \u001b[39mself\u001b[39m\u001b[39m.\u001b[39m_account\u001b[39m.\u001b[39mchannel_strategy\n",
      "File \u001b[0;32m/opt/anaconda3/envs/VASP/lib/python3.10/site-packages/qiskit_ibm_runtime/qiskit_runtime_service.py:307\u001b[0m, in \u001b[0;36mQiskitRuntimeService._discover_account\u001b[0;34m(self, token, url, instance, channel, filename, name, proxies, verify, channel_strategy)\u001b[0m\n\u001b[1;32m    305\u001b[0m \u001b[39m# channel is not defined yet, get it from the AccountManager\u001b[39;00m\n\u001b[1;32m    306\u001b[0m \u001b[39mif\u001b[39;00m account \u001b[39mis\u001b[39;00m \u001b[39mNone\u001b[39;00m:\n\u001b[0;32m--> 307\u001b[0m     account \u001b[39m=\u001b[39m AccountManager\u001b[39m.\u001b[39;49mget(filename\u001b[39m=\u001b[39;49mfilename)\n\u001b[1;32m    309\u001b[0m \u001b[39mif\u001b[39;00m instance:\n\u001b[1;32m    310\u001b[0m     account\u001b[39m.\u001b[39minstance \u001b[39m=\u001b[39m instance\n",
      "File \u001b[0;32m/opt/anaconda3/envs/VASP/lib/python3.10/site-packages/qiskit_ibm_runtime/accounts/management.py:196\u001b[0m, in \u001b[0;36mAccountManager.get\u001b[0;34m(cls, filename, name, channel)\u001b[0m\n\u001b[1;32m    193\u001b[0m     \u001b[39mif\u001b[39;00m account_name \u001b[39min\u001b[39;00m all_config:\n\u001b[1;32m    194\u001b[0m         \u001b[39mreturn\u001b[39;00m Account\u001b[39m.\u001b[39mfrom_saved_format(all_config[account_name])\n\u001b[0;32m--> 196\u001b[0m \u001b[39mraise\u001b[39;00m AccountNotFoundError(\u001b[39m\"\u001b[39m\u001b[39mUnable to find account.\u001b[39m\u001b[39m\"\u001b[39m)\n",
      "\u001b[0;31mAccountNotFoundError\u001b[0m: 'Unable to find account.'"
     ]
    }
   ],
   "source": [
    "intervalo_total = np.concatenate(((intervalo := np.concatenate(((intervalo_importante := np.linspace(0.1, (end := 1.5), 15)), np.linspace(end, 3, 10)))), (intervalo_distante := np.linspace(20, 30, 10))))\n",
    "   \n",
    "\n",
    "for a in (metodos := range(60, 100, 10)):\n",
    "    \n",
    "   exec(f\"estimator_qiskit_{a} = np.array(list(Estimator_intervalo(intervalo, shots = {a}, seed = 1)))\")\n",
    "   exec(f'estimator_qiskit_{a}[:, 1] -= (error := - np.polyfit(intervalo_distante, np.array(list(Estimator_intervalo(intervalo_distante, shots = {a}, seed = 1)))[:,1], 0))')\n",
    "   \n",
    "   exec(f\"estimator_qiskit_essencial_{a} = np.array(list(Estimator_intervalo(np.linspace((minimo := min(estimator_qiskit_shots_{a}, key = lambda x: x[1])[0]) + (erro := minimo * 10/100), minimo - erro, 10), shots = {a}, seed = 1)))\")\n",
    "   exec(f\"estimator_qiskit_essencial_{a}[:, 1] -= error\")\n",
    "   \n",
    "   exec(f\"estimator_qiskit_total_{a} = np.concatenate((estimator_qiskit_shots_{a}, estimator_qiskit_essencial_{a}))\")\n",
    "   exec(f\"estimator_qiskit_total_{a} = estimator_qiskit_shots_total_{a}[np.argsort(estimator_qiskit_shots_total_{a}[:, 0])]\")\n",
    "   \n",
    "   salvar(f'estimator_qiskit_{a}')\n",
    "   salvar(f'estimator_qiskit_shots_total_{a}')\n",
    "   salvar(f'estimator_qiskit_essencial_{a}')"
   ]
  },
  {
   "cell_type": "code",
   "execution_count": 77,
   "metadata": {},
   "outputs": [
    {
     "ename": "ImportError",
     "evalue": "cannot import name 'FakeVigo' from 'qiskit.providers.fake_provider' (/opt/anaconda3/envs/VASP/lib/python3.10/site-packages/qiskit/providers/fake_provider/__init__.py)",
     "output_type": "error",
     "traceback": [
      "\u001b[0;31m---------------------------------------------------------------------------\u001b[0m",
      "\u001b[0;31mImportError\u001b[0m                               Traceback (most recent call last)",
      "\u001b[1;32m/Users/Gtortoretto/Documents/IC/Computacao Quantica/Git/Quantum-Computing/Códigos/Gabriel/GroundState6/qiskit_groundstate_6.ipynb Cell 9\u001b[0m line \u001b[0;36m1\n\u001b[0;32m----> <a href='vscode-notebook-cell:/Users/Gtortoretto/Documents/IC/Computacao%20Quantica/Git/Quantum-Computing/C%C3%B3digos/Gabriel/GroundState6/qiskit_groundstate_6.ipynb#W5sZmlsZQ%3D%3D?line=0'>1</a>\u001b[0m \u001b[39mfrom\u001b[39;00m \u001b[39mqiskit\u001b[39;00m\u001b[39m.\u001b[39;00m\u001b[39mproviders\u001b[39;00m\u001b[39m.\u001b[39;00m\u001b[39mfake_provider\u001b[39;00m \u001b[39mimport\u001b[39;00m FakeVigo\n",
      "\u001b[0;31mImportError\u001b[0m: cannot import name 'FakeVigo' from 'qiskit.providers.fake_provider' (/opt/anaconda3/envs/VASP/lib/python3.10/site-packages/qiskit/providers/fake_provider/__init__.py)"
     ]
    }
   ],
   "source": [
    "from qiskit.providers.fake_provider import FakeVigo"
   ]
  },
  {
   "cell_type": "code",
   "execution_count": null,
   "metadata": {},
   "outputs": [],
   "source": []
  }
 ],
 "metadata": {
  "kernelspec": {
   "display_name": "Python 3",
   "language": "python",
   "name": "python3"
  },
  "language_info": {
   "codemirror_mode": {
    "name": "ipython",
    "version": 3
   },
   "file_extension": ".py",
   "mimetype": "text/x-python",
   "name": "python",
   "nbconvert_exporter": "python",
   "pygments_lexer": "ipython3",
   "version": "3.10.11"
  }
 },
 "nbformat": 4,
 "nbformat_minor": 2
}
