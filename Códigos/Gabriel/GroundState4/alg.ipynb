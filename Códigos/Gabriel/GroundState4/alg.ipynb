{
 "cells": [
  {
   "cell_type": "code",
   "execution_count": null,
   "metadata": {},
   "outputs": [],
   "source": [
    "def comparapadrao(a, b):\n",
    "    m, n = len(a), len(b)\n",
    "    conta = 0\n",
    "    \n",
    "    for k in range(n - m + 1):\n",
    "        \n",
    "        i, j = 0, k\n",
    "        \n",
    "        while i < m:\n",
    "    \n",
    "            print(i, j)\n",
    "            \n",
    "            if a[i] != b[j]: break\n",
    "            \n",
    "            i, j = i + 1, j + 1\n",
    "        \n",
    "        if i == m: conta += 1\n",
    "    \n",
    "    return conta"
   ]
  }
 ],
 "metadata": {
  "language_info": {
   "name": "python"
  }
 },
 "nbformat": 4,
 "nbformat_minor": 2
}
